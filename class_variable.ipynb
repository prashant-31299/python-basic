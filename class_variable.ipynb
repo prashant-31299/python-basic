{
 "cells": [
  {
   "cell_type": "code",
   "execution_count": 3,
   "source": [
    "#Inside Constructor by using Self Variable:\r\n",
    "#We can declare instance variables inside a constructor by using self keyword. Once we \r\n",
    "#creates object, automatically these variables will be added to the object.\r\n",
    "class std:\r\n",
    "    def __init__(self) -> None:\r\n",
    "         self.name=\"prashant\"\r\n",
    "         self.roll = 20\r\n",
    "         self.cla=\"Ao\"\r\n",
    "s = std()\r\n",
    "print(s.__dict__) # dict return dictionary valur"
   ],
   "outputs": [
    {
     "output_type": "stream",
     "name": "stdout",
     "text": [
      "{'name': 'prashant', 'roll': 20, 'cla': 'Ao'}\n"
     ]
    }
   ],
   "metadata": {}
  },
  {
   "cell_type": "code",
   "execution_count": 11,
   "source": [
    "# inside instace method using self variable\r\n",
    "class test:\r\n",
    "    def __init__(self) -> None:\r\n",
    "        self.a=10\r\n",
    "        self.b=20\r\n",
    "\r\n",
    "    def m1(self):\r\n",
    "        self.c=30\r\n",
    "\r\n",
    "t= test()\r\n",
    "t.m1()\r\n",
    "print(t.a)\r\n",
    "print(t.__dict__)"
   ],
   "outputs": [
    {
     "output_type": "stream",
     "name": "stdout",
     "text": [
      "10\n",
      "{'a': 10, 'b': 20, 'c': 30}\n"
     ]
    }
   ],
   "metadata": {}
  },
  {
   "cell_type": "code",
   "execution_count": 13,
   "source": [
    "#outside of the class using object reffrence variable\r\n",
    "class test:\r\n",
    "    def __init__(self):\r\n",
    "        self.a=10\r\n",
    "        self.b=20\r\n",
    "\r\n",
    "    def m1(self):       # instance method \r\n",
    "        self.c =30\r\n",
    "\r\n",
    "t=test()\r\n",
    "t.m1()\r\n",
    "t.d=40   # this is a ouutside of the function\r\n",
    "\r\n",
    "print(t.__dict__)"
   ],
   "outputs": [
    {
     "output_type": "stream",
     "name": "stdout",
     "text": [
      "{'a': 10, 'b': 20, 'c': 30, 'd': 40}\n"
     ]
    }
   ],
   "metadata": {}
  },
  {
   "cell_type": "code",
   "execution_count": 16,
   "source": [
    "class test:\r\n",
    "    def __init__(self) -> None:\r\n",
    "        self.a=10\r\n",
    "        self.b=20\r\n",
    "    def m1(self):\r\n",
    "        print(self.a)\r\n",
    "        print(self.b)\r\n",
    "\r\n",
    "t=test()\r\n",
    "t.m1()\r\n",
    "print(t.a,t.b)\r\n"
   ],
   "outputs": [
    {
     "output_type": "stream",
     "name": "stdout",
     "text": [
      "10\n",
      "20\n",
      "10 20\n"
     ]
    }
   ],
   "metadata": {}
  },
  {
   "cell_type": "code",
   "execution_count": 9,
   "source": [
    "#How to delete Instance Variable from the Object:\r\n",
    "#1) Within a class we can delete instance variable as follows \r\n",
    "#del self.variableName\r\n",
    "#2) From outside of class we can delete instance variables as follows \r\n",
    "#del objectreference.variableName\r\n",
    "class test:\r\n",
    "    def __init__(self) -> None:\r\n",
    "        self.a =10\r\n",
    "        self.b = 20\r\n",
    "        self.c =30\r\n",
    "        self.d=40\r\n",
    "    def m1(self):\r\n",
    "        del self.d\r\n",
    "\r\n",
    "t=test()\r\n",
    "del t.c\r\n",
    "print(t.__dict__)\r\n",
    "t.m1()\r\n",
    "print(t.__dict__)"
   ],
   "outputs": [
    {
     "output_type": "stream",
     "name": "stdout",
     "text": [
      "{'a': 10, 'b': 20, 'd': 40}\n",
      "{'a': 10, 'b': 20}\n"
     ]
    }
   ],
   "metadata": {}
  },
  {
   "cell_type": "code",
   "execution_count": 11,
   "source": [
    "#Note: The instance variables which are deleted from one object,will not be deleted from \r\n",
    "#other objects.\r\n",
    "\r\n",
    "class test:\r\n",
    "    def __init__(self) -> None:\r\n",
    "        self.a=10\r\n",
    "        self.b=20\r\n",
    "        self.c=30\r\n",
    "        self.d=40\r\n",
    "\r\n",
    "s1 =test()\r\n",
    "s2 =test()\r\n",
    "del s1.a\r\n",
    "print(s1.__dict__)\r\n",
    "\r\n",
    "print(s2.__dict__)\r\n",
    "\r\n"
   ],
   "outputs": [
    {
     "output_type": "stream",
     "name": "stdout",
     "text": [
      "{'b': 20, 'c': 30, 'd': 40}\n",
      "{'a': 10, 'b': 20, 'c': 30, 'd': 40}\n"
     ]
    }
   ],
   "metadata": {}
  },
  {
   "cell_type": "code",
   "execution_count": 12,
   "source": [
    "#If we change the values of instance variables of one object then those changes won't be \r\n",
    "#reflected to the remaining objects, because for every object we are separate copy of \r\n",
    "#instance variables are available.\r\n",
    "class test:\r\n",
    "    def __init__(self) -> None:\r\n",
    "        self.a=10\r\n",
    "        self.b=20\r\n",
    "        self.c=30\r\n",
    "        self.d=40\r\n",
    "\r\n",
    "s1 =test()\r\n",
    "s2 =test()\r\n",
    "s1.a=120\r\n",
    "s1.c=400\r\n",
    "print(s1.__dict__)\r\n",
    "\r\n",
    "print(s2.__dict__)\r\n"
   ],
   "outputs": [
    {
     "output_type": "stream",
     "name": "stdout",
     "text": [
      "{'a': 120, 'b': 20, 'c': 400, 'd': 40}\n",
      "{'a': 10, 'b': 20, 'c': 30, 'd': 40}\n"
     ]
    }
   ],
   "metadata": {}
  },
  {
   "cell_type": "markdown",
   "source": [
    "2)Static Variables:\r\n",
    "☕ If the value of a variable is not varied from object to object, such type of variables we \r\n",
    "have to declare with in the class directly but outside of methods. Such types of \r\n",
    "variables are called Static variables.\r\n",
    "☕ For total class only one copy of static variable will be created and shared by all objects \r\n",
    "of that class.\r\n",
    "☕ We can access static variables either by class name or by object reference. But \r\n",
    "recommended to use class name.\r\n"
   ],
   "metadata": {}
  },
  {
   "cell_type": "markdown",
   "source": [],
   "metadata": {}
  },
  {
   "cell_type": "code",
   "execution_count": 7,
   "source": [
    "class work:\r\n",
    "    x=100\r\n",
    "    def __init__(self) -> None:\r\n",
    "        self.y=200\r\n",
    "\r\n",
    "t1 =work()\r\n",
    "t2 =work()\r\n",
    "print(t1.x,t1.y)\r\n",
    "print(t2.x,t2.y)\r\n",
    "work.x =800\r\n",
    "t1.y= 50\r\n",
    "\r\n",
    "print(t1.x,t1.y)\r\n",
    "print(t2.x,t2.y)"
   ],
   "outputs": [
    {
     "output_type": "stream",
     "name": "stdout",
     "text": [
      "100 200\n",
      "100 200\n",
      "800 50\n",
      "800 200\n"
     ]
    }
   ],
   "metadata": {}
  },
  {
   "cell_type": "markdown",
   "source": [],
   "metadata": {}
  },
  {
   "cell_type": "code",
   "execution_count": 4,
   "source": [
    "class test:\r\n",
    "    a= 10\r\n",
    "    def __init__(self) -> None:\r\n",
    "        print(self.a)\r\n",
    "        print(test.a)\r\n",
    "    def m1(self):\r\n",
    "            print(self.a)\r\n",
    "            print(test.a)\r\n",
    "    @classmethod\r\n",
    "    def m2(cls):\r\n",
    "        print(cls.a)\r\n",
    "        print(test.a)\r\n",
    "    @staticmethod\r\n",
    "    def m3():\r\n",
    "        print(test.a)\r\n",
    "\r\n",
    "t=test()\r\n",
    "print(test.a)\r\n",
    "print(t.a)\r\n",
    "t.m1()\r\n",
    "t.m2()\r\n",
    "t.m3()    \r\n"
   ],
   "outputs": [
    {
     "output_type": "stream",
     "name": "stdout",
     "text": [
      "10\n",
      "10\n",
      "10\n",
      "10\n",
      "10\n",
      "10\n",
      "10\n",
      "10\n",
      "10\n"
     ]
    }
   ],
   "metadata": {}
  },
  {
   "cell_type": "code",
   "execution_count": null,
   "source": [
    "de"
   ],
   "outputs": [],
   "metadata": {}
  },
  {
   "cell_type": "code",
   "execution_count": null,
   "source": [
    "##local variable\r\n",
    "##3)Local Variables:\r\n",
    "#⚽ Sometimes to meet temporary requirements of programmer,we can declare variables \r\n",
    "#inside a method directly,such type of variables are called local variable or temporary \r\n",
    "#variables.\r\n",
    "#⚽ Local variables will be created at the time of method execution and destroyed once \r\n",
    "#method completes.\r\n",
    "#⚽ Local variables of a method cannot be accessed from outside of method"
   ],
   "outputs": [],
   "metadata": {}
  },
  {
   "cell_type": "code",
   "execution_count": 11,
   "source": [
    "class test:\r\n",
    "    def m1(self):\r\n",
    "        a=10\r\n",
    "        print(a)\r\n",
    "    def m2(self):\r\n",
    "        b=20\r\n",
    "        print(b)\r\n",
    "t =test()\r\n",
    "t.m1()\r\n",
    "t.m2()"
   ],
   "outputs": [
    {
     "output_type": "stream",
     "name": "stdout",
     "text": [
      "10\n",
      "20\n"
     ]
    }
   ],
   "metadata": {}
  },
  {
   "cell_type": "code",
   "execution_count": 1,
   "source": [
    "class test:\r\n",
    "    def m1(self):\r\n",
    "        a=10\r\n",
    "        print(a)\r\n",
    "    def m2(self):\r\n",
    "        b=20\r\n",
    "        print(b)\r\n",
    "        print(a) # #NameError: name 'a' is not define\r\n",
    "t =test()\r\n",
    "t.m1()\r\n",
    "t.m2()\r\n",
    "print(test.__dict__)"
   ],
   "outputs": [
    {
     "output_type": "stream",
     "name": "stdout",
     "text": [
      "10\n",
      "20\n"
     ]
    },
    {
     "output_type": "error",
     "ename": "NameError",
     "evalue": "name 'a' is not defined",
     "traceback": [
      "\u001b[1;31m---------------------------------------------------------------------------\u001b[0m",
      "\u001b[1;31mNameError\u001b[0m                                 Traceback (most recent call last)",
      "\u001b[1;32m~\\AppData\\Local\\Temp/ipykernel_4172/1296372496.py\u001b[0m in \u001b[0;36m<module>\u001b[1;34m\u001b[0m\n\u001b[0;32m      9\u001b[0m \u001b[0mt\u001b[0m \u001b[1;33m=\u001b[0m\u001b[0mtest\u001b[0m\u001b[1;33m(\u001b[0m\u001b[1;33m)\u001b[0m\u001b[1;33m\u001b[0m\u001b[1;33m\u001b[0m\u001b[0m\n\u001b[0;32m     10\u001b[0m \u001b[0mt\u001b[0m\u001b[1;33m.\u001b[0m\u001b[0mm1\u001b[0m\u001b[1;33m(\u001b[0m\u001b[1;33m)\u001b[0m\u001b[1;33m\u001b[0m\u001b[1;33m\u001b[0m\u001b[0m\n\u001b[1;32m---> 11\u001b[1;33m \u001b[0mt\u001b[0m\u001b[1;33m.\u001b[0m\u001b[0mm2\u001b[0m\u001b[1;33m(\u001b[0m\u001b[1;33m)\u001b[0m\u001b[1;33m\u001b[0m\u001b[1;33m\u001b[0m\u001b[0m\n\u001b[0m\u001b[0;32m     12\u001b[0m \u001b[0mprint\u001b[0m\u001b[1;33m(\u001b[0m\u001b[0mtest\u001b[0m\u001b[1;33m.\u001b[0m\u001b[0m__dict__\u001b[0m\u001b[1;33m)\u001b[0m\u001b[1;33m\u001b[0m\u001b[1;33m\u001b[0m\u001b[0m\n",
      "\u001b[1;32m~\\AppData\\Local\\Temp/ipykernel_4172/1296372496.py\u001b[0m in \u001b[0;36mm2\u001b[1;34m(self)\u001b[0m\n\u001b[0;32m      6\u001b[0m         \u001b[0mb\u001b[0m\u001b[1;33m=\u001b[0m\u001b[1;36m20\u001b[0m\u001b[1;33m\u001b[0m\u001b[1;33m\u001b[0m\u001b[0m\n\u001b[0;32m      7\u001b[0m         \u001b[0mprint\u001b[0m\u001b[1;33m(\u001b[0m\u001b[0mb\u001b[0m\u001b[1;33m)\u001b[0m\u001b[1;33m\u001b[0m\u001b[1;33m\u001b[0m\u001b[0m\n\u001b[1;32m----> 8\u001b[1;33m         \u001b[0mprint\u001b[0m\u001b[1;33m(\u001b[0m\u001b[0ma\u001b[0m\u001b[1;33m)\u001b[0m \u001b[1;31m# #NameError: name 'a' is not define\u001b[0m\u001b[1;33m\u001b[0m\u001b[1;33m\u001b[0m\u001b[0m\n\u001b[0m\u001b[0;32m      9\u001b[0m \u001b[0mt\u001b[0m \u001b[1;33m=\u001b[0m\u001b[0mtest\u001b[0m\u001b[1;33m(\u001b[0m\u001b[1;33m)\u001b[0m\u001b[1;33m\u001b[0m\u001b[1;33m\u001b[0m\u001b[0m\n\u001b[0;32m     10\u001b[0m \u001b[0mt\u001b[0m\u001b[1;33m.\u001b[0m\u001b[0mm1\u001b[0m\u001b[1;33m(\u001b[0m\u001b[1;33m)\u001b[0m\u001b[1;33m\u001b[0m\u001b[1;33m\u001b[0m\u001b[0m\n",
      "\u001b[1;31mNameError\u001b[0m: name 'a' is not defined"
     ]
    }
   ],
   "metadata": {}
  },
  {
   "cell_type": "markdown",
   "source": [],
   "metadata": {}
  },
  {
   "cell_type": "code",
   "execution_count": 2,
   "source": [
    "#geting average using local veriable\r\n",
    "class test:\r\n",
    "    def average(self,list):\r\n",
    "        result = sum(list)/len(list)\r\n",
    "        print(result)\r\n",
    "    \r\n",
    "t =test()\r\n",
    "t.average([10,20,30,40,50])"
   ],
   "outputs": [
    {
     "output_type": "stream",
     "name": "stdout",
     "text": [
      "30.0\n"
     ]
    }
   ],
   "metadata": {}
  },
  {
   "cell_type": "markdown",
   "source": [],
   "metadata": {}
  },
  {
   "cell_type": "code",
   "execution_count": 5,
   "source": [
    "#local and global\r\n",
    "x = 10  #global variable\r\n",
    "class test:\r\n",
    "    t = 788\r\n",
    "    def m1(self):\r\n",
    "        print(x)\r\n",
    "        print(self.t)\r\n",
    "\r\n",
    "\r\n",
    "t=test()\r\n",
    "t.m1()\r\n"
   ],
   "outputs": [
    {
     "output_type": "stream",
     "name": "stdout",
     "text": [
      "10\n",
      "788\n"
     ]
    }
   ],
   "metadata": {}
  }
 ],
 "metadata": {
  "orig_nbformat": 4,
  "language_info": {
   "name": "python",
   "version": "3.9.6",
   "mimetype": "text/x-python",
   "codemirror_mode": {
    "name": "ipython",
    "version": 3
   },
   "pygments_lexer": "ipython3",
   "nbconvert_exporter": "python",
   "file_extension": ".py"
  },
  "kernelspec": {
   "name": "python3",
   "display_name": "Python 3.9.6 64-bit"
  },
  "interpreter": {
   "hash": "ac59ebe37160ed0dfa835113d9b8498d9f09ceb179beaac4002f036b9467c963"
  }
 },
 "nbformat": 4,
 "nbformat_minor": 2
}