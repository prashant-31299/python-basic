{
 "cells": [
  {
   "cell_type": "markdown",
   "source": [
    "I. Iterative Statements\r\n",
    "֍ If we want to execute a group of statements multiple times then we should go for \r\n",
    "Iterative statements.\r\n",
    "֍ Python supports 2 types of iterative statements.\r\n",
    "1) for loop\r\n",
    "2) while loop\r\n"
   ],
   "metadata": {}
  },
  {
   "cell_type": "markdown",
   "source": [
    "for loop \r\n",
    " Syntax: for x in sequence:\r\n",
    " Body"
   ],
   "metadata": {}
  },
  {
   "cell_type": "code",
   "execution_count": 3,
   "source": [
    "name = \"richard\"\r\n",
    "for i in name:\r\n",
    "    print(i)"
   ],
   "outputs": [
    {
     "output_type": "stream",
     "name": "stdout",
     "text": [
      "r\n",
      "i\n",
      "c\n",
      "h\n",
      "a\n",
      "r\n",
      "d\n"
     ]
    }
   ],
   "metadata": {}
  },
  {
   "cell_type": "code",
   "execution_count": 22,
   "source": [
    "s=input()\r\n",
    "i=0\r\n",
    "for x in s: \r\n",
    "    print(\"The character present at \",i,\"index is :\",x) \r\n",
    "    i=i+1\r\n"
   ],
   "outputs": [
    {
     "output_type": "stream",
     "name": "stdout",
     "text": [
      "The character present at  0 index is : r\n",
      "The character present at  1 index is : g\n",
      "The character present at  2 index is : z\n",
      "The character present at  3 index is : d\n",
      "The character present at  4 index is : f\n",
      "The character present at  5 index is : h\n",
      "The character present at  6 index is : g\n",
      "The character present at  7 index is : a\n"
     ]
    }
   ],
   "metadata": {}
  },
  {
   "cell_type": "code",
   "execution_count": 42,
   "source": [
    "for i in range(10,1,-1):\r\n",
    "    print(\"hallow \",i)"
   ],
   "outputs": [
    {
     "output_type": "stream",
     "name": "stdout",
     "text": [
      "hallow  10\n",
      "hallow  9\n",
      "hallow  8\n",
      "hallow  7\n",
      "hallow  6\n",
      "hallow  5\n",
      "hallow  4\n",
      "hallow  3\n",
      "hallow  2\n"
     ]
    }
   ],
   "metadata": {}
  },
  {
   "cell_type": "code",
   "execution_count": 29,
   "source": [
    "for i in range(11):\r\n",
    "    print(i)"
   ],
   "outputs": [
    {
     "output_type": "stream",
     "name": "stdout",
     "text": [
      "0\n",
      "1\n",
      "2\n",
      "3\n",
      "4\n",
      "5\n",
      "6\n",
      "7\n",
      "8\n",
      "9\n",
      "10\n"
     ]
    }
   ],
   "metadata": {}
  },
  {
   "cell_type": "code",
   "execution_count": 44,
   "source": [
    "#print even number\r\n",
    "for i in range(100):\r\n",
    "    if(i%2==0):\r\n",
    "        print(i)"
   ],
   "outputs": [
    {
     "output_type": "stream",
     "name": "stdout",
     "text": [
      "0\n",
      "2\n",
      "4\n",
      "6\n",
      "8\n",
      "10\n",
      "12\n",
      "14\n",
      "16\n",
      "18\n",
      "20\n",
      "22\n",
      "24\n",
      "26\n",
      "28\n",
      "30\n",
      "32\n",
      "34\n",
      "36\n",
      "38\n",
      "40\n",
      "42\n",
      "44\n",
      "46\n",
      "48\n",
      "50\n",
      "52\n",
      "54\n",
      "56\n",
      "58\n",
      "60\n",
      "62\n",
      "64\n",
      "66\n",
      "68\n",
      "70\n",
      "72\n",
      "74\n",
      "76\n",
      "78\n",
      "80\n",
      "82\n",
      "84\n",
      "86\n",
      "88\n",
      "90\n",
      "92\n",
      "94\n",
      "96\n",
      "98\n"
     ]
    }
   ],
   "metadata": {}
  },
  {
   "cell_type": "code",
   "execution_count": null,
   "source": [
    "#print odd number\r\n",
    "for y in range(100):\r\n",
    "    if(y%2!=0):\r\n",
    "        print(y)\r\n",
    "\r\n"
   ],
   "outputs": [],
   "metadata": {}
  },
  {
   "cell_type": "code",
   "execution_count": 75,
   "source": [
    "# To print sum of numbers presenst inside list\r\n",
    "a = [2,5,6,4,89,4,5,65,57,85,44]\r\n",
    "sum = 0\r\n",
    "for i in a:\r\n",
    "    sum=sum+i\r\n",
    "print(sum)"
   ],
   "outputs": [
    {
     "output_type": "stream",
     "name": "stdout",
     "text": [
      "366\n"
     ]
    }
   ],
   "metadata": {}
  },
  {
   "cell_type": "code",
   "execution_count": 8,
   "source": [
    "a=[10,20]\r\n",
    "sum=0\r\n",
    "for i in a:\r\n",
    "    sum = sum+i\r\n",
    "print(sum)"
   ],
   "outputs": [
    {
     "output_type": "stream",
     "name": "stdout",
     "text": [
      "30\n"
     ]
    }
   ],
   "metadata": {}
  },
  {
   "cell_type": "markdown",
   "source": [
    "while loop "
   ],
   "metadata": {}
  },
  {
   "cell_type": "code",
   "execution_count": 15,
   "source": [
    "a = int(input())\r\n",
    "while(a>=1):\r\n",
    "    print(a)\r\n",
    "    a=a-1"
   ],
   "outputs": [
    {
     "output_type": "stream",
     "name": "stdout",
     "text": [
      "22\n",
      "21\n",
      "20\n",
      "19\n",
      "18\n",
      "17\n",
      "16\n",
      "15\n",
      "14\n",
      "13\n",
      "12\n",
      "11\n",
      "10\n",
      "9\n",
      "8\n",
      "7\n",
      "6\n",
      "5\n",
      "4\n",
      "3\n",
      "2\n",
      "1\n"
     ]
    }
   ],
   "metadata": {}
  },
  {
   "cell_type": "code",
   "execution_count": 16,
   "source": [
    "n=int(input())\r\n",
    "sum=0\r\n",
    "i=1\r\n",
    "while(i<=n):\r\n",
    "    sum=sum+i\r\n",
    "    i=i+1\r\n",
    "print(sum)"
   ],
   "outputs": [
    {
     "output_type": "stream",
     "name": "stdout",
     "text": [
      "55\n"
     ]
    }
   ],
   "metadata": {}
  },
  {
   "cell_type": "code",
   "execution_count": 19,
   "source": [
    "name=\"\"\r\n",
    "while(name!=\"durga\"):\r\n",
    "    name = input()\r\n",
    "    print(\"thanks for confermation\")"
   ],
   "outputs": [
    {
     "output_type": "stream",
     "name": "stdout",
     "text": [
      "thanks for confermation\n",
      "thanks for confermation\n"
     ]
    }
   ],
   "metadata": {}
  },
  {
   "cell_type": "markdown",
   "source": [
    "Nested Loops:\r\n",
    "Sometimes we can take a loop inside another loop,which are also known as nested loops.\r\n",
    "\r\n"
   ],
   "metadata": {}
  },
  {
   "cell_type": "code",
   "execution_count": 25,
   "source": [
    "for i in range(4):\r\n",
    "    for j in range(2):\r\n",
    "        print(\"i=\",i,\"j=\",j)\r\n"
   ],
   "outputs": [
    {
     "output_type": "stream",
     "name": "stdout",
     "text": [
      "i= 0 j= 0\n",
      "i= 0 j= 1\n",
      "i= 1 j= 0\n",
      "i= 1 j= 1\n",
      "i= 2 j= 0\n",
      "i= 2 j= 1\n",
      "i= 3 j= 0\n",
      "i= 3 j= 1\n"
     ]
    }
   ],
   "metadata": {}
  },
  {
   "cell_type": "code",
   "execution_count": 60,
   "source": [
    "for i in range(1, 5):\r\n",
    "    for j in range(1,i+1):\r\n",
    "         print(\"*\", end=' ')\r\n",
    "    print()"
   ],
   "outputs": [
    {
     "output_type": "stream",
     "name": "stdout",
     "text": [
      "* \n",
      "* * \n",
      "* * * \n",
      "* * * * \n"
     ]
    }
   ],
   "metadata": {}
  },
  {
   "cell_type": "code",
   "execution_count": null,
   "source": [
    "n= int(input())\r\n",
    "for i in range(1,n+1): \r\n",
    "    for j in range(1,i+1):\r\n",
    "        print(\"*\",end=\" \") \r\n",
    "    print()"
   ],
   "outputs": [],
   "metadata": {}
  },
  {
   "cell_type": "code",
   "execution_count": 2,
   "source": [
    "n=10\r\n",
    "for i in range(n+1,1,-1):\r\n",
    "    for j in range(1,i+1):\r\n",
    "        print(\"*\",end=\"\")\r\n",
    "    print()"
   ],
   "outputs": [
    {
     "output_type": "stream",
     "name": "stdout",
     "text": [
      "***********\n",
      "**********\n",
      "*********\n",
      "********\n",
      "*******\n",
      "******\n",
      "*****\n",
      "****\n",
      "***\n",
      "**\n"
     ]
    }
   ],
   "metadata": {}
  },
  {
   "cell_type": "code",
   "execution_count": 81,
   "source": [
    "for i in range(10):\r\n",
    "    print(\"*\"*i)"
   ],
   "outputs": [
    {
     "output_type": "stream",
     "name": "stdout",
     "text": [
      "\n",
      "*\n",
      "**\n",
      "***\n",
      "****\n",
      "*****\n",
      "******\n",
      "*******\n",
      "********\n",
      "*********\n"
     ]
    }
   ],
   "metadata": {}
  },
  {
   "cell_type": "markdown",
   "source": [
    "III. Transfer Statements\r\n"
   ],
   "metadata": {}
  },
  {
   "cell_type": "code",
   "execution_count": 5,
   "source": [
    "#break \r\n",
    "for i in range(100):\r\n",
    "    if i==5:\r\n",
    "        print(\"it no. seven \")\r\n",
    "        break\r\n",
    "    print(i)\r\n",
    "    #We can use break statement inside loops to break loop execution based on some \r\n",
    "    #condition."
   ],
   "outputs": [
    {
     "output_type": "stream",
     "name": "stdout",
     "text": [
      "0\n",
      "1\n",
      "2\n",
      "3\n",
      "4\n",
      "it no. seven \n"
     ]
    }
   ],
   "metadata": {}
  },
  {
   "cell_type": "code",
   "execution_count": 9,
   "source": [
    "shop =[10,20,30,50,]\r\n",
    "for i in shop:\r\n",
    "    if i==30:\r\n",
    "        print(\"buy 20 rs nore and get 1 item free\")\r\n",
    "        break\r\n",
    "    print(i)\r\n",
    "    "
   ],
   "outputs": [
    {
     "output_type": "stream",
     "name": "stdout",
     "text": [
      "10\n",
      "20\n",
      "buy 20 rs nore and get 1 item free\n"
     ]
    }
   ],
   "metadata": {}
  },
  {
   "cell_type": "code",
   "execution_count": 8,
   "source": [
    "a = [1,2,3,4,5,6]\r\n",
    "for i in a:\r\n",
    "    if i >=3:\r\n",
    "        print(\"stop\")\r\n",
    "        continue\r\n",
    "    print(i)"
   ],
   "outputs": [
    {
     "output_type": "stream",
     "name": "stdout",
     "text": [
      "1\n",
      "2\n",
      "stop\n",
      "stop\n",
      "stop\n",
      "stop\n"
     ]
    }
   ],
   "metadata": {}
  },
  {
   "cell_type": "code",
   "execution_count": 11,
   "source": [
    "#2)continue:\r\n",
    "# We can use continue statement to skip current iteration and continue next iteration.\r\n",
    "shop =[10,20,30,50,]\r\n",
    "\r\n",
    "for i in shop:\r\n",
    "    if(i>=30):\r\n",
    "        print(\"you cant purchase this stop\")\r\n",
    "        continue\r\n",
    "    print(i)"
   ],
   "outputs": [
    {
     "output_type": "stream",
     "name": "stdout",
     "text": [
      "10\n",
      "20\n",
      "you cant purchase this stop\n",
      "you cant purchase this stop\n"
     ]
    }
   ],
   "metadata": {}
  },
  {
   "cell_type": "code",
   "execution_count": 12,
   "source": [
    "shop =[10,20,30,50,]\r\n",
    "for i in shop:\r\n",
    "    if(i<=20):\r\n",
    "        print(\"is to cheap\")\r\n",
    "        continue\r\n",
    "    print(i)"
   ],
   "outputs": [
    {
     "output_type": "stream",
     "name": "stdout",
     "text": [
      "is to cheap\n",
      "is to cheap\n",
      "30\n",
      "50\n"
     ]
    }
   ],
   "metadata": {}
  },
  {
   "cell_type": "code",
   "execution_count": 14,
   "source": [
    "#Loops with else Block:\r\n",
    "item =[10,20,30,50,]\r\n",
    "for i in shop:\r\n",
    "    if(i<=20):\r\n",
    "        print(\"is to cheap\")\r\n",
    "        continue\r\n",
    "    print(i)\r\n",
    "else:\r\n",
    "    print(\"all item will be process\")"
   ],
   "outputs": [
    {
     "output_type": "stream",
     "name": "stdout",
     "text": [
      "is to cheap\n",
      "is to cheap\n",
      "30\n",
      "50\n",
      "all item will be process\n"
     ]
    }
   ],
   "metadata": {}
  },
  {
   "cell_type": "code",
   "execution_count": 1,
   "source": [
    "for i in range(10):\r\n",
    "    for j in range(1,1+i):\r\n",
    "        print(i,end=\"\")\r\n",
    "    print()"
   ],
   "outputs": [
    {
     "output_type": "stream",
     "name": "stdout",
     "text": [
      "\n",
      "1\n",
      "22\n",
      "333\n",
      "4444\n",
      "55555\n",
      "666666\n",
      "7777777\n",
      "88888888\n",
      "999999999\n"
     ]
    }
   ],
   "metadata": {}
  },
  {
   "cell_type": "code",
   "execution_count": 2,
   "source": [
    "# Multiplication table (from 1 to 10) in Python\r\n",
    "\r\n",
    "num = 12\r\n",
    "\r\n",
    "# To take input from the user\r\n",
    "# num = int(input(\"Display multiplication table of? \"))\r\n",
    "\r\n",
    "# Iterate 10 times from i = 1 to 10\r\n",
    "for i in range(1, 11):\r\n",
    "   print(num, 'x', i, '=', num*i)\r\n"
   ],
   "outputs": [
    {
     "output_type": "stream",
     "name": "stdout",
     "text": [
      "12 x 1 = 12\n",
      "12 x 2 = 24\n",
      "12 x 3 = 36\n",
      "12 x 4 = 48\n",
      "12 x 5 = 60\n",
      "12 x 6 = 72\n",
      "12 x 7 = 84\n",
      "12 x 8 = 96\n",
      "12 x 9 = 108\n",
      "12 x 10 = 120\n"
     ]
    }
   ],
   "metadata": {}
  },
  {
   "cell_type": "code",
   "execution_count": 4,
   "source": [
    "num =10\r\n",
    "for i in range(1,11):\r\n",
    "    print(num,\"x\",i,\"=\",i*num)"
   ],
   "outputs": [
    {
     "output_type": "stream",
     "name": "stdout",
     "text": [
      "10 x 1 = 10\n",
      "10 x 2 = 20\n",
      "10 x 3 = 30\n",
      "10 x 4 = 40\n",
      "10 x 5 = 50\n",
      "10 x 6 = 60\n",
      "10 x 7 = 70\n",
      "10 x 8 = 80\n",
      "10 x 9 = 90\n",
      "10 x 10 = 100\n"
     ]
    }
   ],
   "metadata": {}
  },
  {
   "cell_type": "code",
   "execution_count": 6,
   "source": [
    "a=int(input(\"enter table number\"))\r\n",
    "b=int(input(\"enter the number to which table is to printed\"))\r\n",
    "i=1\r\n",
    "while i<=b:\r\n",
    "    print(a,\"x\",i,\"=\",a*i)\r\n",
    "    i=i+1\r\n"
   ],
   "outputs": [
    {
     "output_type": "stream",
     "name": "stdout",
     "text": [
      "8 x 1 = 8\n",
      "8 x 2 = 16\n",
      "8 x 3 = 24\n",
      "8 x 4 = 32\n",
      "8 x 5 = 40\n",
      "8 x 6 = 48\n",
      "8 x 7 = 56\n",
      "8 x 8 = 64\n",
      "8 x 9 = 72\n",
      "8 x 10 = 80\n",
      "8 x 11 = 88\n",
      "8 x 12 = 96\n",
      "8 x 13 = 104\n",
      "8 x 14 = 112\n",
      "8 x 15 = 120\n",
      "8 x 16 = 128\n",
      "8 x 17 = 136\n",
      "8 x 18 = 144\n",
      "8 x 19 = 152\n",
      "8 x 20 = 160\n"
     ]
    }
   ],
   "metadata": {}
  },
  {
   "cell_type": "code",
   "execution_count": 10,
   "source": [
    "a=int(input(\"enter table number\"))\r\n",
    "b=int(input(\"enter the number to which table is to printed\")) \r\n",
    "for i in range(1,b):\r\n",
    "    print(i,\"x\",a,\"=\",a*i)\r\n"
   ],
   "outputs": [
    {
     "output_type": "stream",
     "name": "stdout",
     "text": [
      "1 x 10 = 10\n",
      "2 x 10 = 20\n",
      "3 x 10 = 30\n",
      "4 x 10 = 40\n",
      "5 x 10 = 50\n",
      "6 x 10 = 60\n",
      "7 x 10 = 70\n",
      "8 x 10 = 80\n",
      "9 x 10 = 90\n",
      "10 x 10 = 100\n",
      "11 x 10 = 110\n",
      "12 x 10 = 120\n",
      "13 x 10 = 130\n",
      "14 x 10 = 140\n",
      "15 x 10 = 150\n",
      "16 x 10 = 160\n",
      "17 x 10 = 170\n",
      "18 x 10 = 180\n",
      "19 x 10 = 190\n",
      "20 x 10 = 200\n"
     ]
    }
   ],
   "metadata": {}
  },
  {
   "cell_type": "code",
   "execution_count": 12,
   "source": [],
   "outputs": [
    {
     "output_type": "stream",
     "name": "stdout",
     "text": [
      "1 Column 1 Row 1 Column 2 Row 1 Column 3 Row 1 Column 4 Row 1 Column 5 Row 1 Column 6 Row 1 Column 7 Row 1 Column 8 Row 1 Column 9 Row 1 Column 10 Row 1\n"
     ]
    }
   ],
   "metadata": {}
  },
  {
   "cell_type": "code",
   "execution_count": 11,
   "source": [
    "a = [10,20,30,40,50,60,70]\r\n",
    "for i in a:\r\n",
    "    if i>=30:\r\n",
    "        print(\"we cant proceess\")\r\n",
    "        break\r\n",
    "    print(i)\r\n",
    "else:\r\n",
    "    print(\"all item process\")"
   ],
   "outputs": [
    {
     "output_type": "stream",
     "name": "stdout",
     "text": [
      "10\n",
      "20\n",
      "we cant proceess\n"
     ]
    }
   ],
   "metadata": {}
  },
  {
   "cell_type": "code",
   "execution_count": null,
   "source": [],
   "outputs": [],
   "metadata": {}
  }
 ],
 "metadata": {
  "orig_nbformat": 4,
  "language_info": {
   "name": "python",
   "version": "3.9.6",
   "mimetype": "text/x-python",
   "codemirror_mode": {
    "name": "ipython",
    "version": 3
   },
   "pygments_lexer": "ipython3",
   "nbconvert_exporter": "python",
   "file_extension": ".py"
  },
  "kernelspec": {
   "name": "python3",
   "display_name": "Python 3.9.6 64-bit"
  },
  "interpreter": {
   "hash": "ac59ebe37160ed0dfa835113d9b8498d9f09ceb179beaac4002f036b9467c963"
  }
 },
 "nbformat": 4,
 "nbformat_minor": 2
}