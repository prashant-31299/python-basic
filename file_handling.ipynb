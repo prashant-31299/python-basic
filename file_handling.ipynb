{
 "cells": [
  {
   "cell_type": "markdown",
   "source": [
    "As the part of programming requirement, we have to store our data permanently for \r\n",
    "future purpose. For this requirement we should go for files.\r\n",
    " Files are very common permanent storage areas to store our data."
   ],
   "metadata": {}
  },
  {
   "cell_type": "markdown",
   "source": [
    " Before performing any operation (like read or write) on the file,first we have to open \r\n",
    "that file.For this we should use Python's inbuilt function open()\r\n",
    " But at the time of open, we have to specify mode,which represents the purpose of \r\n",
    "opening file."
   ],
   "metadata": {}
  },
  {
   "cell_type": "code",
   "execution_count": 1,
   "source": [
    "#python code to illustrate the read() mode\r\n",
    "file = open(\"t.txt\",\"r\")\r\n",
    "print(file.read())"
   ],
   "outputs": [
    {
     "output_type": "stream",
     "name": "stdout",
     "text": [
      "hitesh\n",
      "ritesh\n",
      "amit\n",
      " harsh\n",
      "\n"
     ]
    }
   ],
   "metadata": {}
  },
  {
   "cell_type": "code",
   "execution_count": 2,
   "source": [
    "f=open(\"abc.txt\",'w')  #  the new file was created\r\n",
    "print(\"File Name: \",f.name) \r\n",
    "print(\"File Mode: \",f.mode) \r\n",
    "print(\"Is File Readable: \",f.readable()) \r\n",
    "print(\"Is File Writable: \",f.writable()) \r\n",
    "print(\"Is File Closed : \",f.closed) \r\n",
    "f.close() \r\n",
    "print(\"Is File Closed : \",f.closed) "
   ],
   "outputs": [
    {
     "output_type": "stream",
     "name": "stdout",
     "text": [
      "File Name:  abc.txt\n",
      "File Mode:  w\n",
      "Is File Readable:  False\n",
      "Is File Writable:  True\n",
      "Is File Closed :  False\n",
      "Is File Closed :  True\n"
     ]
    }
   ],
   "metadata": {}
  },
  {
   "cell_type": "code",
   "execution_count": 3,
   "source": [
    "f=open(\"abcd.txt\",'w') \r\n",
    "f.write(\"Durga\\n\") \r\n",
    "f.write(\"Software\\n\") \r\n",
    "f.write(\"Solutions\\n\") \r\n",
    "print(\"Data written to the file successfully\") \r\n",
    "f.close()"
   ],
   "outputs": [
    {
     "output_type": "stream",
     "name": "stdout",
     "text": [
      "Data written to the file successfully\n"
     ]
    }
   ],
   "metadata": {}
  },
  {
   "cell_type": "code",
   "execution_count": 6,
   "source": [
    "f=open(\"abc.txt\",\"w\")\r\n",
    "list = [\"hites\\n\",\"ritesh\\n\",\"amit\\n\"]\r\n",
    "f.writelines(list)\r\n",
    "print(\"list line was added\")\r\n",
    "f.close()"
   ],
   "outputs": [
    {
     "output_type": "stream",
     "name": "stdout",
     "text": [
      "list line was added\n"
     ]
    }
   ],
   "metadata": {}
  },
  {
   "cell_type": "code",
   "execution_count": 10,
   "source": [
    "# read file \r\n",
    "f=open(\"abc.txt\",\"r\")\r\n",
    "print(f.read())\r\n",
    "f.close()"
   ],
   "outputs": [
    {
     "output_type": "stream",
     "name": "stdout",
     "text": [
      "hites\n",
      "ritesh\n",
      "amit\n",
      "\n"
     ]
    }
   ],
   "metadata": {}
  },
  {
   "cell_type": "code",
   "execution_count": 15,
   "source": [
    "f= open(\"abc.txt\",\"r\")\r\n",
    "print(f.read(10))\r\n",
    "f.close() # it print only 10 characters"
   ],
   "outputs": [
    {
     "output_type": "stream",
     "name": "stdout",
     "text": [
      "hites\n",
      "rite\n"
     ]
    }
   ],
   "metadata": {}
  },
  {
   "cell_type": "code",
   "execution_count": 16,
   "source": [
    "#3: To read data line by line:\r\n",
    "f=open(\"abc.txt\",'r') \r\n",
    "line1=f.readline() \r\n",
    "print(line1,end='') \r\n",
    "line2=f.readline() \r\n",
    "print(line2,end='') \r\n",
    "line3=f.readline() \r\n",
    "print(line3,end='') \r\n",
    "f.close() \r\n"
   ],
   "outputs": [
    {
     "output_type": "stream",
     "name": "stdout",
     "text": [
      "hites\n",
      "ritesh\n",
      "amit\n"
     ]
    }
   ],
   "metadata": {}
  },
  {
   "cell_type": "code",
   "execution_count": 19,
   "source": [
    "f=open(\"abc.txt\",\"r\") \r\n",
    "print(f.read(3)) \r\n",
    "print(f.readline()) \r\n",
    "print(f.read(4)) \r\n",
    "print(\"Remaining data\") \r\n",
    "print(f.read()) "
   ],
   "outputs": [
    {
     "output_type": "stream",
     "name": "stdout",
     "text": [
      "hit\n",
      "es\n",
      "\n",
      "rite\n",
      "Remaining data\n",
      "sh\n",
      "amit\n",
      "\n"
     ]
    }
   ],
   "metadata": {}
  },
  {
   "cell_type": "code",
   "execution_count": 22,
   "source": [
    "f=open(\"t.txt\",\"r\")\r\n",
    "print(f.read())\r\n",
    "f.close()"
   ],
   "outputs": [
    {
     "output_type": "stream",
     "name": "stdout",
     "text": [
      "9. Push the code in your local repository to GitHub\n",
      "\n",
      "git push -u origin master is used for pushing local content to GitHub.\n",
      "In the code, the origin is your default remote repository name and '-u' flag is upstream, which is equivalent to '-set-upstream.' and the master is the branch, name.upstream is the repository that we have cloned the project.\n",
      "Fill in your GitHub username and password.\n",
      "9. Push the code in your local repository to GitHub\n",
      "\n",
      "git push -u origin master is used for pushing local content to GitHub.\n",
      "In the code, the origin is your default remote repository name and '-u' flag is upstream, which is equivalent to '-set-upstream.' and the master is the branch, name.upstream is the repository that we have cloned the project.\n",
      "Fill in your GitHub username and password.9. Push the code in your local repository to GitHub\n",
      "\n",
      "git push -u origin master is used for pushing local content to GitHub.\n",
      "In the code, the origin is your default remote repository name and '-u' flag is upstream, which is equivalent to '-set-upstream.' and the master is the branch, name.upstream is the repository that we have cloned the project.\n",
      "Fill in your GitHub username and password.9. Push the code in your local repository to GitHub\n",
      "\n",
      "git push -u origin master is used for pushing local content to GitHub.\n",
      "In the code, the origin is your default remote repository name and '-u' flag is upstream, which is equivalent to '-set-upstream.' and the master is the branch, name.upstream is the repository that we have cloned the project.\n",
      "Fill in your GitHub username and password.9. Push the code in your local repository to GitHub\n",
      "\n",
      "git push -u origin master is used for pushing local content to GitHub.\n",
      "In the code, the origin is your default remote repository name and '-u' flag is upstream, which is equivalent to '-set-upstream.' and the master is the branch, name.upstream is the repository that we have cloned the project.\n",
      "Fill in your GitHub username and password.9. Push the code in your local repository to GitHub\n",
      "\n",
      "git push -u origin master is used for pushing local content to GitHub.\n",
      "In the code, the origin is your default remote repository name and '-u' flag is upstream, which is equivalent to '-set-upstream.' and the master is the branch, name.upstream is the repository that we have cloned the project.\n",
      "Fill in your GitHub username and password.9. Push the code in your local repository to GitHub\n",
      "\n",
      "git push -u origin master is used for pushing local content to GitHub.\n",
      "In the code, the origin is your default remote repository name and '-u' flag is upstream, which is equivalent to '-set-upstream.' and the master is the branch, name.upstream is the repository that we have cloned the project.\n",
      "Fill in your GitHub username and password.9. Push the code in your local repository to GitHub\n",
      "\n",
      "git push -u origin master is used for pushing local content to GitHub.\n",
      "In the code, the origin is your default remote repository name and '-u' flag is upstream, which is equivalent to '-set-upstream.' and the master is the branch, name.upstream is the repository that we have cloned the project.\n",
      "Fill in your GitHub username and password.9. Push the code in your local repository to GitHub\n",
      "\n",
      "git push -u origin master is used for pushing local content to GitHub.\n",
      "In the code, the origin is your default remote repository name and '-u' flag is upstream, which is equivalent to '-set-upstream.' and the master is the branch, name.upstream is the repository that we have cloned the project.\n",
      "Fill in your GitHub username and password.9. Push the code in your local repository to GitHub\n",
      "\n",
      "git push -u origin master is used for pushing local content to GitHub.\n",
      "In the code, the origin is your default remote repository name and '-u' flag is upstream, which is equivalent to '-set-upstream.' and the master is the branch, name.upstream is the repository that we have cloned the project.\n",
      "Fill in your GitHub username and password.9. Push the code in your local repository to GitHub\n",
      "\n",
      "git push -u origin master is used for pushing local content to GitHub.\n",
      "In the code, the origin is your default remote repository name and '-u' flag is upstream, which is equivalent to '-set-upstream.' and the master is the branch, name.upstream is the repository that we have cloned the project.\n",
      "Fill in your GitHub username and password.9. Push the code in your local repository to GitHub\n",
      "\n",
      "git push -u origin master is used for pushing local content to GitHub.\n",
      "In the code, the origin is your default remote repository name and '-u' flag is upstream, which is equivalent to '-set-upstream.' and the master is the branch, name.upstream is the repository that we have cloned the project.\n",
      "Fill in your GitHub username and password.9. Push the code in your local repository to GitHub\n",
      "\n",
      "git push -u origin master is used for pushing local content to GitHub.\n",
      "In the code, the origin is your default remote repository name and '-u' flag is upstream, which is equivalent to '-set-upstream.' and the master is the branch, name.upstream is the repository that we have cloned the project.\n",
      "Fill in your GitHub username and password.9. Push the code in your local repository to GitHub\n",
      "\n",
      "git push -u origin master is used for pushing local content to GitHub.\n",
      "In the code, the origin is your default remote repository name and '-u' flag is upstream, which is equivalent to '-set-upstream.' and the master is the branch, name.upstream is the repository that we have cloned the project.\n",
      "Fill in your GitHub username and password.9. Push the code in your local repository to GitHub\n",
      "\n",
      "git push -u origin master is used for pushing local content to GitHub.\n",
      "In the code, the origin is your default remote repository name and '-u' flag is upstream, which is equivalent to '-set-upstream.' and the master is the branch, name.upstream is the repository that we have cloned the project.\n",
      "Fill in your GitHub username and password.9. Push the code in your local repository to GitHub\n",
      "\n",
      "git push -u origin master is used for pushing local content to GitHub.\n",
      "In the code, the origin is your default remote repository name and '-u' flag is upstream, which is equivalent to '-set-upstream.' and the master is the branch, name.upstream is the repository that we have cloned the project.\n",
      "Fill in your GitHub username and password.9. Push the code in your local repository to GitHub\n",
      "\n",
      "git push -u origin master is used for pushing local content to GitHub.\n",
      "In the code, the origin is your default remote repository name and '-u' flag is upstream, which is equivalent to '-set-upstream.' and the master is the branch, name.upstream is the repository that we have cloned the project.\n",
      "Fill in your GitHub username and password.9. Push the code in your local repository to GitHub\n",
      "\n",
      "git push -u origin master is used for pushing local content to GitHub.\n",
      "In the code, the origin is your default remote repository name and '-u' flag is upstream, which is equivalent to '-set-upstream.' and the master is the branch, name.upstream is the repository that we have cloned the project.\n",
      "Fill in your GitHub username and password.9. Push the code in your local repository to GitHub\n",
      "\n",
      "git push -u origin master is used for pushing local content to GitHub.\n",
      "In the code, the origin is your default remote repository name and '-u' flag is upstream, which is equivalent to '-set-upstream.' and the master is the branch, name.upstream is the repository that we have cloned the project.\n",
      "Fill in your GitHub username and password.9. Push the code in your local repository to GitHub\n",
      "\n",
      "git push -u origin master is used for pushing local content to GitHub.\n",
      "In the code, the origin is your default remote repository name and '-u' flag is upstream, which is equivalent to '-set-upstream.' and the master is the branch, name.upstream is the repository that we have cloned the project.\n",
      "Fill in your GitHub username and password.9. Push the code in your local repository to GitHub\n",
      "\n",
      "git push -u origin master is used for pushing local content to GitHub.\n",
      "In the code, the origin is your default remote repository name and '-u' flag is upstream, which is equivalent to '-set-upstream.' and the master is the branch, name.upstream is the repository that we have cloned the project.\n",
      "Fill in your GitHub username and password.9. Push the code in your local repository to GitHub\n",
      "\n",
      "git push -u origin master is used for pushing local content to GitHub.\n",
      "In the code, the origin is your default remote repository name and '-u' flag is upstream, which is equivalent to '-set-upstream.' and the master is the branch, name.upstream is the repository that we have cloned the project.\n",
      "Fill in your GitHub username and password.9. Push the code in your local repository to GitHub\n",
      "\n",
      "git push -u origin master is used for pushing local content to GitHub.\n",
      "In the code, the origin is your default remote repository name and '-u' flag is upstream, which is equivalent to '-set-upstream.' and the master is the branch, name.upstream is the repository that we have cloned the project.\n",
      "Fill in your GitHub username and password.9. Push the code in your local repository to GitHub\n",
      "\n",
      "git push -u origin master is used for pushing local content to GitHub.\n",
      "In the code, the origin is your default remote repository name and '-u' flag is upstream, which is equivalent to '-set-upstream.' and the master is the branch, name.upstream is the repository that we have cloned the project.\n",
      "Fill in your GitHub username and password.9. Push the code in your local repository to GitHub\n",
      "\n",
      "git push -u origin master is used for pushing local content to GitHub.\n",
      "In the code, the origin is your default remote repository name and '-u' flag is upstream, which is equivalent to '-set-upstream.' and the master is the branch, name.upstream is the repository that we have cloned the project.\n",
      "Fill in your GitHub username and password.9. Push the code in your local repository to GitHub\n",
      "\n",
      "git push -u origin master is used for pushing local content to GitHub.\n",
      "In the code, the origin is your default remote repository name and '-u' flag is upstream, which is equivalent to '-set-upstream.' and the master is the branch, name.upstream is the repository that we have cloned the project.\n",
      "Fill in your GitHub username and password.9. Push the code in your local repository to GitHub\n",
      "\n",
      "git push -u origin master is used for pushing local content to GitHub.\n",
      "In the code, the origin is your default remote repository name and '-u' flag is upstream, which is equivalent to '-set-upstream.' and the master is the branch, name.upstream is the repository that we have cloned the project.\n",
      "Fill in your GitHub username and password.9. Push the code in your local repository to GitHub\n",
      "\n",
      "git push -u origin master is used for pushing local content to GitHub.\n",
      "In the code, the origin is your default remote repository name and '-u' flag is upstream, which is equivalent to '-set-upstream.' and the master is the branch, name.upstream is the repository that we have cloned the project.\n",
      "Fill in your GitHub username and password.9. Push the code in your local repository to GitHub\n",
      "\n",
      "git push -u origin master is used for pushing local content to GitHub.\n",
      "In the code, the origin is your default remote repository name and '-u' flag is upstream, which is equivalent to '-set-upstream.' and the master is the branch, name.upstream is the repository that we have cloned the project.\n",
      "Fill in your GitHub username and password.9. Push the code in your local repository to GitHub\n",
      "\n",
      "git push -u origin master is used for pushing local content to GitHub.\n",
      "In the code, the origin is your default remote repository name and '-u' flag is upstream, which is equivalent to '-set-upstream.' and the master is the branch, name.upstream is the repository that we have cloned the project.\n",
      "Fill in your GitHub username and password.9. Push the code in your local repository to GitHub\n",
      "\n",
      "git push -u origin master is used for pushing local content to GitHub.\n",
      "In the code, the origin is your default remote repository name and '-u' flag is upstream, which is equivalent to '-set-upstream.' and the master is the branch, name.upstream is the repository that we have cloned the project.\n",
      "Fill in your GitHub username and password.9. Push the code in your local repository to GitHub\n",
      "\n",
      "git push -u origin master is used for pushing local content to GitHub.\n",
      "In the code, the origin is your default remote repository name and '-u' flag is upstream, which is equivalent to '-set-upstream.' and the master is the branch, name.upstream is the repository that we have cloned the project.\n",
      "Fill in your GitHub username and password.9. Push the code in your local repository to GitHub\n",
      "\n",
      "git push -u origin master is used for pushing local content to GitHub.\n",
      "In the code, the origin is your default remote repository name and '-u' flag is upstream, which is equivalent to '-set-upstream.' and the master is the branch, name.upstream is the repository that we have cloned the project.\n",
      "Fill in your GitHub username and password.9. Push the code in your local repository to GitHub\n",
      "\n",
      "git push -u origin master is used for pushing local content to GitHub.\n",
      "In the code, the origin is your default remote repository name and '-u' flag is upstream, which is equivalent to '-set-upstream.' and the master is the branch, name.upstream is the repository that we have cloned the project.\n",
      "Fill in your GitHub username and password.9. Push the code in your local repository to GitHub\n",
      "\n",
      "git push -u origin master is used for pushing local content to GitHub.\n",
      "In the code, the origin is your default remote repository name and '-u' flag is upstream, which is equivalent to '-set-upstream.' and the master is the branch, name.upstream is the repository that we have cloned the project.\n",
      "Fill in your GitHub username and password.9. Push the code in your local repository to GitHub\n",
      "\n",
      "git push -u origin master is used for pushing local content to GitHub.\n",
      "In the code, the origin is your default remote repository name and '-u' flag is upstream, which is equivalent to '-set-upstream.' and the master is the branch, name.upstream is the repository that we have cloned the project.\n",
      "Fill in your GitHub username and password.9. Push the code in your local repository to GitHub\n",
      "\n",
      "git push -u origin master is used for pushing local content to GitHub.\n",
      "In the code, the origin is your default remote repository name and '-u' flag is upstream, which is equivalent to '-set-upstream.' and the master is the branch, name.upstream is the repository that we have cloned the project.\n",
      "Fill in your GitHub username and password.9. Push the code in your local repository to GitHub\n",
      "\n",
      "git push -u origin master is used for pushing local content to GitHub.\n",
      "In the code, the origin is your default remote repository name and '-u' flag is upstream, which is equivalent to '-set-upstream.' and the master is the branch, name.upstream is the repository that we have cloned the project.\n",
      "Fill in your GitHub username and password.9. Push the code in your local repository to GitHub\n",
      "\n",
      "git push -u origin master is used for pushing local content to GitHub.\n",
      "In the code, the origin is your default remote repository name and '-u' flag is upstream, which is equivalent to '-set-upstream.' and the master is the branch, name.upstream is the repository that we have cloned the project.\n",
      "Fill in your GitHub username and password.9. Push the code in your local repository to GitHub\n",
      "\n",
      "git push -u origin master is used for pushing local content to GitHub.\n",
      "In the code, the origin is your default remote repository name and '-u' flag is upstream, which is equivalent to '-set-upstream.' and the master is the branch, name.upstream is the repository that we have cloned the project.\n",
      "Fill in your GitHub username and password.9. Push the code in your local repository to GitHub\n",
      "\n",
      "git push -u origin master is used for pushing local content to GitHub.\n",
      "In the code, the origin is your default remote repository name and '-u' flag is upstream, which is equivalent to '-set-upstream.' and the master is the branch, name.upstream is the repository that we have cloned the project.\n",
      "Fill in your GitHub username and password.9. Push the code in your local repository to GitHub\n",
      "\n",
      "git push -u origin master is used for pushing local content to GitHub.\n",
      "In the code, the origin is your default remote repository name and '-u' flag is upstream, which is equivalent to '-set-upstream.' and the master is the branch, name.upstream is the repository that we have cloned the project.\n",
      "Fill in your GitHub username and password.9. Push the code in your local repository to GitHub\n",
      "\n",
      "git push -u origin master is used for pushing local content to GitHub.\n",
      "In the code, the origin is your default remote repository name and '-u' flag is upstream, which is equivalent to '-set-upstream.' and the master is the branch, name.upstream is the repository that we have cloned the project.\n",
      "Fill in your GitHub username and password.9. Push the code in your local repository to GitHub\n",
      "\n",
      "git push -u origin master is used for pushing local content to GitHub.\n",
      "In the code, the origin is your default remote repository name and '-u' flag is upstream, which is equivalent to '-set-upstream.' and the master is the branch, name.upstream is the repository that we have cloned the project.\n",
      "Fill in your GitHub username and password.9. Push the code in your local repository to GitHub\n",
      "\n",
      "git push -u origin master is used for pushing local content to GitHub.\n",
      "In the code, the origin is your default remote repository name and '-u' flag is upstream, which is equivalent to '-set-upstream.' and the master is the branch, name.upstream is the repository that we have cloned the project.\n",
      "Fill in your GitHub username and password.9. Push the code in your local repository to GitHub\n",
      "\n",
      "git push -u origin master is used for pushing local content to GitHub.\n",
      "In the code, the origin is your default remote repository name and '-u' flag is upstream, which is equivalent to '-set-upstream.' and the master is the branch, name.upstream is the repository that we have cloned the project.\n",
      "Fill in your GitHub username and password.9. Push the code in your local repository to GitHub\n",
      "\n",
      "git push -u origin master is used for pushing local content to GitHub.\n",
      "In the code, the origin is your default remote repository name and '-u' flag is upstream, which is equivalent to '-set-upstream.' and the master is the branch, name.upstream is the repository that we have cloned the project.\n",
      "Fill in your GitHub username and password.9. Push the code in your local repository to GitHub\n",
      "\n",
      "git push -u origin master is used for pushing local content to GitHub.\n",
      "In the code, the origin is your default remote repository name and '-u' flag is upstream, which is equivalent to '-set-upstream.' and the master is the branch, name.upstream is the repository that we have cloned the project.\n",
      "Fill in your GitHub username and password.9. Push the code in your local repository to GitHub\n",
      "\n",
      "git push -u origin master is used for pushing local content to GitHub.\n",
      "In the code, the origin is your default remote repository name and '-u' flag is upstream, which is equivalent to '-set-upstream.' and the master is the branch, name.upstream is the repository that we have cloned the project.\n",
      "Fill in your GitHub username and password.9. Push the code in your local repository to GitHub\n",
      "\n",
      "git push -u origin master is used for pushing local content to GitHub.\n",
      "In the code, the origin is your default remote repository name and '-u' flag is upstream, which is equivalent to '-set-upstream.' and the master is the branch, name.upstream is the repository that we have cloned the project.\n",
      "Fill in your GitHub username and password.9. Push the code in your local repository to GitHub\n",
      "\n",
      "git push -u origin master is used for pushing local content to GitHub.\n",
      "In the code, the origin is your default remote repository name and '-u' flag is upstream, which is equivalent to '-set-upstream.' and the master is the branch, name.upstream is the repository that we have cloned the project.\n",
      "Fill in your GitHub username and password.9. Push the code in your local repository to GitHub\n",
      "\n",
      "git push -u origin master is used for pushing local content to GitHub.\n",
      "In the code, the origin is your default remote repository name and '-u' flag is upstream, which is equivalent to '-set-upstream.' and the master is the branch, name.upstream is the repository that we have cloned the project.\n",
      "Fill in your GitHub username and password.9. Push the code in your local repository to GitHub\n",
      "\n",
      "git push -u origin master is used for pushing local content to GitHub.\n",
      "In the code, the origin is your default remote repository name and '-u' flag is upstream, which is equivalent to '-set-upstream.' and the master is the branch, name.upstream is the repository that we have cloned the project.\n",
      "Fill in your GitHub username and password.9. Push the code in your local repository to GitHub\n",
      "\n",
      "git push -u origin master is used for pushing local content to GitHub.\n",
      "In the code, the origin is your default remote repository name and '-u' flag is upstream, which is equivalent to '-set-upstream.' and the master is the branch, name.upstream is the repository that we have cloned the project.\n",
      "Fill in your GitHub username and password.9. Push the code in your local repository to GitHub\n",
      "\n",
      "git push -u origin master is used for pushing local content to GitHub.\n",
      "In the code, the origin is your default remote repository name and '-u' flag is upstream, which is equivalent to '-set-upstream.' and the master is the branch, name.upstream is the repository that we have cloned the project.\n",
      "Fill in your GitHub username and password.9. Push the code in your local repository to GitHub\n",
      "\n",
      "git push -u origin master is used for pushing local content to GitHub.\n",
      "In the code, the origin is your default remote repository name and '-u' flag is upstream, which is equivalent to '-set-upstream.' and the master is the branch, name.upstream is the repository that we have cloned the project.\n",
      "Fill in your GitHub username and password.9. Push the code in your local repository to GitHub\n",
      "\n",
      "git push -u origin master is used for pushing local content to GitHub.\n",
      "In the code, the origin is your default remote repository name and '-u' flag is upstream, which is equivalent to '-set-upstream.' and the master is the branch, name.upstream is the repository that we have cloned the project.\n",
      "Fill in your GitHub username and password.9. Push the code in your local repository to GitHub\n",
      "\n",
      "git push -u origin master is used for pushing local content to GitHub.\n",
      "In the code, the origin is your default remote repository name and '-u' flag is upstream, which is equivalent to '-set-upstream.' and the master is the branch, name.upstream is the repository that we have cloned the project.\n",
      "Fill in your GitHub username and password.9. Push the code in your local repository to GitHub\n",
      "\n",
      "git push -u origin master is used for pushing local content to GitHub.\n",
      "In the code, the origin is your default remote repository name and '-u' flag is upstream, which is equivalent to '-set-upstream.' and the master is the branch, name.upstream is the repository that we have cloned the project.\n",
      "Fill in your GitHub username and password.9. Push the code in your local repository to GitHub\n",
      "\n",
      "git push -u origin master is used for pushing local content to GitHub.\n",
      "In the code, the origin is your default remote repository name and '-u' flag is upstream, which is equivalent to '-set-upstream.' and the master is the branch, name.upstream is the repository that we have cloned the project.\n",
      "Fill in your GitHub username and password.9. Push the code in your local repository to GitHub\n",
      "\n",
      "git push -u origin master is used for pushing local content to GitHub.\n",
      "In the code, the origin is your default remote repository name and '-u' flag is upstream, which is equivalent to '-set-upstream.' and the master is the branch, name.upstream is the repository that we have cloned the project.\n",
      "Fill in your GitHub username and password.9. Push the code in your local repository to GitHub\n",
      "\n",
      "git push -u origin master is used for pushing local content to GitHub.\n",
      "In the code, the origin is your default remote repository name and '-u' flag is upstream, which is equivalent to '-set-upstream.' and the master is the branch, name.upstream is the repository that we have cloned the project.\n",
      "Fill in your GitHub username and password.9. Push the code in your local repository to GitHub\n",
      "\n",
      "git push -u origin master is used for pushing local content to GitHub.\n",
      "In the code, the origin is your default remote repository name and '-u' flag is upstream, which is equivalent to '-set-upstream.' and the master is the branch, name.upstream is the repository that we have cloned the project.\n",
      "Fill in your GitHub username and password.9. Push the code in your local repository to GitHub\n",
      "\n",
      "git push -u origin master is used for pushing local content to GitHub.\n",
      "In the code, the origin is your default remote repository name and '-u' flag is upstream, which is equivalent to '-set-upstream.' and the master is the branch, name.upstream is the repository that we have cloned the project.\n",
      "Fill in your GitHub username and password.9. Push the code in your local repository to GitHub\n",
      "\n",
      "git push -u origin master is used for pushing local content to GitHub.\n",
      "In the code, the origin is your default remote repository name and '-u' flag is upstream, which is equivalent to '-set-upstream.' and the master is the branch, name.upstream is the repository that we have cloned the project.\n",
      "Fill in your GitHub username and password.9. Push the code in your local repository to GitHub\n",
      "\n",
      "git push -u origin master is used for pushing local content to GitHub.\n",
      "In the code, the origin is your default remote repository name and '-u' flag is upstream, which is equivalent to '-set-upstream.' and the master is the branch, name.upstream is the repository that we have cloned the project.\n",
      "Fill in your GitHub username and password.9. Push the code in your local repository to GitHub\n",
      "\n",
      "git push -u origin master is used for pushing local content to GitHub.\n",
      "In the code, the origin is your default remote repository name and '-u' flag is upstream, which is equivalent to '-set-upstream.' and the master is the branch, name.upstream is the repository that we have cloned the project.\n",
      "Fill in your GitHub username and password.9. Push the code in your local repository to GitHub\n",
      "\n",
      "git push -u origin master is used for pushing local content to GitHub.\n",
      "In the code, the origin is your default remote repository name and '-u' flag is upstream, which is equivalent to '-set-upstream.' and the master is the branch, name.upstream is the repository that we have cloned the project.\n",
      "Fill in your GitHub username and password.9. Push the code in your local repository to GitHub\n",
      "\n",
      "git push -u origin master is used for pushing local content to GitHub.\n",
      "In the code, the origin is your default remote repository name and '-u' flag is upstream, which is equivalent to '-set-upstream.' and the master is the branch, name.upstream is the repository that we have cloned the project.\n",
      "Fill in your GitHub username and password.9. Push the code in your local repository to GitHub\n",
      "\n",
      "git push -u origin master is used for pushing local content to GitHub.\n",
      "In the code, the origin is your default remote repository name and '-u' flag is upstream, which is equivalent to '-set-upstream.' and the master is the branch, name.upstream is the repository that we have cloned the project.\n",
      "Fill in your GitHub username and password.9. Push the code in your local repository to GitHub\n",
      "\n",
      "git push -u origin master is used for pushing local content to GitHub.\n",
      "In the code, the origin is your default remote repository name and '-u' flag is upstream, which is equivalent to '-set-upstream.' and the master is the branch, name.upstream is the repository that we have cloned the project.\n",
      "Fill in your GitHub username and password.9. Push the code in your local repository to GitHub\n",
      "\n",
      "git push -u origin master is used for pushing local content to GitHub.\n",
      "In the code, the origin is your default remote repository name and '-u' flag is upstream, which is equivalent to '-set-upstream.' and the master is the branch, name.upstream is the repository that we have cloned the project.\n",
      "Fill in your GitHub username and password.9. Push the code in your local repository to GitHub\n",
      "\n",
      "git push -u origin master is used for pushing local content to GitHub.\n",
      "In the code, the origin is your default remote repository name and '-u' flag is upstream, which is equivalent to '-set-upstream.' and the master is the branch, name.upstream is the repository that we have cloned the project.\n",
      "Fill in your GitHub username and password.\n",
      "\n",
      "\n",
      "\n",
      "\n",
      "this is my new file\n"
     ]
    }
   ],
   "metadata": {}
  },
  {
   "cell_type": "code",
   "execution_count": 26,
   "source": [
    "#copy data from one to another file\r\n",
    "f1 =open(\"t.txt\")\r\n",
    "f2 =open(\"u.txt\",\"w\")\r\n",
    "f2.write(f1.read())\r\n",
    "f1.close()\r\n",
    "f2.close()\r\n",
    "print(\"data has  benn coping \")"
   ],
   "outputs": [
    {
     "output_type": "stream",
     "name": "stdout",
     "text": [
      "data has  benn coping \n"
     ]
    }
   ],
   "metadata": {}
  }
 ],
 "metadata": {
  "orig_nbformat": 4,
  "language_info": {
   "name": "python",
   "version": "3.9.6",
   "mimetype": "text/x-python",
   "codemirror_mode": {
    "name": "ipython",
    "version": 3
   },
   "pygments_lexer": "ipython3",
   "nbconvert_exporter": "python",
   "file_extension": ".py"
  },
  "kernelspec": {
   "name": "python3",
   "display_name": "Python 3.9.6 64-bit"
  },
  "interpreter": {
   "hash": "ac59ebe37160ed0dfa835113d9b8498d9f09ceb179beaac4002f036b9467c963"
  }
 },
 "nbformat": 4,
 "nbformat_minor": 2
}