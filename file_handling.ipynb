{
 "cells": [
  {
   "cell_type": "markdown",
   "source": [
    "As the part of programming requirement, we have to store our data permanently for \r\n",
    "future purpose. For this requirement we should go for files.\r\n",
    " Files are very common permanent storage areas to store our data."
   ],
   "metadata": {}
  },
  {
   "cell_type": "markdown",
   "source": [
    " Before performing any operation (like read or write) on the file,first we have to open \r\n",
    "that file.For this we should use Python's inbuilt function open()\r\n",
    " But at the time of open, we have to specify mode,which represents the purpose of \r\n",
    "opening file."
   ],
   "metadata": {}
  },
  {
   "cell_type": "code",
   "execution_count": 2,
   "source": [
    "#python code to illustrate the read() mode\r\n",
    "file = open(\"t.txt\",\"r\")\r\n",
    "print(file.read())"
   ],
   "outputs": [
    {
     "output_type": "stream",
     "name": "stdout",
     "text": [
      "Another way to read a file is \n",
      "to call a certain number of characters\n",
      " like in the following code the interpreter will read the first five characters of stored data and return it as a string:\n",
      "\n",
      "To manipulate the file, write \n",
      "the following in your Python environment:\n",
      "\n",
      "\n"
     ]
    }
   ],
   "metadata": {}
  }
 ],
 "metadata": {
  "orig_nbformat": 4,
  "language_info": {
   "name": "python",
   "version": "3.9.6",
   "mimetype": "text/x-python",
   "codemirror_mode": {
    "name": "ipython",
    "version": 3
   },
   "pygments_lexer": "ipython3",
   "nbconvert_exporter": "python",
   "file_extension": ".py"
  },
  "kernelspec": {
   "name": "python3",
   "display_name": "Python 3.9.6 64-bit"
  },
  "interpreter": {
   "hash": "ac59ebe37160ed0dfa835113d9b8498d9f09ceb179beaac4002f036b9467c963"
  }
 },
 "nbformat": 4,
 "nbformat_minor": 2
}