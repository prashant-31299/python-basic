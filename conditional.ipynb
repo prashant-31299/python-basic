{
 "cells": [
  {
   "cell_type": "code",
   "execution_count": null,
   "source": [],
   "outputs": [],
   "metadata": {}
  },
  {
   "cell_type": "markdown",
   "source": [
    "I. Conditional Statements\r\n",
    "If condition is true then statements will be executed.\r\n",
    "\r\n"
   ],
   "metadata": {}
  },
  {
   "cell_type": "code",
   "execution_count": 3,
   "source": [
    "name = input()\r\n",
    "if name ==\"elon\":\r\n",
    "    print(\"hey elon what happen to boring company\")"
   ],
   "outputs": [],
   "metadata": {}
  },
  {
   "cell_type": "markdown",
   "source": [
    "2) if-else:\r\n",
    "        if condition:\r\n",
    "    Action-1\r\n",
    "    else:\r\n",
    "    Action-2\r\n",
    "if condition is true then Action-1 will be executed otherwise Action-2 will be executed.\r\n"
   ],
   "metadata": {}
  },
  {
   "cell_type": "code",
   "execution_count": 5,
   "source": [
    "name = input()\r\n",
    "if name==\"elon\":\r\n",
    "    print(\"hallow elon welcome \")\r\n",
    "else:\r\n",
    "    print(\"who are you\")\r\n",
    "    \r\n",
    "    "
   ],
   "outputs": [
    {
     "output_type": "stream",
     "name": "stdout",
     "text": [
      "who are you\n"
     ]
    }
   ],
   "metadata": {}
  },
  {
   "cell_type": "markdown",
   "source": [
    ")    if-elif-else:\r\n",
    "        if condition1:\r\n",
    "        Action-1\r\n",
    "        elif condition2:\r\n",
    "         Action-2\r\n",
    "           elif condition3:\r\n",
    "           Action-3\r\n",
    "           elif condition4:\r\n",
    "        Action-4\r\n",
    "    ...\r\n",
    "    else:\r\n",
    "    Default Action\r\n",
    "  Based condition the corresponding action will be executed."
   ],
   "metadata": {}
  },
  {
   "cell_type": "code",
   "execution_count": 8,
   "source": [
    "name = input()\r\n",
    "if name==\"fb\":\r\n",
    "    print(\"mark make fb \")\r\n",
    "elif name ==\"windows\":\r\n",
    "    print(\"bill make it\")\r\n",
    "elif name ==\"elon\":\r\n",
    "    print(\"i make tesla\")\r\n",
    "else:\r\n",
    "    print(\"sorry i dont know \")"
   ],
   "outputs": [
    {
     "output_type": "stream",
     "name": "stdout",
     "text": [
      "sorry i dont know \n"
     ]
    }
   ],
   "metadata": {}
  },
  {
   "cell_type": "markdown",
   "source": [
    ") Write a Program to find Biggest of given 2 Numbers from the \r\n"
   ],
   "metadata": {}
  },
  {
   "cell_type": "code",
   "execution_count": 10,
   "source": [
    "n1= int(input())\r\n",
    "n2= int(input())\r\n",
    "if n1<n2:\r\n",
    "    print(\"biggst   number is \",n2)\r\n",
    "else:\r\n",
    "    print(\"bigest is \" ,n1)\r\n",
    "\r\n"
   ],
   "outputs": [
    {
     "output_type": "stream",
     "name": "stdout",
     "text": [
      "biggst   number is  23\n"
     ]
    }
   ],
   "metadata": {}
  },
  {
   "cell_type": "markdown",
   "source": [
    " Write a Program to find Biggest of given 3 Numbers from the \r\n",
    " Commad Prompt?"
   ],
   "metadata": {}
  },
  {
   "cell_type": "code",
   "execution_count": 14,
   "source": [
    "n1= int(input())\r\n",
    "n2= int(input())\r\n",
    "n3=int(input())\r\n",
    "if n1>n2 & n1>n3:\r\n",
    "    print(\"biggst   number is \",n1)\r\n",
    "elif n2>n3:\r\n",
    "    print(\"biggst   number is \",n3)\r\n",
    "else:\r\n",
    "    print(\"bigest is \" ,n3)\r\n",
    "\r\n"
   ],
   "outputs": [
    {
     "output_type": "stream",
     "name": "stdout",
     "text": [
      "bigest is  60\n"
     ]
    }
   ],
   "metadata": {}
  },
  {
   "cell_type": "markdown",
   "source": [],
   "metadata": {}
  },
  {
   "cell_type": "code",
   "execution_count": 23,
   "source": [
    "# Write a program to check whether the given number is even or odd\r\n",
    "num1 = int(input())\r\n",
    "if num1 % 2==0:\r\n",
    "    print(\"even\")\r\n",
    "else:\r\n",
    "    print(\"odd\")\r\n"
   ],
   "outputs": [
    {
     "output_type": "stream",
     "name": "stdout",
     "text": [
      "even\n"
     ]
    }
   ],
   "metadata": {}
  },
  {
   "cell_type": "markdown",
   "source": [
    ") Write a Program to Check whether the given Number is in \r\n",
    " between 10 and 100?"
   ],
   "metadata": {}
  },
  {
   "cell_type": "code",
   "execution_count": 4,
   "source": [
    "a = int(input())\r\n",
    "if a>=10 and a<=100:\r\n",
    "    print(\"numbet 10 to 100\")\r\n",
    "else:\r\n",
    "    print(\"out of 100\")"
   ],
   "outputs": [
    {
     "output_type": "stream",
     "name": "stdout",
     "text": [
      "out of 100\n"
     ]
    }
   ],
   "metadata": {}
  },
  {
   "cell_type": "code",
   "execution_count": null,
   "source": [],
   "outputs": [],
   "metadata": {}
  }
 ],
 "metadata": {
  "orig_nbformat": 4,
  "language_info": {
   "name": "python",
   "version": "3.9.6",
   "mimetype": "text/x-python",
   "codemirror_mode": {
    "name": "ipython",
    "version": 3
   },
   "pygments_lexer": "ipython3",
   "nbconvert_exporter": "python",
   "file_extension": ".py"
  },
  "kernelspec": {
   "name": "python3",
   "display_name": "Python 3.9.6 64-bit"
  },
  "interpreter": {
   "hash": "ac59ebe37160ed0dfa835113d9b8498d9f09ceb179beaac4002f036b9467c963"
  }
 },
 "nbformat": 4,
 "nbformat_minor": 2
}