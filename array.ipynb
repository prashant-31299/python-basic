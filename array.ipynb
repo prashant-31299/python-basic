{
 "cells": [
  {
   "cell_type": "code",
   "execution_count": 28,
   "source": [
    "from array import *\r\n",
    "vals = array('i',[5,4,5,4,88])\r\n",
    "print(vals)\r\n",
    "print(vals.buffer_info())"
   ],
   "outputs": [
    {
     "output_type": "stream",
     "name": "stdout",
     "text": [
      "array('i', [5, 4, 5, 4, 88])\n",
      "(2435217894128, 5)\n"
     ]
    }
   ],
   "metadata": {}
  },
  {
   "cell_type": "code",
   "execution_count": 18,
   "source": [
    "#reverse array\r\n",
    "vals = array('i',[5,4,5,4,88])\r\n",
    "vals.reverse()\r\n",
    "print(vals)"
   ],
   "outputs": [
    {
     "output_type": "stream",
     "name": "stdout",
     "text": [
      "array('i', [88, 4, 5, 4, 5])\n"
     ]
    }
   ],
   "metadata": {}
  },
  {
   "cell_type": "code",
   "execution_count": 21,
   "source": [
    "vals = array('i',[5,4,5,4,88])\r\n",
    "print(vals[4])"
   ],
   "outputs": [
    {
     "output_type": "stream",
     "name": "stdout",
     "text": [
      "88\n"
     ]
    }
   ],
   "metadata": {}
  },
  {
   "cell_type": "code",
   "execution_count": 26,
   "source": [
    "vals = array('i',[5,4,5,4,88])\r\n",
    "for i in range(5):\r\n",
    "    print(vals[i])"
   ],
   "outputs": [
    {
     "output_type": "stream",
     "name": "stdout",
     "text": [
      "5\n",
      "4\n",
      "5\n",
      "4\n",
      "88\n"
     ]
    }
   ],
   "metadata": {}
  },
  {
   "cell_type": "code",
   "execution_count": 27,
   "source": [
    "vals = array('i',[5,4,5,4,88])\r\n",
    "for i in vals:\r\n",
    "    print(i)"
   ],
   "outputs": [
    {
     "output_type": "stream",
     "name": "stdout",
     "text": [
      "5\n",
      "4\n",
      "5\n",
      "4\n",
      "88\n"
     ]
    }
   ],
   "metadata": {}
  },
  {
   "cell_type": "code",
   "execution_count": 34,
   "source": [
    "#add element\r\n",
    "b=array('i',[1,0,2,5,4,6,8])\r\n",
    "print(b)\r\n",
    "b.insert(9,10)\r\n",
    "print(b)\r\n",
    "\r\n",
    "# using append \r\n",
    "b.append(11) # append get only one argument\r\n",
    "print(b)\r\n"
   ],
   "outputs": [
    {
     "output_type": "stream",
     "name": "stdout",
     "text": [
      "array('i', [1, 0, 2, 5, 4, 6, 8])\n",
      "array('i', [1, 0, 2, 5, 4, 6, 8, 10])\n",
      "array('i', [1, 0, 2, 5, 4, 6, 8, 10, 11])\n"
     ]
    }
   ],
   "metadata": {}
  },
  {
   "cell_type": "code",
   "execution_count": 40,
   "source": [
    "#accesing element from array\r\n",
    "c =array('i',[5,4,5,4,88])\r\n",
    "print(c[1])\r\n",
    "print(c[-1]) # negative indexing \r\n",
    "print(c[1::])\r\n",
    "b=array('d',[1.5,2.5,3.5,4.5,5.5])\r\n",
    "print(b)\r\n"
   ],
   "outputs": [
    {
     "output_type": "stream",
     "name": "stdout",
     "text": [
      "4\n",
      "88\n",
      "array('i', [4, 5, 4, 88])\n",
      "array('d', [1.5, 2.5, 3.5, 4.5, 5.5])\n"
     ]
    }
   ],
   "metadata": {}
  },
  {
   "cell_type": "code",
   "execution_count": 44,
   "source": [
    "d=array('i',[])\r\n",
    "b=int(input(\"enter num\"))\r\n",
    "d.append(b)\r\n",
    "print(d)"
   ],
   "outputs": [
    {
     "output_type": "stream",
     "name": "stdout",
     "text": [
      "array('i', [4])\n"
     ]
    }
   ],
   "metadata": {}
  },
  {
   "cell_type": "code",
   "execution_count": 65,
   "source": [
    "# add element in array  and acces it index number\r\n",
    "a= array('i',[])\r\n",
    "n = int(input(\"enter element of arrray\"))\r\n",
    "for i in range(n):\r\n",
    "    x = int(input(\"enter elemen\")) \r\n",
    "    a.append(x)\r\n",
    "print(a)\r\n",
    "\r\n",
    "val = int(input(\"enter value to search\"))\r\n",
    "k =0 \r\n",
    "for e in a:\r\n",
    "    if e==val:\r\n",
    "        print(k)\r\n",
    "        break\r\n",
    "    k+=1\r\n",
    "print(a.index(val))"
   ],
   "outputs": [
    {
     "output_type": "stream",
     "name": "stdout",
     "text": [
      "array('i', [10, 20, 30, 40])\n",
      "1\n",
      "1\n"
     ]
    }
   ],
   "metadata": {}
  },
  {
   "cell_type": "code",
   "execution_count": 10,
   "source": [
    "#Q1 swaping array index\r\n",
    "from array import *\r\n",
    "a=array(\"i\",[1,2,3,4,5,6])\r\n",
    "b=array(\"i\",[10,20,30,40,50])\r\n",
    "temp =a[1]\r\n",
    "a[1]=b[1]\r\n",
    "b[1]=temp\r\n",
    "print(a)"
   ],
   "outputs": [
    {
     "output_type": "stream",
     "name": "stdout",
     "text": [
      "array('i', [1, 20, 3, 4, 5, 6])\n"
     ]
    }
   ],
   "metadata": {}
  },
  {
   "cell_type": "code",
   "execution_count": 25,
   "source": [
    "a=[111,2,3,4,5,6,74,81]\r\n",
    "max=a[0]\r\n",
    "for i in range(len(a)):\r\n",
    "    if  a[i]> max:\r\n",
    "        max = a[i]\r\n",
    "print(max)\r\n",
    "\r\n"
   ],
   "outputs": [
    {
     "output_type": "stream",
     "name": "stdout",
     "text": [
      "111\n"
     ]
    }
   ],
   "metadata": {}
  },
  {
   "cell_type": "code",
   "execution_count": 53,
   "source": [
    "a=[111,2,3,4,5,6,74,81]\r\n",
    "#print(a[::-1])\r\n",
    "#a.reverse()\r\n",
    "#print(a)\r\n",
    "for i in range(len(a)-1,-1,-1):\r\n",
    "    print(a[i])"
   ],
   "outputs": [
    {
     "output_type": "stream",
     "name": "stdout",
     "text": [
      "81\n",
      "74\n",
      "6\n",
      "5\n",
      "4\n",
      "3\n",
      "2\n",
      "111\n"
     ]
    }
   ],
   "metadata": {}
  }
 ],
 "metadata": {
  "orig_nbformat": 4,
  "language_info": {
   "name": "python",
   "version": "3.9.6",
   "mimetype": "text/x-python",
   "codemirror_mode": {
    "name": "ipython",
    "version": 3
   },
   "pygments_lexer": "ipython3",
   "nbconvert_exporter": "python",
   "file_extension": ".py"
  },
  "kernelspec": {
   "name": "python3",
   "display_name": "Python 3.9.6 64-bit"
  },
  "interpreter": {
   "hash": "ac59ebe37160ed0dfa835113d9b8498d9f09ceb179beaac4002f036b9467c963"
  }
 },
 "nbformat": 4,
 "nbformat_minor": 2
}