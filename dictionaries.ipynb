{
 "cells": [
  {
   "cell_type": "code",
   "execution_count": null,
   "source": [],
   "outputs": [],
   "metadata": {}
  },
  {
   "cell_type": "markdown",
   "source": [
    "֍ Duplicate keys are not allowed but values can be duplicated.\r\n",
    "֍ Hetrogeneous objects are allowed for both key and values.\r\n",
    "֍ Insertion order is not preserved\r\n",
    "֍ Dictionaries are mutable\r\n",
    "֍ Dictionaries are dynamic\r\n",
    "֍ indexing and slicing concepts are not applicable\r\n"
   ],
   "metadata": {}
  },
  {
   "cell_type": "code",
   "execution_count": 4,
   "source": [
    "d={\"prashant\":\"vegeterian\",\"hitesh\":\"chicken\",\"ritesh\":\"amit\"}\r\n",
    "print(d[\"prashant\"])"
   ],
   "outputs": [
    {
     "output_type": "stream",
     "name": "stdout",
     "text": [
      "vegeterian\n"
     ]
    }
   ],
   "metadata": {}
  },
  {
   "cell_type": "code",
   "execution_count": 7,
   "source": [
    "#add value to dictionary update\r\n",
    "d={\"prashant\":\"vegeterian\",\"hitesh\":\"chicken\",\"ritesh\":\"amit\"}\r\n",
    "d[\"harsh\"]=\"panner\"\r\n",
    "print(d)"
   ],
   "outputs": [
    {
     "output_type": "stream",
     "name": "stdout",
     "text": [
      "{'prashant': 'vegeterian', 'hitesh': 'chicken', 'ritesh': 'amit', 'harsh': 'panner'}\n"
     ]
    }
   ],
   "metadata": {}
  },
  {
   "cell_type": "code",
   "execution_count": 8,
   "source": [
    "#Q) Write a Program to Enter Name and Percentage Marks \r\n",
    "# in a Dictionary and Display Information on the Scree\r\n",
    "print(d[\"prashant\"])"
   ],
   "outputs": [
    {
     "output_type": "stream",
     "name": "stdout",
     "text": [
      "vegeterian\n"
     ]
    }
   ],
   "metadata": {}
  },
  {
   "cell_type": "code",
   "execution_count": 22,
   "source": [
    "rec={}\r\n",
    "n=int(input(\"enter some num\"))\r\n",
    "i=1\r\n",
    "while i<=n:\r\n",
    "    name=input(\"name\")\r\n",
    "    marks=int(input(\"marks\"))\r\n",
    "    rec[name]=marks\r\n",
    "    i=i+1\r\n",
    "print(\"name of student\\t % marks \")\r\n",
    "for x in rec:\r\n",
    "    print(x ,rec[x])"
   ],
   "outputs": [
    {
     "output_type": "stream",
     "name": "stdout",
     "text": [
      "name of student\t % marks \n",
      "prashnt 90\n"
     ]
    }
   ],
   "metadata": {}
  },
  {
   "cell_type": "code",
   "execution_count": 25,
   "source": [
    "# delete the value\r\n",
    "d={\"prashant\":\"vegeterian\",\"hitesh\":\"chicken\",\"ritesh\":\"amit\"}\r\n",
    "del d[\"prashant\"]\r\n",
    "print(d)"
   ],
   "outputs": [
    {
     "output_type": "stream",
     "name": "stdout",
     "text": [
      "{'hitesh': 'chicken', 'ritesh': 'amit'}\n"
     ]
    }
   ],
   "metadata": {}
  },
  {
   "cell_type": "code",
   "execution_count": null,
   "source": [],
   "outputs": [],
   "metadata": {}
  }
 ],
 "metadata": {
  "orig_nbformat": 4,
  "language_info": {
   "name": "python",
   "version": "3.8.8",
   "mimetype": "text/x-python",
   "codemirror_mode": {
    "name": "ipython",
    "version": 3
   },
   "pygments_lexer": "ipython3",
   "nbconvert_exporter": "python",
   "file_extension": ".py"
  },
  "kernelspec": {
   "name": "python3",
   "display_name": "Python 3.8.8 64-bit ('base': conda)"
  },
  "interpreter": {
   "hash": "183bbf6827d058c2a2fb0f4acdc0420849dda2b4380af0e437e38c64d798d8b7"
  }
 },
 "nbformat": 4,
 "nbformat_minor": 2
}