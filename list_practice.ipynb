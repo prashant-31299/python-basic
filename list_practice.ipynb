{
 "cells": [
  {
   "cell_type": "markdown",
   "source": [
    "            list datatype in python\r\n",
    "֍ If we want to represent a group of individual objects as a single entity where insertion \r\n",
    "order preserved and duplicates are allowed, then we should go for List.\r\n",
    "֍ insertion order preserved.\r\n",
    "֍ duplicate objects are allowed.\r\n",
    "֍ heterogeneous objects are allowed.\r\n",
    "֍ List is dynamic because based on our requirement we can increase the size and \r\n",
    "decrease the size.\r\n",
    "֍ In List the elements will be placed within square brackets and with comma seperator.\r\n",
    "֍ We can differentiate duplicate elements by using index and we can preserve insertion \r\n",
    "order by using index. Hence index will play very important role.\r\n",
    "֍ Python supports both positive and negative indexes. +ve index means from left to \r\n",
    "right where as negative index means right to left. \r\n",
    " [10,\"A\",\"B\",20, 30, 10]"
   ],
   "metadata": {}
  },
  {
   "cell_type": "code",
   "execution_count": 1,
   "source": [
    "list = [ 10,20,30,40,50,60]\r\n",
    "print(list)"
   ],
   "outputs": [
    {
     "output_type": "stream",
     "name": "stdout",
     "text": [
      "[10, 20, 30, 40, 50, 60]\n"
     ]
    }
   ],
   "metadata": {}
  },
  {
   "cell_type": "code",
   "execution_count": 3,
   "source": [
    "list = [ 10,20,30,40,50,60]\r\n",
    "print(len(list))"
   ],
   "outputs": [
    {
     "output_type": "stream",
     "name": "stdout",
     "text": [
      "6\n"
     ]
    }
   ],
   "metadata": {}
  },
  {
   "cell_type": "code",
   "execution_count": 12,
   "source": [
    "list = [ 10,20,30,40,50,60]\r\n",
    "print(list[1:4])"
   ],
   "outputs": [
    {
     "output_type": "stream",
     "name": "stdout",
     "text": [
      "[20, 30, 40]\n"
     ]
    }
   ],
   "metadata": {}
  },
  {
   "cell_type": "code",
   "execution_count": null,
   "source": [],
   "outputs": [],
   "metadata": {}
  },
  {
   "cell_type": "markdown",
   "source": [
    "List vs Mutability:\r\n",
    "Once we creates a List object, we can modify its content. Hence List objects are mutable"
   ],
   "metadata": {}
  },
  {
   "cell_type": "code",
   "execution_count": 10,
   "source": [
    "n=[10,20,360]\r\n",
    "print(n)\r\n",
    "n[1]=77\r\n",
    "print(n)"
   ],
   "outputs": [
    {
     "output_type": "stream",
     "name": "stdout",
     "text": [
      "[10, 20, 360]\n",
      "[10, 77, 360]\n"
     ]
    }
   ],
   "metadata": {}
  },
  {
   "cell_type": "code",
   "execution_count": 14,
   "source": [
    "# insert function \r\n",
    "# To insert item at specified index position\r\n",
    "n=[10,20,360]\r\n",
    "n.insert(3,25)\r\n",
    "print(n)\r\n"
   ],
   "outputs": [
    {
     "output_type": "stream",
     "name": "stdout",
     "text": [
      "[10, 20, 360, 25]\n"
     ]
    }
   ],
   "metadata": {}
  },
  {
   "cell_type": "code",
   "execution_count": 16,
   "source": [
    "n=[10,20,360]\r\n",
    "n.insert(10,88787) # value inser at last \r\n",
    "print(n)"
   ],
   "outputs": [
    {
     "output_type": "stream",
     "name": "stdout",
     "text": [
      "[10, 20, 360, 88787]\n"
     ]
    }
   ],
   "metadata": {}
  },
  {
   "cell_type": "markdown",
   "source": [
    " append() Function:\r\n",
    " We can use append() function to add item at the end of the list"
   ],
   "metadata": {}
  },
  {
   "cell_type": "code",
   "execution_count": 17,
   "source": [
    "n=[10,20,30,40,50,60]\r\n",
    "n.append(400)\r\n",
    "print(n)"
   ],
   "outputs": [
    {
     "output_type": "stream",
     "name": "stdout",
     "text": [
      "[10, 20, 30, 40, 50, 60, 400]\n"
     ]
    }
   ],
   "metadata": {}
  },
  {
   "cell_type": "markdown",
   "source": [
    "append()\r\n",
    "In List when we add any element it will \r\n",
    "come in last i.e. it will be last element.\r\n",
    "\r\n",
    "insert()\r\n",
    "In List we can insert any element in \r\n",
    "particular index number"
   ],
   "metadata": {}
  },
  {
   "cell_type": "markdown",
   "source": [
    "3) extend() Function:\r\n",
    " To add all items of one list to another list\r\n",
    " l1.extend(l2)\r\n",
    " all items present in l2 will be added to l1"
   ],
   "metadata": {}
  },
  {
   "cell_type": "code",
   "execution_count": 19,
   "source": [
    "a=[\"a\",\"b\",\"c\",\"d\",\"e\"]\r\n",
    "b=[1,2,3,4]\r\n",
    "a.extend(b)\r\n",
    "print(b)\r\n",
    "print(a)"
   ],
   "outputs": [
    {
     "output_type": "stream",
     "name": "stdout",
     "text": [
      "[1, 2, 3, 4]\n",
      "['a', 'b', 'c', 'd', 'e', 1, 2, 3, 4]\n"
     ]
    }
   ],
   "metadata": {}
  },
  {
   "cell_type": "markdown",
   "source": [
    "4) remove() Function:\r\n",
    "We can use this function to remove specified item from the list.If the item present \r\n",
    "multiple times then only first occurrence will be remove"
   ],
   "metadata": {}
  },
  {
   "cell_type": "code",
   "execution_count": 21,
   "source": [
    "n=[10,20,30,40,650,6,0,5,20]\r\n",
    "n.remove(10)\r\n",
    "n.remove(20)\r\n",
    "print(n)"
   ],
   "outputs": [
    {
     "output_type": "stream",
     "name": "stdout",
     "text": [
      "[30, 40, 650, 6, 0, 5, 20]\n"
     ]
    }
   ],
   "metadata": {}
  },
  {
   "cell_type": "markdown",
   "source": [
    "In general we can use pop() function to remove last element of the list. But we can use to \r\n",
    "remove elements based on index"
   ],
   "metadata": {}
  },
  {
   "cell_type": "code",
   "execution_count": 23,
   "source": [
    "n=[10,20,30,40,650,6,0,5,20]\r\n",
    "n.pop()\r\n",
    "n.pop(2)\r\n",
    "print(n)"
   ],
   "outputs": [
    {
     "output_type": "stream",
     "name": "stdout",
     "text": [
      "[10, 20, 40, 650, 6, 0, 5]\n"
     ]
    }
   ],
   "metadata": {}
  },
  {
   "cell_type": "code",
   "execution_count": 28,
   "source": [
    "#sort\r\n",
    "n =  [5,4,7,63,1,72,65,749,7,6,12,9]\r\n",
    "n.sort()\r\n",
    "\r\n",
    "print(n)"
   ],
   "outputs": [
    {
     "output_type": "error",
     "ename": "TypeError",
     "evalue": "'<' not supported between instances of 'str' and 'int'",
     "traceback": [
      "\u001b[1;31m---------------------------------------------------------------------------\u001b[0m",
      "\u001b[1;31mTypeError\u001b[0m                                 Traceback (most recent call last)",
      "\u001b[1;32m~\\AppData\\Local\\Temp/ipykernel_9696/2955616023.py\u001b[0m in \u001b[0;36m<module>\u001b[1;34m\u001b[0m\n\u001b[0;32m      1\u001b[0m \u001b[1;31m#sort\u001b[0m\u001b[1;33m\u001b[0m\u001b[1;33m\u001b[0m\u001b[1;33m\u001b[0m\u001b[0m\n\u001b[0;32m      2\u001b[0m \u001b[0mn\u001b[0m \u001b[1;33m=\u001b[0m  \u001b[1;33m[\u001b[0m\u001b[1;36m5\u001b[0m\u001b[1;33m,\u001b[0m\u001b[1;36m4\u001b[0m\u001b[1;33m,\u001b[0m\u001b[1;36m7\u001b[0m\u001b[1;33m,\u001b[0m\u001b[1;34m\"a\"\u001b[0m\u001b[1;33m,\u001b[0m\u001b[1;34m\"as\"\u001b[0m\u001b[1;33m,\u001b[0m\u001b[1;34m\"fs\"\u001b[0m\u001b[1;33m,\u001b[0m\u001b[1;36m63\u001b[0m\u001b[1;33m,\u001b[0m\u001b[1;36m1\u001b[0m\u001b[1;33m,\u001b[0m\u001b[1;36m72\u001b[0m\u001b[1;33m,\u001b[0m\u001b[1;36m65\u001b[0m\u001b[1;33m,\u001b[0m\u001b[1;36m749\u001b[0m\u001b[1;33m,\u001b[0m\u001b[1;36m7\u001b[0m\u001b[1;33m,\u001b[0m\u001b[1;36m6\u001b[0m\u001b[1;33m,\u001b[0m\u001b[1;36m12\u001b[0m\u001b[1;33m,\u001b[0m\u001b[1;36m9\u001b[0m\u001b[1;33m]\u001b[0m\u001b[1;33m\u001b[0m\u001b[1;33m\u001b[0m\u001b[0m\n\u001b[1;32m----> 3\u001b[1;33m \u001b[0mn\u001b[0m\u001b[1;33m.\u001b[0m\u001b[0msort\u001b[0m\u001b[1;33m(\u001b[0m\u001b[1;33m)\u001b[0m\u001b[1;33m\u001b[0m\u001b[1;33m\u001b[0m\u001b[0m\n\u001b[0m\u001b[0;32m      4\u001b[0m \u001b[1;33m\u001b[0m\u001b[0m\n\u001b[0;32m      5\u001b[0m \u001b[0mprint\u001b[0m\u001b[1;33m(\u001b[0m\u001b[0mn\u001b[0m\u001b[1;33m)\u001b[0m\u001b[1;33m\u001b[0m\u001b[1;33m\u001b[0m\u001b[0m\n",
      "\u001b[1;31mTypeError\u001b[0m: '<' not supported between instances of 'str' and 'int'"
     ]
    }
   ],
   "metadata": {}
  },
  {
   "cell_type": "code",
   "execution_count": null,
   "source": [
    "n =  [5,4,7,63,1,72,65,749,7,6,12,9]\r\n"
   ],
   "outputs": [],
   "metadata": {}
  },
  {
   "cell_type": "code",
   "execution_count": 30,
   "source": [
    "#Using Mathematical Operators for List Objects:\r\n",
    "a=[1,2,3,54,2]\r\n",
    "b=[5,4,6,1,2]\r\n",
    "print(a+b)\r\n",
    "print(a==b)\r\n",
    "print(a*2)"
   ],
   "outputs": [
    {
     "output_type": "stream",
     "name": "stdout",
     "text": [
      "[1, 2, 3, 54, 2, 5, 4, 6, 1, 2]\n",
      "False\n",
      "[1, 2, 3, 54, 2, 1, 2, 3, 54, 2]\n"
     ]
    }
   ],
   "metadata": {}
  },
  {
   "cell_type": "markdown",
   "source": [
    "Nested Lists:\r\n",
    "Sometimes we can take one list inside another list. Such type of lists are called nested \r\n",
    "lists."
   ],
   "metadata": {}
  },
  {
   "cell_type": "code",
   "execution_count": 35,
   "source": [
    "r= [10,20,30,40,[20,12]]\r\n",
    "print(r)\r\n",
    "print(r[2])\r\n",
    "print(r[4][1])"
   ],
   "outputs": [
    {
     "output_type": "stream",
     "name": "stdout",
     "text": [
      "[10, 20, 30, 40, [20, 12]]\n",
      "30\n",
      "12\n"
     ]
    }
   ],
   "metadata": {}
  },
  {
   "cell_type": "code",
   "execution_count": 48,
   "source": [
    "m =[[10,20,30],[40,50,60],[70,80,90]]\r\n",
    "print(m)\r\n",
    "print(\"element row wise\")\r\n",
    "for i in m:\r\n",
    "    print(i)\r\n",
    "for i in range(len(m)):\r\n",
    "    for j in range(len(m[i])):\r\n",
    "        print(m[i][j],end=\"\")\r\n",
    "    print()"
   ],
   "outputs": [
    {
     "output_type": "stream",
     "name": "stdout",
     "text": [
      "[[10, 20, 30], [40, 50, 60], [70, 80, 90]]\n",
      "element row wise\n",
      "[10, 20, 30]\n",
      "[40, 50, 60]\n",
      "[70, 80, 90]\n",
      "102030\n",
      "405060\n",
      "708090\n"
     ]
    }
   ],
   "metadata": {}
  },
  {
   "cell_type": "code",
   "execution_count": 2,
   "source": [
    "m =[[10,20,30],[40,50,60],[70,80,90]]\r\n",
    "for i in m:\r\n",
    "    print(i,end=\"\")"
   ],
   "outputs": [
    {
     "output_type": "stream",
     "name": "stdout",
     "text": [
      "[10, 20, 30][40, 50, 60][70, 80, 90]"
     ]
    }
   ],
   "metadata": {}
  }
 ],
 "metadata": {
  "orig_nbformat": 4,
  "language_info": {
   "name": "python",
   "version": "3.9.6",
   "mimetype": "text/x-python",
   "codemirror_mode": {
    "name": "ipython",
    "version": 3
   },
   "pygments_lexer": "ipython3",
   "nbconvert_exporter": "python",
   "file_extension": ".py"
  },
  "kernelspec": {
   "name": "python3",
   "display_name": "Python 3.9.6 64-bit"
  },
  "interpreter": {
   "hash": "ac59ebe37160ed0dfa835113d9b8498d9f09ceb179beaac4002f036b9467c963"
  }
 },
 "nbformat": 4,
 "nbformat_minor": 2
}