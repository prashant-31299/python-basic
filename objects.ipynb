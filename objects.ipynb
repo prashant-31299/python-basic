{
 "cells": [
  {
   "cell_type": "code",
   "execution_count": null,
   "source": [],
   "outputs": [],
   "metadata": {}
  },
  {
   "cell_type": "code",
   "execution_count": null,
   "source": [],
   "outputs": [],
   "metadata": {}
  },
  {
   "cell_type": "code",
   "execution_count": null,
   "source": [],
   "outputs": [],
   "metadata": {}
  },
  {
   "cell_type": "code",
   "execution_count": null,
   "source": [],
   "outputs": [],
   "metadata": {}
  },
  {
   "cell_type": "code",
   "execution_count": null,
   "source": [],
   "outputs": [],
   "metadata": {}
  },
  {
   "cell_type": "code",
   "execution_count": null,
   "source": [],
   "outputs": [],
   "metadata": {}
  },
  {
   "cell_type": "code",
   "execution_count": 5,
   "source": [
    "class student:\r\n",
    "    pass\r\n",
    "student1  = student()\r\n",
    "student2 = student()\r\n",
    "student1.name = \"elon musk\"\r\n",
    "student1.std = 7\r\n",
    "student2.name = \"bill\"\r\n",
    "\r\n",
    "print(student1.name)"
   ],
   "outputs": [
    {
     "output_type": "stream",
     "name": "stdout",
     "text": [
      "elon musk\n"
     ]
    }
   ],
   "metadata": {}
  },
  {
   "cell_type": "code",
   "execution_count": 6,
   "source": [
    "class Employe:\r\n",
    "    pass\r\n",
    " \r\n",
    "ravi = Employe()\r\n",
    "kisan = Employe()\r\n",
    "\r\n",
    "ravi.age = 30\r\n",
    "ravi.work = \"farming\"\r\n",
    "\r\n",
    "kisan.age =50\r\n",
    "kisan.work =\"pump water \"\r\n",
    "\r\n",
    "print(ravi.work)\r\n",
    "print(kisan.age)"
   ],
   "outputs": [
    {
     "output_type": "stream",
     "name": "stdout",
     "text": [
      "farming\n",
      "50\n"
     ]
    }
   ],
   "metadata": {}
  },
  {
   "cell_type": "code",
   "execution_count": 1,
   "source": [
    " # instance & class veriable \r\n",
    " class student:\r\n",
    "     leaves = 12\r\n",
    "     pass \r\n",
    "\r\n",
    "prashant = student()\r\n",
    "hitesh  = student()\r\n",
    "\r\n",
    "prashant.name = \"prashant\"\r\n",
    "prashant.age = 21\r\n",
    "prashant.std = \" BCCA \"\r\n",
    "\r\n",
    "hitesh.name = \"hitesh\"\r\n",
    "hitesh.age = 20\r\n",
    "hitesh.std = \"BCCA ||\"\r\n",
    "\r\n",
    "student.leaves =202\r\n",
    "hitesh.leaves = 2\r\n",
    "print(hitesh.name)\r\n",
    "print(hitesh.leaves)\r\n"
   ],
   "outputs": [
    {
     "output_type": "stream",
     "name": "stdout",
     "text": [
      "hitesh\n",
      "2\n"
     ]
    }
   ],
   "metadata": {}
  },
  {
   "cell_type": "code",
   "execution_count": 9,
   "source": [
    "#SELF AND INIT IN PYTHON\r\n",
    " # instance & class veriable \r\n",
    "class student:\r\n",
    "    def printdata(self):\r\n",
    "        return self.name ,self.age , self.std\r\n",
    "prashant = student()\r\n",
    "hitesh  = student()\r\n",
    "\r\n",
    "prashant.name = \"prashant\"\r\n",
    "prashant.age = 21\r\n",
    "prashant.std = \" BCCA \"\r\n",
    "\r\n",
    "hitesh.name = \"hitesh\"\r\n",
    "hitesh.age = 20\r\n",
    "hitesh.std = \"BCCA ||\"\r\n",
    "\r\n",
    "student.leaves =202\r\n",
    "hitesh.leaves = 2\r\n",
    "print(hitesh.name)\r\n",
    "print(hitesh.leaves)\r\n",
    "print(prashant.__dict__)\r\n",
    "\r\n",
    "print(prashant.printdata())"
   ],
   "outputs": [
    {
     "output_type": "stream",
     "name": "stdout",
     "text": [
      "hitesh\n",
      "2\n",
      "{'name': 'prashant', 'age': 21, 'std': ' BCCA '}\n",
      "('prashant', 21, ' BCCA ')\n"
     ]
    }
   ],
   "metadata": {}
  },
  {
   "cell_type": "code",
   "execution_count": 28,
   "source": [
    "class student:\r\n",
    "    def mystudent(self):\r\n",
    "        return self.age\r\n",
    "\r\n",
    "prashant =student()\r\n",
    "prashant.name = \"prashant \"\r\n",
    "prashant.age = 22\r\n",
    "\r\n",
    "print(prashant.mystudent())"
   ],
   "outputs": [
    {
     "output_type": "stream",
     "name": "stdout",
     "text": [
      "22\n"
     ]
    }
   ],
   "metadata": {}
  },
  {
   "cell_type": "code",
   "execution_count": 6,
   "source": [
    "class collage:\r\n",
    "  def __init__(self,aname,aAge,astd):\r\n",
    "    self.name = aname\r\n",
    "    self.age = aAge\r\n",
    "    self.std = astd\r\n",
    "\r\n",
    "  \r\n",
    "  def studentclass(self):\r\n",
    "    print(\"hallow my name is \",self.name, self.age)\r\n",
    "\r\n",
    "harry = collage(\"harry\",21,\"BCCA\")\r\n",
    "larry =collage(\"larry\",22,\"bcom\")\r\n",
    "\r\n",
    "harry.studentclass()\r\n",
    "larry.studentclass()"
   ],
   "outputs": [
    {
     "output_type": "stream",
     "name": "stdout",
     "text": [
      "hallow my name is  harry 21\n",
      "hallow my name is  larry 22\n"
     ]
    }
   ],
   "metadata": {}
  },
  {
   "cell_type": "code",
   "execution_count": 13,
   "source": [
    "class name:\r\n",
    "\r\n",
    "    def __init__(self,aname,aage) :\r\n",
    "        self.name =aname\r\n",
    "        self.age = aage\r\n",
    "\r\n",
    "    def myname(self):\r\n",
    "        print(self.name , \"and \",self.age)\r\n",
    "\r\n",
    "\r\n",
    "prashant  = name(\"prashant chavan\",22)\r\n",
    "\r\n",
    "prashant.myname()\r\n",
    "       "
   ],
   "outputs": [
    {
     "output_type": "stream",
     "name": "stdout",
     "text": [
      "prashant chavan and  22\n"
     ]
    }
   ],
   "metadata": {}
  },
  {
   "cell_type": "code",
   "execution_count": 3,
   "source": [
    "#Find out the cost of a rectangular field with breadth(b=120), length(l=160). It costs x (2000) rupees per 1 square unit\r\n",
    "class rectange:\r\n",
    "    def __init__(self, length, breath, unit_cost=0):\r\n",
    "        self.length = length\r\n",
    "        self.breath = breath\r\n",
    "        self.unit_cost = unit_cost\r\n",
    "    \r\n",
    "    def get_area(self):\r\n",
    "        return self.length * self.breath\r\n",
    "    def calculation(self):\r\n",
    "        area =self.get_area()\r\n",
    "        return area * self.unit_cost\r\n",
    "\r\n",
    "r = rectange(160,120,200)\r\n",
    "print(r.get_area()) "
   ],
   "outputs": [
    {
     "output_type": "stream",
     "name": "stdout",
     "text": [
      "19200\n"
     ]
    }
   ],
   "metadata": {}
  },
  {
   "cell_type": "code",
   "execution_count": 9,
   "source": [
    "class village:\r\n",
    "    def __init__(self,name,area,population) -> None:\r\n",
    "        self.name =name\r\n",
    "        self.population = population\r\n",
    "        self.area = area\r\n",
    "    def peoplevillage(self):\r\n",
    "        print(\"im prashant chavan live in {} village population is{} area is {}\".format(self.name,self.population,self.area))\r\n",
    "\r\n",
    "devhari = village(\"devhari\",1500,25)\r\n",
    "devhari.peoplevillage()"
   ],
   "outputs": [
    {
     "output_type": "stream",
     "name": "stdout",
     "text": [
      "im prashant chavan live in devhari village population is25 area is 1500\n"
     ]
    }
   ],
   "metadata": {}
  },
  {
   "cell_type": "code",
   "execution_count": 16,
   "source": [
    "#Program to demonistrate Constructor will execute only once per Object:\r\n",
    "class test:\r\n",
    "\r\n",
    "    def __init__(self) -> None:\r\n",
    "        print(\"Construction execution\")\r\n",
    "    def m1(self):\r\n",
    "        print(\"method execution\")\r\n",
    "\r\n",
    "t1=test()\r\n",
    "t2=test()\r\n",
    "t3=test()\r\n",
    "t1.m1()"
   ],
   "outputs": [
    {
     "output_type": "stream",
     "name": "stdout",
     "text": [
      "Construction execution\n",
      "Construction execution\n",
      "Construction execution\n",
      "method execution\n"
     ]
    }
   ],
   "metadata": {}
  },
  {
   "cell_type": "code",
   "execution_count": 31,
   "source": [
    "class student:\r\n",
    "    def __init__(self,x,y,z):\r\n",
    "        self.name=x\r\n",
    "        self.rollno =y\r\n",
    "        self.marks=z\r\n",
    "    def display(self):\r\n",
    "        print(self.name,self.rollno,self.marks)\r\n",
    "\r\n",
    "s1= student(\"prashant\",21,79)\r\n",
    "\r\n",
    "s2=student(\"madhav\",25,88)\r\n",
    "s1.display()\r\n",
    "s2.display()\r\n",
    "        "
   ],
   "outputs": [
    {
     "output_type": "stream",
     "name": "stdout",
     "text": [
      "prashant 21 79\n",
      "madhav 25 88\n"
     ]
    }
   ],
   "metadata": {}
  },
  {
   "cell_type": "code",
   "execution_count": null,
   "source": [],
   "outputs": [],
   "metadata": {}
  }
 ],
 "metadata": {
  "orig_nbformat": 4,
  "language_info": {
   "name": "python",
   "version": "3.9.6",
   "mimetype": "text/x-python",
   "codemirror_mode": {
    "name": "ipython",
    "version": 3
   },
   "pygments_lexer": "ipython3",
   "nbconvert_exporter": "python",
   "file_extension": ".py"
  },
  "kernelspec": {
   "name": "python3",
   "display_name": "Python 3.9.6 64-bit"
  },
  "interpreter": {
   "hash": "ac59ebe37160ed0dfa835113d9b8498d9f09ceb179beaac4002f036b9467c963"
  }
 },
 "nbformat": 4,
 "nbformat_minor": 2
}