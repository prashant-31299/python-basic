{
 "cells": [
  {
   "cell_type": "markdown",
   "source": [
    "set data structure\r\n",
    " If we want to represent a group of unique values as a single entity then we should go \r\n",
    "for set.\r\n",
    " Duplicates are not allowed.\r\n",
    " Insertion order is not preserved.But we can sort the elements.\r\n",
    " Indexing and slicing not allowed for the set.\r\n",
    " Heterogeneous elements are allowed.\r\n",
    " Set objects are mutable i.e once we creates set object we can perform any changes in \r\n",
    "that object based on our requirement.\r\n",
    " We can represent set elements within curly braces and with comma seperation\r\n",
    " We can apply mathematical operations like union, intersection, difference etc on set \r\n",
    "objects"
   ],
   "metadata": {}
  },
  {
   "cell_type": "code",
   "execution_count": 1,
   "source": [
    "s= {10,20,30,40}\r\n",
    "print(s)\r\n",
    "print(type(s))"
   ],
   "outputs": [
    {
     "output_type": "stream",
     "name": "stdout",
     "text": [
      "{40, 10, 20, 30}\n",
      "<class 'set'>\n"
     ]
    }
   ],
   "metadata": {}
  },
  {
   "cell_type": "code",
   "execution_count": 4,
   "source": [
    "s={10,20,30,40}\r\n",
    "s.add(50)\r\n",
    "print(s)\r\n",
    "# there no indexing in set "
   ],
   "outputs": [
    {
     "output_type": "stream",
     "name": "stdout",
     "text": [
      "{40, 10, 50, 20, 30}\n"
     ]
    }
   ],
   "metadata": {}
  },
  {
   "cell_type": "code",
   "execution_count": 4,
   "source": [
    "s=set()\r\n",
    "print(type(s))"
   ],
   "outputs": [
    {
     "output_type": "stream",
     "name": "stdout",
     "text": [
      "<class 'set'>\n"
     ]
    }
   ],
   "metadata": {}
  }
 ],
 "metadata": {
  "orig_nbformat": 4,
  "language_info": {
   "name": "python",
   "version": "3.9.6",
   "mimetype": "text/x-python",
   "codemirror_mode": {
    "name": "ipython",
    "version": 3
   },
   "pygments_lexer": "ipython3",
   "nbconvert_exporter": "python",
   "file_extension": ".py"
  },
  "kernelspec": {
   "name": "python3",
   "display_name": "Python 3.9.6 64-bit"
  },
  "interpreter": {
   "hash": "ac59ebe37160ed0dfa835113d9b8498d9f09ceb179beaac4002f036b9467c963"
  }
 },
 "nbformat": 4,
 "nbformat_minor": 2
}