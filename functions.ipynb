{
 "cells": [
  {
   "cell_type": "code",
   "execution_count": null,
   "source": [],
   "outputs": [],
   "metadata": {}
  },
  {
   "cell_type": "code",
   "execution_count": null,
   "source": [],
   "outputs": [],
   "metadata": {}
  },
  {
   "cell_type": "markdown",
   "source": [
    " If a group of statements is repeatedly required then it is not recommended to write \r\n",
    "these statements everytime seperately.We have to define these statements as a single \r\n",
    "unit and we can call that unit any number of times based on our requirement without \r\n",
    "rewriting. This unit is nothing but function.\r\n",
    "֍ The main advantage of functions is code Reusability.\r\n",
    "֍ Note: In other languages functions are known as methods,procedures,subroutines etc\r\n",
    "֍ Python supports 2 types of functions\r\n",
    "1) Built in Functions\r\n",
    "2) User Defined Functions\r\n",
    "1)Built in Functions:\r\n",
    "The functions which are coming along with Python software automatically, are called \r\n",
    "built in functions or pre defined functions.\r\n",
    "Eg: id()\r\n",
    " type()\r\n",
    " input()\r\n",
    " eval()\r\n",
    " etc..\r\n",
    "2)User Defined Functions:\r\n",
    "The functions which are developed by programmer explicitly according to business \r\n",
    "requirements, are called user defined functions.\r\n",
    " Syntax to Create User defined Functions:\r\n",
    " def function_name(parameters) :\r\n",
    " \"\"\" doc string\"\"\"\r\n",
    " ----\r\n",
    " -----\r\n",
    " return value\r\n",
    "Note: While creating functions we can use 2 keywords\r\n",
    "1) def (mandatory)\r\n",
    "2) return (optional)"
   ],
   "metadata": {}
  },
  {
   "cell_type": "code",
   "execution_count": 1,
   "source": [
    "# write function \r\n",
    "def fun():\r\n",
    "    print(\"Hallow world\")\r\n",
    "fun()"
   ],
   "outputs": [
    {
     "output_type": "stream",
     "name": "stdout",
     "text": [
      "Hallow world\n"
     ]
    }
   ],
   "metadata": {}
  },
  {
   "cell_type": "code",
   "execution_count": 4,
   "source": [
    "#parameter\r\n",
    "def myname(name):\r\n",
    "    print(\"hallow\",name)\r\n",
    "myname(\"prashant\")"
   ],
   "outputs": [
    {
     "output_type": "stream",
     "name": "stdout",
     "text": [
      "hallow prashant\n"
     ]
    }
   ],
   "metadata": {}
  },
  {
   "cell_type": "code",
   "execution_count": 5,
   "source": [
    "# squre root\r\n",
    "def squre(num):\r\n",
    "    print(num*num)\r\n",
    "squre(int(input()))"
   ],
   "outputs": [
    {
     "output_type": "stream",
     "name": "stdout",
     "text": [
      "62500\n"
     ]
    }
   ],
   "metadata": {}
  },
  {
   "cell_type": "markdown",
   "source": [
    "Return Statement:\r\n",
    "Function can take input values as parameters and executes business logic, and returns \r\n",
    "output to the caller with return statement"
   ],
   "metadata": {}
  },
  {
   "cell_type": "code",
   "execution_count": 2,
   "source": [
    "def add(a,b):\r\n",
    "    sum= a+b\r\n",
    "    return sum\r\n",
    "result=add(10,20)\r\n",
    "print(add(6,5))\r\n",
    "print(result)\r\n"
   ],
   "outputs": [
    {
     "output_type": "stream",
     "name": "stdout",
     "text": [
      "11\n",
      "30\n"
     ]
    }
   ],
   "metadata": {}
  },
  {
   "cell_type": "code",
   "execution_count": 3,
   "source": [
    "def fuc(a,b):\r\n",
    "    return a+b\r\n",
    "print(fuc(10,20))"
   ],
   "outputs": [
    {
     "output_type": "stream",
     "name": "stdout",
     "text": [
      "30\n"
     ]
    }
   ],
   "metadata": {}
  },
  {
   "cell_type": "code",
   "execution_count": 6,
   "source": [
    "#Q) Write a Function to check whether the given Number is \r\n",
    " #Even OR Odd?\r\n",
    "\r\n",
    "def num(n):\r\n",
    "    if n%2==0:\r\n",
    "        print(n, \"is even number\")\r\n",
    "    else:\r\n",
    "        print(n,\"is a odd number\")\r\n",
    "\r\n",
    "num(int(input()))\r\n"
   ],
   "outputs": [
    {
     "output_type": "stream",
     "name": "stdout",
     "text": [
      "5 is a odd number\n"
     ]
    }
   ],
   "metadata": {}
  },
  {
   "cell_type": "code",
   "execution_count": 12,
   "source": [
    "#Q) Write a Function to find Factorial of given Number?\r\n",
    "def fact(num):\r\n",
    "    result =1\r\n",
    "    while num >= 1:\r\n",
    "        result =result *num\r\n",
    "        num=num-1\r\n",
    "    return result\r\n",
    "for i in range(1,10):\r\n",
    "    print(i,\"factorian\",fact(i))"
   ],
   "outputs": [
    {
     "output_type": "stream",
     "name": "stdout",
     "text": [
      "1 factorian 1\n",
      "2 factorian 2\n",
      "3 factorian 6\n",
      "4 factorian 24\n",
      "5 factorian 120\n",
      "6 factorian 720\n",
      "7 factorian 5040\n",
      "8 factorian 40320\n",
      "9 factorian 362880\n"
     ]
    }
   ],
   "metadata": {}
  },
  {
   "cell_type": "code",
   "execution_count": 14,
   "source": [
    "#Returning Multiple Values from a Function:\r\n",
    "def multi(a,b):\r\n",
    "    sum=a+b\r\n",
    "    sub=a-b\r\n",
    "    return sum,sub\r\n",
    "x,y=multi(10,20)\r\n",
    "print(x)\r\n",
    "print(y)"
   ],
   "outputs": [
    {
     "output_type": "stream",
     "name": "stdout",
     "text": [
      "30\n",
      "-10\n"
     ]
    }
   ],
   "metadata": {}
  },
  {
   "cell_type": "code",
   "execution_count": 2,
   "source": [
    "def func(a,b):\r\n",
    "    sum=a+b\r\n",
    "    sub=a-b\r\n",
    "    multi=a*b\r\n",
    "    div=a/b\r\n",
    "    return sum,sub,multi,div\r\n",
    "t=func(10,20)\r\n",
    "for i in t:\r\n",
    "    print(i)\r\n"
   ],
   "outputs": [
    {
     "output_type": "stream",
     "name": "stdout",
     "text": [
      "30\n",
      "-10\n",
      "200\n",
      "0.5\n"
     ]
    }
   ],
   "metadata": {}
  },
  {
   "cell_type": "markdown",
   "source": [
    "Types of Arguments\r\n",
    "def f1(a,b):\r\n",
    " ------\r\n",
    " ------\r\n",
    " ------\r\n",
    "f1(10,20)\r\n",
    "a, b are formal arguments where as 10,20 are actual arguments.\r\n",
    "There are 4 types are actual arguments are allowed in Python.\r\n",
    "1) Positional Arguments\r\n",
    "2) Keyword Arguments\r\n",
    "3) Default Arguments\r\n",
    "4) Variable Length Arguments"
   ],
   "metadata": {}
  },
  {
   "cell_type": "code",
   "execution_count": 5,
   "source": [
    "def wish(name,msg):\r\n",
    "    print(\"hallow\",name,msg)\r\n",
    "wish(name=\"prashant\",msg=\"good morning\")\r\n",
    "wish(msg=\"morning\",name=\"prashant\")"
   ],
   "outputs": [
    {
     "output_type": "stream",
     "name": "stdout",
     "text": [
      "hallow prashant good morning\n",
      "hallow prashant morning\n"
     ]
    }
   ],
   "metadata": {}
  },
  {
   "cell_type": "code",
   "execution_count": 8,
   "source": [
    "def wish(name,msg):\r\n",
    "    print(\"hallow\",name,msg)\r\n",
    "wish(name=\"prashant\",msg=\"good morning\")"
   ],
   "outputs": [
    {
     "output_type": "stream",
     "name": "stdout",
     "text": [
      "hallow prashant good morning\n"
     ]
    }
   ],
   "metadata": {}
  },
  {
   "cell_type": "markdown",
   "source": [
    "3)Default Arguments:\r\n",
    " Sometimes we can provide default values for our positional arguments."
   ],
   "metadata": {}
  },
  {
   "cell_type": "code",
   "execution_count": 12,
   "source": [
    "def name(nam=\"madhavv\"):\r\n",
    "    print(\"hallow world\",nam)\r\n",
    "name(\"prashant \")\r\n",
    "name()\r\n"
   ],
   "outputs": [
    {
     "output_type": "stream",
     "name": "stdout",
     "text": [
      "hallow world prashant \n",
      "hallow world madhavv\n"
     ]
    }
   ],
   "metadata": {}
  },
  {
   "cell_type": "markdown",
   "source": [
    "4)Variable Length Arguments:\r\n",
    "\r\n",
    " Sometimes we can pass variable number of arguments to our function, such type of \r\n",
    "arguments are called variable length arguments.\r\n",
    " We can declare a variable length argument with * symbol as follows\r\n",
    " def f1(*n):\r\n",
    " We can call this function by passing any number of arguments including zero number.\r\n",
    " Internally all these values represented in the form of tuple."
   ],
   "metadata": {}
  },
  {
   "cell_type": "code",
   "execution_count": 16,
   "source": [
    "def sum(*n):\r\n",
    "    total=0\r\n",
    "    for i in n:\r\n",
    "        total= total +i\r\n",
    "    print(i)\r\n",
    "sum(20)"
   ],
   "outputs": [
    {
     "output_type": "stream",
     "name": "stdout",
     "text": [
      "20\n"
     ]
    }
   ],
   "metadata": {}
  },
  {
   "cell_type": "code",
   "execution_count": 18,
   "source": [
    "def sum(*n): \r\n",
    "    total=0 \r\n",
    "    for n1 in n: \r\n",
    "        total=total+n1 \r\n",
    "    print(\"The Sum=\",total) \r\n",
    "sum(10)\r\n",
    "sum(10,20,30)"
   ],
   "outputs": [
    {
     "output_type": "stream",
     "name": "stdout",
     "text": [
      "The Sum= 10\n",
      "The Sum= 60\n"
     ]
    }
   ],
   "metadata": {}
  },
  {
   "cell_type": "markdown",
   "source": [
    "Types of Variables\r\n",
    "Python supports 2 types of variables.\r\n",
    "1) Global Variables\r\n",
    "2) Local Variables"
   ],
   "metadata": {}
  },
  {
   "cell_type": "code",
   "execution_count": null,
   "source": [],
   "outputs": [],
   "metadata": {}
  },
  {
   "cell_type": "markdown",
   "source": [
    "global Keyword:\r\n",
    "We can use global keyword for the following 2 purposes:\r\n",
    "1) To declare global variable inside function\r\n",
    "2) To make global variable available to the function so that we can perform required \r\n",
    "modification"
   ],
   "metadata": {}
  },
  {
   "cell_type": "code",
   "execution_count": 22,
   "source": [
    "#global veriable\r\n",
    "# The variables which are declared outside of function are called global variables.\r\n",
    "# These variables can be accessed in all functions of that module.\r\n",
    "a=10\r\n",
    "def func():\r\n",
    "    print(a+2)\r\n",
    "def fun1():\r\n",
    "    print(a)\r\n",
    "func()\r\n",
    "fun1()"
   ],
   "outputs": [
    {
     "output_type": "stream",
     "name": "stdout",
     "text": [
      "12\n",
      "10\n"
     ]
    }
   ],
   "metadata": {}
  },
  {
   "cell_type": "markdown",
   "source": [
    "2) Local Variables:\r\n",
    " The variables which are declared inside a function are called local variables.\r\n",
    " Local variables are available only for the function in which we declared it.i.e from \r\n",
    "outside of function we cannot access."
   ],
   "metadata": {}
  },
  {
   "cell_type": "code",
   "execution_count": 30,
   "source": [
    "def fun():\r\n",
    "    b=10\r\n",
    "    print(10)\r\n",
    "def du():\r\n",
    "    print(b)# The variables which are declared inside a function are called local variables.\r\n",
    "\r\n",
    "fun()\r\n",
    "du()"
   ],
   "outputs": [
    {
     "output_type": "stream",
     "name": "stdout",
     "text": [
      "10\n"
     ]
    },
    {
     "output_type": "error",
     "ename": "NameError",
     "evalue": "name 'b' is not defined",
     "traceback": [
      "\u001b[1;31m---------------------------------------------------------------------------\u001b[0m",
      "\u001b[1;31mNameError\u001b[0m                                 Traceback (most recent call last)",
      "\u001b[1;32m~\\AppData\\Local\\Temp/ipykernel_572/2542334945.py\u001b[0m in \u001b[0;36m<module>\u001b[1;34m\u001b[0m\n\u001b[0;32m      6\u001b[0m \u001b[1;33m\u001b[0m\u001b[0m\n\u001b[0;32m      7\u001b[0m \u001b[0mfun\u001b[0m\u001b[1;33m(\u001b[0m\u001b[1;33m)\u001b[0m\u001b[1;33m\u001b[0m\u001b[1;33m\u001b[0m\u001b[0m\n\u001b[1;32m----> 8\u001b[1;33m \u001b[0mdu\u001b[0m\u001b[1;33m(\u001b[0m\u001b[1;33m)\u001b[0m\u001b[1;33m\u001b[0m\u001b[1;33m\u001b[0m\u001b[0m\n\u001b[0m",
      "\u001b[1;32m~\\AppData\\Local\\Temp/ipykernel_572/2542334945.py\u001b[0m in \u001b[0;36mdu\u001b[1;34m()\u001b[0m\n\u001b[0;32m      3\u001b[0m     \u001b[0mprint\u001b[0m\u001b[1;33m(\u001b[0m\u001b[1;36m10\u001b[0m\u001b[1;33m)\u001b[0m\u001b[1;33m\u001b[0m\u001b[1;33m\u001b[0m\u001b[0m\n\u001b[0;32m      4\u001b[0m \u001b[1;32mdef\u001b[0m \u001b[0mdu\u001b[0m\u001b[1;33m(\u001b[0m\u001b[1;33m)\u001b[0m\u001b[1;33m:\u001b[0m\u001b[1;33m\u001b[0m\u001b[1;33m\u001b[0m\u001b[0m\n\u001b[1;32m----> 5\u001b[1;33m     \u001b[0mprint\u001b[0m\u001b[1;33m(\u001b[0m\u001b[0mb\u001b[0m\u001b[1;33m)\u001b[0m\u001b[1;31m# The variables which are declared inside a function are called local variables.\u001b[0m\u001b[1;33m\u001b[0m\u001b[1;33m\u001b[0m\u001b[0m\n\u001b[0m\u001b[0;32m      6\u001b[0m \u001b[1;33m\u001b[0m\u001b[0m\n\u001b[0;32m      7\u001b[0m \u001b[0mfun\u001b[0m\u001b[1;33m(\u001b[0m\u001b[1;33m)\u001b[0m\u001b[1;33m\u001b[0m\u001b[1;33m\u001b[0m\u001b[0m\n",
      "\u001b[1;31mNameError\u001b[0m: name 'b' is not defined"
     ]
    }
   ],
   "metadata": {}
  },
  {
   "cell_type": "markdown",
   "source": [
    "global Keyword:\r\n",
    "We can use global keyword for the following 2 purposes:\r\n",
    "1) To declare global variable inside function\r\n",
    "2) To make global variable available to the function so that we can perform required \r\n",
    "modifications"
   ],
   "metadata": {}
  },
  {
   "cell_type": "code",
   "execution_count": 31,
   "source": [
    "x=10\r\n",
    "def func():\r\n",
    "    a=777\r\n",
    "    print(a)\r\n",
    "def func1():\r\n",
    "    print(a)\r\n",
    "func()\r\n",
    "func1()\r\n"
   ],
   "outputs": [
    {
     "output_type": "stream",
     "name": "stdout",
     "text": [
      "777\n",
      "10\n"
     ]
    }
   ],
   "metadata": {}
  },
  {
   "cell_type": "code",
   "execution_count": 32,
   "source": [
    "x=10\r\n",
    "def func():\r\n",
    "    global a # make a is global\r\n",
    "    a=777\r\n",
    "    print(a)\r\n",
    "def func1():\r\n",
    "    print(a)\r\n",
    "func()\r\n",
    "func1()\r\n"
   ],
   "outputs": [
    {
     "output_type": "stream",
     "name": "stdout",
     "text": [
      "777\n",
      "777\n"
     ]
    }
   ],
   "metadata": {}
  },
  {
   "cell_type": "markdown",
   "source": [
    "Lambda Function:\r\n",
    "We can define by using lambda keyword lambda n:n*n\r\n"
   ],
   "metadata": {}
  },
  {
   "cell_type": "code",
   "execution_count": 4,
   "source": [
    "#find squer root\r\n",
    "s= lambda n:n*n\r\n",
    "print(\"Squre root is\",s(8))"
   ],
   "outputs": [
    {
     "output_type": "stream",
     "name": "stdout",
     "text": [
      "Squre root is 64\n"
     ]
    }
   ],
   "metadata": {}
  },
  {
   "cell_type": "code",
   "execution_count": 6,
   "source": [
    "#find sum\r\n",
    "sum = lambda a,b:a+b\r\n",
    "print(\"sum is\",sum(5,6))"
   ],
   "outputs": [
    {
     "output_type": "stream",
     "name": "stdout",
     "text": [
      "sum is 11\n"
     ]
    }
   ],
   "metadata": {}
  },
  {
   "cell_type": "code",
   "execution_count": 7,
   "source": [
    "#find biggest num\r\n",
    "l = lambda a,b:a if a>b else b\r\n",
    "print(\"large number is \",l(50,2))"
   ],
   "outputs": [
    {
     "output_type": "stream",
     "name": "stdout",
     "text": [
      "large number is  50\n"
     ]
    }
   ],
   "metadata": {}
  },
  {
   "cell_type": "code",
   "execution_count": 8,
   "source": [
    "#find small num\r\n",
    "l = lambda a,b:a if a<b else b\r\n",
    "print(\"large number is \",l(50,2))"
   ],
   "outputs": [
    {
     "output_type": "stream",
     "name": "stdout",
     "text": [
      "large number is  2\n"
     ]
    }
   ],
   "metadata": {}
  },
  {
   "cell_type": "code",
   "execution_count": 2,
   "source": [
    "#nested functionWe can declare a function inside another function,such type of functions are called Nested \r\n",
    "#functions.\r\n",
    "def outer():\r\n",
    "    print(\"this is outer func\")\r\n",
    "    def inner():\r\n",
    "        print(\"this is inner function\")\r\n",
    "    inner()\r\n",
    "outer()\r\n"
   ],
   "outputs": [
    {
     "output_type": "stream",
     "name": "stdout",
     "text": [
      "this is outer func\n",
      "this is inner function\n"
     ]
    }
   ],
   "metadata": {}
  },
  {
   "cell_type": "code",
   "execution_count": null,
   "source": [
    "# bmi calculator"
   ],
   "outputs": [],
   "metadata": {}
  },
  {
   "cell_type": "code",
   "execution_count": 3,
   "source": [],
   "outputs": [
    {
     "output_type": "error",
     "ename": "TypeError",
     "evalue": "<lambda>() missing 1 required positional argument: 'b'",
     "traceback": [
      "\u001b[1;31m---------------------------------------------------------------------------\u001b[0m",
      "\u001b[1;31mTypeError\u001b[0m                                 Traceback (most recent call last)",
      "\u001b[1;32m~\\AppData\\Local\\Temp/ipykernel_6020/2127704065.py\u001b[0m in \u001b[0;36m<module>\u001b[1;34m\u001b[0m\n\u001b[0;32m      1\u001b[0m \u001b[0mn\u001b[0m\u001b[1;33m=\u001b[0m \u001b[1;32mlambda\u001b[0m \u001b[0ma\u001b[0m\u001b[1;33m,\u001b[0m\u001b[0mb\u001b[0m\u001b[1;33m:\u001b[0m\u001b[0ma\u001b[0m \u001b[1;32mif\u001b[0m \u001b[0ma\u001b[0m\u001b[1;33m%\u001b[0m\u001b[1;36m2\u001b[0m\u001b[1;33m==\u001b[0m\u001b[1;36m0\u001b[0m \u001b[1;32melse\u001b[0m \u001b[0mb\u001b[0m\u001b[1;33m\u001b[0m\u001b[1;33m\u001b[0m\u001b[0m\n\u001b[1;32m----> 2\u001b[1;33m \u001b[0mprint\u001b[0m\u001b[1;33m(\u001b[0m\u001b[0mn\u001b[0m\u001b[1;33m(\u001b[0m\u001b[1;36m2\u001b[0m\u001b[1;33m)\u001b[0m\u001b[1;33m)\u001b[0m\u001b[1;33m\u001b[0m\u001b[1;33m\u001b[0m\u001b[0m\n\u001b[0m",
      "\u001b[1;31mTypeError\u001b[0m: <lambda>() missing 1 required positional argument: 'b'"
     ]
    }
   ],
   "metadata": {}
  },
  {
   "cell_type": "code",
   "execution_count": 12,
   "source": [
    "# creating bmi calculator\r\n",
    "def bmi(weight,height):\r\n",
    "    bmi_calculator = weight / (height*height)\r\n",
    "    print(bmi_calculator)\r\n",
    "bmi(61,1.68)\r\n",
    "\r\n",
    " "
   ],
   "outputs": [
    {
     "output_type": "stream",
     "name": "stdout",
     "text": [
      "21.612811791383223\n"
     ]
    }
   ],
   "metadata": {}
  },
  {
   "cell_type": "code",
   "execution_count": null,
   "source": [],
   "outputs": [],
   "metadata": {}
  }
 ],
 "metadata": {
  "orig_nbformat": 4,
  "language_info": {
   "name": "python",
   "version": "3.9.6",
   "mimetype": "text/x-python",
   "codemirror_mode": {
    "name": "ipython",
    "version": 3
   },
   "pygments_lexer": "ipython3",
   "nbconvert_exporter": "python",
   "file_extension": ".py"
  },
  "kernelspec": {
   "name": "python3",
   "display_name": "Python 3.9.6 64-bit"
  },
  "interpreter": {
   "hash": "ac59ebe37160ed0dfa835113d9b8498d9f09ceb179beaac4002f036b9467c963"
  }
 },
 "nbformat": 4,
 "nbformat_minor": 2
}