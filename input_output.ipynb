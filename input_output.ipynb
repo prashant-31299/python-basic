{
 "cells": [
  {
   "cell_type": "markdown",
   "source": [
    "INPUT AND OUTPUT STATEMENTS\r\n",
    "In Python 2 the following 2 functions are available to read dynamic input from the \r\n",
    "keyboard.\r\n",
    "1) raw_input() this in\r\n",
    "2) input()"
   ],
   "metadata": {}
  },
  {
   "cell_type": "markdown",
   "source": [
    "1)raw_input():\r\n",
    "This function always reads the data from the keyboard in the form of String Format. \r\n",
    "We have to convert that string type to our required type by using the corresponding \r\n",
    "type casting methods."
   ],
   "metadata": {}
  },
  {
   "cell_type": "code",
   "execution_count": 10,
   "source": [
    "x=input(\"enter your num\") #always read data in string form\r\n",
    "print(int(x))  # using type cast change to int\r\n",
    "\r\n",
    "y = input()\r\n",
    "print(type(y))\r\n"
   ],
   "outputs": [
    {
     "output_type": "stream",
     "name": "stdout",
     "text": [
      "5\n",
      "<class 'str'>\n"
     ]
    }
   ],
   "metadata": {}
  },
  {
   "cell_type": "code",
   "execution_count": 17,
   "source": [
    "#Q) Write a program to read 2 numbers from the keyboard and print sum\r\n",
    "fname = input()\r\n",
    "lname = input()\r\n",
    "print(fname + lname)"
   ],
   "outputs": [
    {
     "output_type": "stream",
     "name": "stdout",
     "text": [
      "#Write a Program to read Employee Data from the Keyboard and   print that DataWrite a Program to read Employee Data from the Keyboard and   print that Data\n"
     ]
    }
   ],
   "metadata": {}
  },
  {
   "cell_type": "markdown",
   "source": [
    "  Q(1).,Write a Program to read Employee Data from the Keyboard and \r\n",
    " print that Data\r\n"
   ],
   "metadata": {}
  },
  {
   "cell_type": "code",
   "execution_count": 24,
   "source": [
    "id = int(input())\r\n",
    "fname = input()\r\n",
    "lname = input()\r\n",
    "work = input()\r\n",
    "salary =int(input())\r\n",
    "marrige =bool[yes|no]\r\n",
    "print(\"id no is\",id)\r\n",
    "print(\"first name\",fname)\r\n",
    "print(\"last name is \",lname)\r\n",
    "print(\"work \",work)\r\n",
    "print(\"salary is \",salary)\r\n",
    "\r\n",
    "\r\n"
   ],
   "outputs": [
    {
     "output_type": "error",
     "ename": "NameError",
     "evalue": "name 'yes' is not defined",
     "traceback": [
      "\u001b[1;31m---------------------------------------------------------------------------\u001b[0m",
      "\u001b[1;31mNameError\u001b[0m                                 Traceback (most recent call last)",
      "\u001b[1;32m~\\AppData\\Local\\Temp/ipykernel_2104/3637221735.py\u001b[0m in \u001b[0;36m<module>\u001b[1;34m\u001b[0m\n\u001b[0;32m      4\u001b[0m \u001b[0mwork\u001b[0m \u001b[1;33m=\u001b[0m \u001b[0minput\u001b[0m\u001b[1;33m(\u001b[0m\u001b[1;33m)\u001b[0m\u001b[1;33m\u001b[0m\u001b[1;33m\u001b[0m\u001b[0m\n\u001b[0;32m      5\u001b[0m \u001b[0msalary\u001b[0m \u001b[1;33m=\u001b[0m\u001b[0mint\u001b[0m\u001b[1;33m(\u001b[0m\u001b[0minput\u001b[0m\u001b[1;33m(\u001b[0m\u001b[1;33m)\u001b[0m\u001b[1;33m)\u001b[0m\u001b[1;33m\u001b[0m\u001b[1;33m\u001b[0m\u001b[0m\n\u001b[1;32m----> 6\u001b[1;33m \u001b[0mmarrige\u001b[0m \u001b[1;33m=\u001b[0m\u001b[0mbool\u001b[0m\u001b[1;33m[\u001b[0m\u001b[0myes\u001b[0m\u001b[1;33m|\u001b[0m\u001b[0mno\u001b[0m\u001b[1;33m]\u001b[0m\u001b[1;33m\u001b[0m\u001b[1;33m\u001b[0m\u001b[0m\n\u001b[0m\u001b[0;32m      7\u001b[0m \u001b[0mprint\u001b[0m\u001b[1;33m(\u001b[0m\u001b[1;34m\"id no is\"\u001b[0m\u001b[1;33m,\u001b[0m\u001b[0mid\u001b[0m\u001b[1;33m)\u001b[0m\u001b[1;33m\u001b[0m\u001b[1;33m\u001b[0m\u001b[0m\n\u001b[0;32m      8\u001b[0m \u001b[0mprint\u001b[0m\u001b[1;33m(\u001b[0m\u001b[1;34m\"first name\"\u001b[0m\u001b[1;33m,\u001b[0m\u001b[0mfname\u001b[0m\u001b[1;33m)\u001b[0m\u001b[1;33m\u001b[0m\u001b[1;33m\u001b[0m\u001b[0m\n",
      "\u001b[1;31mNameError\u001b[0m: name 'yes' is not defined"
     ]
    }
   ],
   "metadata": {}
  },
  {
   "cell_type": "code",
   "execution_count": 30,
   "source": [
    "married=bool(input(\"Employee Married ?[True|False]:\"))\r\n",
    "print(married)"
   ],
   "outputs": [
    {
     "output_type": "stream",
     "name": "stdout",
     "text": [
      "True\n"
     ]
    }
   ],
   "metadata": {}
  }
 ],
 "metadata": {
  "orig_nbformat": 4,
  "language_info": {
   "name": "python",
   "version": "3.9.6",
   "mimetype": "text/x-python",
   "codemirror_mode": {
    "name": "ipython",
    "version": 3
   },
   "pygments_lexer": "ipython3",
   "nbconvert_exporter": "python",
   "file_extension": ".py"
  },
  "kernelspec": {
   "name": "python3",
   "display_name": "Python 3.9.6 64-bit"
  },
  "interpreter": {
   "hash": "ac59ebe37160ed0dfa835113d9b8498d9f09ceb179beaac4002f036b9467c963"
  }
 },
 "nbformat": 4,
 "nbformat_minor": 2
}