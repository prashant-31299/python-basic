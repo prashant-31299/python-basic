{
 "cells": [
  {
   "cell_type": "markdown",
   "source": [
    "ypes of Methods:\r\n",
    "Inside Python class 3 types of methods are allowed\r\n",
    "1) Instance Methods\r\n",
    "2) Class Methods\r\n",
    "3) Static Methods\r\n",
    "1)Instance Methods:\r\n",
    "⚽ Inside method implementation if we are using instance variables then such type of \r\n",
    "methods are called instance methods. \r\n",
    "⚽ Inside instance method declaration, we have to pass self variable. def m1(self):\r\n",
    "⚽ By using self variable inside method we can able to access instance variables.\r\n",
    "⚽ Within the class we can call instance method by using self variable and from outside of \r\n",
    "the class we can call by using object reference."
   ],
   "metadata": {}
  },
  {
   "cell_type": "code",
   "execution_count": 4,
   "source": [
    "class student:\r\n",
    "    def __init__(self,name, marks) -> None:\r\n",
    "        self.name = name\r\n",
    "        self.marks=marks\r\n",
    "    def display(self):\r\n",
    "        print(self.name)\r\n",
    "        print(self.marks)\r\n",
    "    def grade(self):\r\n",
    "        if self.marks >=80:\r\n",
    "            print(\"your got first grade\")\r\n",
    "        elif self.marks >=50:\r\n",
    "            print(\"you got second place\")\r\n",
    "        elif self.marks >=35:\r\n",
    "            print(\"your are pass\")\r\n",
    "        else:\r\n",
    "            print(\"you are fail\")\r\n",
    "\r\n",
    "\r\n",
    "\r\n",
    "\r\n",
    "\r\n",
    "\r\n",
    "\r\n",
    "n =int(input(\"enter number\"))\r\n",
    "for i in range(n):\r\n",
    "    name = input(\"enter some number\")\r\n",
    "    marks = int(input(\"enter marks\"))\r\n",
    "    s=student(name,marks)\r\n",
    "    s.display()\r\n",
    "    s.grade()\r\n",
    "\r\n"
   ],
   "outputs": [
    {
     "output_type": "stream",
     "name": "stdout",
     "text": [
      "prashant\n",
      "80\n",
      "your got first grade\n",
      "hitesh\n",
      "60\n",
      "you got second place\n",
      "ritesh 40\n",
      "40\n",
      "your are pass\n"
     ]
    }
   ],
   "metadata": {}
  },
  {
   "cell_type": "markdown",
   "source": [],
   "metadata": {}
  },
  {
   "cell_type": "code",
   "execution_count": 6,
   "source": [
    "# Python program showing a\r\n",
    "# use of property() function\r\n",
    "\r\n",
    "class Geeks:\r\n",
    "\tdef __init__(self):\r\n",
    "\t\tself._age = 0\r\n",
    "\t\r\n",
    "\t# function to get value of _age\r\n",
    "\tdef get_age(self):\r\n",
    "\t\tprint(\"getter method called\")\r\n",
    "\t\treturn self._age\r\n",
    "\t\r\n",
    "\t# function to set value of _age\r\n",
    "\tdef set_age(self, a):\r\n",
    "\t\tprint(\"setter method called\")\r\n",
    "\t\tself._age = a\r\n",
    "\r\n",
    "\t# function to delete _age attribute\r\n",
    "\tdef del_age(self):\r\n",
    "\t\tdel self._age\r\n",
    "\t\r\n",
    "\tage = property(get_age, set_age, del_age)\r\n",
    "\r\n",
    "mark = Geeks()\r\n",
    "\r\n",
    "mark.age = 10\r\n",
    "\r\n",
    "print(mark.age)\r\n"
   ],
   "outputs": [
    {
     "output_type": "stream",
     "name": "stdout",
     "text": [
      "setter method called\n",
      "getter method called\n",
      "10\n"
     ]
    }
   ],
   "metadata": {}
  },
  {
   "cell_type": "markdown",
   "source": [
    "2)Class Methods:\r\n",
    "⚽ Inside method implementation if we are using only class variables (static variables), \r\n",
    "then such type of methods we should declare as class method.\r\n",
    "⚽ We can declare class method explicitly by using @classmethod decorator. \r\n",
    "⚽ For class method we should provide cls variable at the time of declaration\r\n",
    "⚽ We can call classmethod by using classname or object reference variable"
   ],
   "metadata": {}
  },
  {
   "cell_type": "code",
   "execution_count": 14,
   "source": [
    "class Animal:\r\n",
    "    eggs =4\r\n",
    "    @classmethod\r\n",
    "    def walk(cls,name):\r\n",
    "        print(\"{}walk with {} eggs\".format(name,cls.eggs))\r\n",
    "\r\n",
    "Animal.walk(\"dog\") \r\n",
    "Animal.walk(\"cat\")"
   ],
   "outputs": [
    {
     "output_type": "stream",
     "name": "stdout",
     "text": [
      "dogwalk with 4 eggs\n",
      "catwalk with 4 eggs\n"
     ]
    }
   ],
   "metadata": {}
  },
  {
   "cell_type": "markdown",
   "source": [
    "3)Static Methods:\r\n",
    "⚽ In general these methods are general utility methods.\r\n",
    "⚽ Inside these methods we won't use any instance or class variables.\r\n",
    "⚽ Here we won't provide self or cls arguments at the time of declaration.\r\n",
    "⚽ We can declare static method explicitly by using @staticmethod decorator\r\n",
    "⚽ We can access static methods by using classname or object reference"
   ],
   "metadata": {}
  },
  {
   "cell_type": "code",
   "execution_count": 17,
   "source": [
    "class Dmath:\r\n",
    "    @staticmethod\r\n",
    "    def add(a,b):\r\n",
    "        return a + b ,a*b,a/b\r\n",
    "    @staticmethod\r\n",
    "    def product(a,b):\r\n",
    "        return a*b\r\n",
    "\r\n",
    "print(Dmath.add(10,20))\r\n",
    "print(Dmath.product(10,20))"
   ],
   "outputs": [
    {
     "output_type": "stream",
     "name": "stdout",
     "text": [
      "(30, 200, 0.5)\n",
      "200\n"
     ]
    }
   ],
   "metadata": {}
  },
  {
   "cell_type": "markdown",
   "source": [
    "Passing Members of One Class to Another Class:\r\n",
    "We can access members of one class inside another class."
   ],
   "metadata": {}
  },
  {
   "cell_type": "code",
   "execution_count": 21,
   "source": [
    "class Employe:\r\n",
    "    def __init__(self,name,eno,esal) -> None:\r\n",
    "        self.name= name\r\n",
    "        self.eno=eno\r\n",
    "        self.esal=esal\r\n",
    "    def display(self):\r\n",
    "        print(\"empolye name is \",self.name)\r\n",
    "        print(\"no is\",self.eno)\r\n",
    "        print(\"salary\",self.esal)\r\n",
    "    \r\n",
    "class test:\r\n",
    "    def modify(emp):\r\n",
    "        emp.esal=emp.esal+10000\r\n",
    "        emp.display()\r\n",
    "\r\n",
    "e=Employe(100,\"vighnesh\",1000)\r\n",
    "test.modify(e)\r\n"
   ],
   "outputs": [
    {
     "output_type": "stream",
     "name": "stdout",
     "text": [
      "empolye name is  100\n",
      "no is vighnesh\n",
      "salary 11000\n"
     ]
    }
   ],
   "metadata": {}
  },
  {
   "cell_type": "code",
   "execution_count": null,
   "source": [],
   "outputs": [],
   "metadata": {}
  }
 ],
 "metadata": {
  "orig_nbformat": 4,
  "language_info": {
   "name": "python",
   "version": "3.9.6",
   "mimetype": "text/x-python",
   "codemirror_mode": {
    "name": "ipython",
    "version": 3
   },
   "pygments_lexer": "ipython3",
   "nbconvert_exporter": "python",
   "file_extension": ".py"
  },
  "kernelspec": {
   "name": "python3",
   "display_name": "Python 3.9.6 64-bit"
  },
  "interpreter": {
   "hash": "ac59ebe37160ed0dfa835113d9b8498d9f09ceb179beaac4002f036b9467c963"
  }
 },
 "nbformat": 4,
 "nbformat_minor": 2
}