{
 "cells": [
  {
   "cell_type": "code",
   "execution_count": null,
   "source": [
    "#Sometimes we can declare a class inside another class, such type of classes are called \r\n",
    "#inner classes.\r\n",
    "#Without existing one type of object if there is no chance of existing another type of object,\r\n",
    "#then we should go for inner classes.\r\n",
    "#Example: Without existing Car object there is no chance of existing Engine object. Hence \r\n",
    "#Engine class should be part of Car class."
   ],
   "outputs": [],
   "metadata": {}
  },
  {
   "cell_type": "markdown",
   "source": [
    "Example: Without existing Car object there is no chance of existing Engine object. Hence \r\n",
    "Engine class should be part of Car class.\r\n",
    "class Car:\r\n",
    " .....\r\n",
    " class Engine:\r\n",
    " ......"
   ],
   "metadata": {}
  },
  {
   "cell_type": "code",
   "execution_count": 7,
   "source": [
    "class Outer:\r\n",
    "     def __init__(self) -> None:\r\n",
    "         print(\"this is a outer class\")\r\n",
    "\r\n",
    "     class Inner:\r\n",
    "         def __init__(self) -> None:\r\n",
    "             print(\"this is a inner class\")\r\n",
    "\r\n",
    "         def m1(self):\r\n",
    "             print(\"this is inner method\")\r\n",
    "\r\n",
    "#o =Outer()\r\n",
    "#i = o.Inner()\r\n",
    "#i.m1()\r\n",
    " \r\n",
    " # we can access this through \r\n",
    "i =Outer().Inner()\r\n",
    "i.m1()\r\n",
    "\r\n",
    "i =Outer().Inner().m1()\r\n"
   ],
   "outputs": [
    {
     "output_type": "stream",
     "name": "stdout",
     "text": [
      "this is a outer class\n",
      "this is a inner class\n",
      "this is inner method\n",
      "this is a outer class\n",
      "this is a inner class\n",
      "this is inner method\n"
     ]
    }
   ],
   "metadata": {}
  },
  {
   "cell_type": "code",
   "execution_count": 10,
   "source": [
    "class Person:\r\n",
    "    def __init__(self) -> None:\r\n",
    "        self.name = \"prashant\"\r\n",
    "        self.dob =self.DOB()\r\n",
    "\r\n",
    "    def display(self):\r\n",
    "        print(\"name : \",self.name)\r\n",
    "\r\n",
    "    class DOB:\r\n",
    "        def __init__(self) -> None:\r\n",
    "            self.dd = \"22\"\r\n",
    "            self.mm = \"Dec\"\r\n",
    "            self.yy =\"1999\"\r\n",
    "        def display(self):\r\n",
    "                print(\"DOB={}/{}/{}\".format(self.dd,self.mm,self.yy))\r\n",
    "\r\n",
    "p=Person()\r\n",
    "p.display()\r\n",
    "x=p.DOB()\r\n",
    "x.display()\r\n"
   ],
   "outputs": [
    {
     "output_type": "stream",
     "name": "stdout",
     "text": [
      "name :  prashant\n",
      "DOB=22/Dec/1999\n"
     ]
    }
   ],
   "metadata": {}
  },
  {
   "cell_type": "code",
   "execution_count": 22,
   "source": [
    "class Human:\r\n",
    "    def __init__(self):\r\n",
    "        self.name = \"prashant\"\r\n",
    "        self.head =self.Head()\r\n",
    "\r\n",
    "    def display(self):\r\n",
    "        print(\"name\",self.name)\r\n",
    "        self.head.talk()\r\n",
    "        self.head.brain.think()\r\n",
    "    class Head:\r\n",
    "        def __init__(self):\r\n",
    "            self.brain = self.Brain()\r\n",
    "            \r\n",
    "        def talk(self):\r\n",
    "            print(\"hey im talking\")\r\n",
    "\r\n",
    "    class Brain:\r\n",
    "        def think(self):\r\n",
    "            print(\"hey im thinking\")\r\n",
    "\r\n",
    "h=Human()\r\n",
    "h.display()\r\n"
   ],
   "outputs": [
    {
     "output_type": "error",
     "ename": "AttributeError",
     "evalue": "'Head' object has no attribute 'Brain'",
     "traceback": [
      "\u001b[1;31m---------------------------------------------------------------------------\u001b[0m",
      "\u001b[1;31mAttributeError\u001b[0m                            Traceback (most recent call last)",
      "\u001b[1;32m~\\AppData\\Local\\Temp/ipykernel_6220/983688496.py\u001b[0m in \u001b[0;36m<module>\u001b[1;34m\u001b[0m\n\u001b[0;32m     19\u001b[0m             \u001b[0mprint\u001b[0m\u001b[1;33m(\u001b[0m\u001b[1;34m\"hey im thinking\"\u001b[0m\u001b[1;33m)\u001b[0m\u001b[1;33m\u001b[0m\u001b[1;33m\u001b[0m\u001b[0m\n\u001b[0;32m     20\u001b[0m \u001b[1;33m\u001b[0m\u001b[0m\n\u001b[1;32m---> 21\u001b[1;33m \u001b[0mh\u001b[0m\u001b[1;33m=\u001b[0m\u001b[0mHuman\u001b[0m\u001b[1;33m(\u001b[0m\u001b[1;33m)\u001b[0m\u001b[1;33m\u001b[0m\u001b[1;33m\u001b[0m\u001b[0m\n\u001b[0m\u001b[0;32m     22\u001b[0m \u001b[0mh\u001b[0m\u001b[1;33m.\u001b[0m\u001b[0mdisplay\u001b[0m\u001b[1;33m(\u001b[0m\u001b[1;33m)\u001b[0m\u001b[1;33m\u001b[0m\u001b[1;33m\u001b[0m\u001b[0m\n",
      "\u001b[1;32m~\\AppData\\Local\\Temp/ipykernel_6220/983688496.py\u001b[0m in \u001b[0;36m__init__\u001b[1;34m(self)\u001b[0m\n\u001b[0;32m      2\u001b[0m     \u001b[1;32mdef\u001b[0m \u001b[0m__init__\u001b[0m\u001b[1;33m(\u001b[0m\u001b[0mself\u001b[0m\u001b[1;33m)\u001b[0m\u001b[1;33m:\u001b[0m\u001b[1;33m\u001b[0m\u001b[1;33m\u001b[0m\u001b[0m\n\u001b[0;32m      3\u001b[0m         \u001b[0mself\u001b[0m\u001b[1;33m.\u001b[0m\u001b[0mname\u001b[0m \u001b[1;33m=\u001b[0m \u001b[1;34m\"prashant\"\u001b[0m\u001b[1;33m\u001b[0m\u001b[1;33m\u001b[0m\u001b[0m\n\u001b[1;32m----> 4\u001b[1;33m         \u001b[0mself\u001b[0m\u001b[1;33m.\u001b[0m\u001b[0mhead\u001b[0m \u001b[1;33m=\u001b[0m\u001b[0mself\u001b[0m\u001b[1;33m.\u001b[0m\u001b[0mHead\u001b[0m\u001b[1;33m(\u001b[0m\u001b[1;33m)\u001b[0m\u001b[1;33m\u001b[0m\u001b[1;33m\u001b[0m\u001b[0m\n\u001b[0m\u001b[0;32m      5\u001b[0m \u001b[1;33m\u001b[0m\u001b[0m\n\u001b[0;32m      6\u001b[0m     \u001b[1;32mdef\u001b[0m \u001b[0mdisplay\u001b[0m\u001b[1;33m(\u001b[0m\u001b[0mself\u001b[0m\u001b[1;33m)\u001b[0m\u001b[1;33m:\u001b[0m\u001b[1;33m\u001b[0m\u001b[1;33m\u001b[0m\u001b[0m\n",
      "\u001b[1;32m~\\AppData\\Local\\Temp/ipykernel_6220/983688496.py\u001b[0m in \u001b[0;36m__init__\u001b[1;34m(self)\u001b[0m\n\u001b[0;32m     10\u001b[0m     \u001b[1;32mclass\u001b[0m \u001b[0mHead\u001b[0m\u001b[1;33m:\u001b[0m\u001b[1;33m\u001b[0m\u001b[1;33m\u001b[0m\u001b[0m\n\u001b[0;32m     11\u001b[0m         \u001b[1;32mdef\u001b[0m \u001b[0m__init__\u001b[0m\u001b[1;33m(\u001b[0m\u001b[0mself\u001b[0m\u001b[1;33m)\u001b[0m\u001b[1;33m:\u001b[0m\u001b[1;33m\u001b[0m\u001b[1;33m\u001b[0m\u001b[0m\n\u001b[1;32m---> 12\u001b[1;33m             \u001b[0mself\u001b[0m\u001b[1;33m.\u001b[0m\u001b[0mbrain\u001b[0m \u001b[1;33m=\u001b[0m \u001b[0mself\u001b[0m\u001b[1;33m.\u001b[0m\u001b[0mBrain\u001b[0m\u001b[1;33m(\u001b[0m\u001b[1;33m)\u001b[0m\u001b[1;33m\u001b[0m\u001b[1;33m\u001b[0m\u001b[0m\n\u001b[0m\u001b[0;32m     13\u001b[0m \u001b[1;33m\u001b[0m\u001b[0m\n\u001b[0;32m     14\u001b[0m         \u001b[1;32mdef\u001b[0m \u001b[0mtalk\u001b[0m\u001b[1;33m(\u001b[0m\u001b[0mself\u001b[0m\u001b[1;33m)\u001b[0m\u001b[1;33m:\u001b[0m\u001b[1;33m\u001b[0m\u001b[1;33m\u001b[0m\u001b[0m\n",
      "\u001b[1;31mAttributeError\u001b[0m: 'Head' object has no attribute 'Brain'"
     ]
    }
   ],
   "metadata": {}
  },
  {
   "cell_type": "code",
   "execution_count": null,
   "source": [],
   "outputs": [],
   "metadata": {}
  }
 ],
 "metadata": {
  "orig_nbformat": 4,
  "language_info": {
   "name": "python",
   "version": "3.9.6",
   "mimetype": "text/x-python",
   "codemirror_mode": {
    "name": "ipython",
    "version": 3
   },
   "pygments_lexer": "ipython3",
   "nbconvert_exporter": "python",
   "file_extension": ".py"
  },
  "kernelspec": {
   "name": "python3",
   "display_name": "Python 3.9.6 64-bit"
  },
  "interpreter": {
   "hash": "ac59ebe37160ed0dfa835113d9b8498d9f09ceb179beaac4002f036b9467c963"
  }
 },
 "nbformat": 4,
 "nbformat_minor": 2
}