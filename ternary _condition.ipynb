{
 "cells": [
  {
   "cell_type": "markdown",
   "id": "b66e9c3a",
   "metadata": {},
   "source": [
    "# ternary operator "
   ]
  },
  {
   "cell_type": "code",
   "execution_count": 8,
   "id": "aadeadc4",
   "metadata": {},
   "outputs": [
    {
     "name": "stdout",
     "output_type": "stream",
     "text": [
      "10\n"
     ]
    }
   ],
   "source": [
    "# Program to demonstrate conditional operator\n",
    "a, b = 10, 20\n",
    "  \n",
    "# Copy value of a in min if a < b else copy b\n",
    "min = a if a < b else b\n",
    "  \n",
    "print(min)"
   ]
  },
  {
   "cell_type": "code",
   "execution_count": 9,
   "id": "cf7876c7",
   "metadata": {},
   "outputs": [
    {
     "name": "stdout",
     "output_type": "stream",
     "text": [
      "enter number10\n",
      "enter second num30\n",
      "10\n"
     ]
    }
   ],
   "source": [
    "#: Read two numbers from the keyboard and print minimum value\n",
    "a = int(input(\"enter number\"))\n",
    "b = int(input(\"enter second num\"))\n",
    "min = a if a<b else b\n",
    "print(min)\n"
   ]
  },
  {
   "cell_type": "code",
   "execution_count": 10,
   "id": "d6c13634",
   "metadata": {},
   "outputs": [
    {
     "ename": "SyntaxError",
     "evalue": "invalid syntax (<ipython-input-10-a8f267700e63>, line 4)",
     "output_type": "error",
     "traceback": [
      "\u001b[1;36m  File \u001b[1;32m\"<ipython-input-10-a8f267700e63>\"\u001b[1;36m, line \u001b[1;32m4\u001b[0m\n\u001b[1;33m    max = a if a >b else b>c else a<c\u001b[0m\n\u001b[1;37m                             ^\u001b[0m\n\u001b[1;31mSyntaxError\u001b[0m\u001b[1;31m:\u001b[0m invalid syntax\n"
     ]
    }
   ],
   "source": [
    "a = int(input(\"enter number\"))\n",
    "b = int(input(\"enter second num\"))\n",
    "c = int(input(\"enter number\"))\n",
    "max = a if a >b else b>c else a<c\n",
    "print(max)\n"
   ]
  }
 ],
 "metadata": {
  "kernelspec": {
   "display_name": "Python 3",
   "language": "python",
   "name": "python3"
  },
  "language_info": {
   "codemirror_mode": {
    "name": "ipython",
    "version": 3
   },
   "file_extension": ".py",
   "mimetype": "text/x-python",
   "name": "python",
   "nbconvert_exporter": "python",
   "pygments_lexer": "ipython3",
   "version": "3.8.8"
  }
 },
 "nbformat": 4,
 "nbformat_minor": 5
}
