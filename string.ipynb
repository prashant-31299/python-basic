{
 "cells": [
  {
   "cell_type": "code",
   "execution_count": null,
   "source": [],
   "outputs": [],
   "metadata": {}
  },
  {
   "cell_type": "code",
   "execution_count": null,
   "source": [],
   "outputs": [],
   "metadata": {}
  },
  {
   "cell_type": "code",
   "execution_count": null,
   "source": [],
   "outputs": [],
   "metadata": {}
  },
  {
   "cell_type": "markdown",
   "source": [
    "Any sequence of characters within either single quotes or double quotes is considered as a \r\n",
    "String."
   ],
   "metadata": {}
  },
  {
   "cell_type": "code",
   "execution_count": 137,
   "source": [
    "mystr = \" tony start is iron man\"\r\n",
    "print(mystr)  "
   ],
   "outputs": [
    {
     "output_type": "stream",
     "name": "stdout",
     "text": [
      " tony start is iron man\n"
     ]
    }
   ],
   "metadata": {}
  },
  {
   "cell_type": "markdown",
   "source": [
    "print(mystr[5])"
   ],
   "metadata": {}
  },
  {
   "cell_type": "code",
   "execution_count": 138,
   "source": [
    "print(mystr[4]) # value by index number"
   ],
   "outputs": [
    {
     "output_type": "stream",
     "name": "stdout",
     "text": [
      "y\n"
     ]
    }
   ],
   "metadata": {}
  },
  {
   "cell_type": "code",
   "execution_count": 139,
   "source": [
    "new =\" elon musk\"\r\n",
    "for i in new:\r\n",
    "    print(i)"
   ],
   "outputs": [
    {
     "output_type": "stream",
     "name": "stdout",
     "text": [
      " \n",
      "e\n",
      "l\n",
      "o\n",
      "n\n",
      " \n",
      "m\n",
      "u\n",
      "s\n",
      "k\n"
     ]
    }
   ],
   "metadata": {}
  },
  {
   "cell_type": "markdown",
   "source": [],
   "metadata": {}
  },
  {
   "cell_type": "code",
   "execution_count": 140,
   "source": [
    "s=input(\"Enter Some String:\") \r\n",
    "i=0 \r\n",
    "for x in s: \r\n",
    "    print(\"The character present at positive index {} and at nEgative index {} is {}\".format(i,i-len(s),x)) \r\n",
    "    i=i+1"
   ],
   "outputs": [
    {
     "output_type": "stream",
     "name": "stdout",
     "text": [
      "The character present at positive index 0 and at nEgative index -4 is o\n",
      "The character present at positive index 1 and at nEgative index -3 is i\n",
      "The character present at positive index 2 and at nEgative index -2 is f\n",
      "The character present at positive index 3 and at nEgative index -1 is j\n"
     ]
    }
   ],
   "metadata": {}
  },
  {
   "cell_type": "code",
   "execution_count": 141,
   "source": [
    "s = input()\r\n",
    "i=0\r\n",
    "for x in s:\r\n",
    "    print(\"the  positive index is {} and negative is {} is {}\".format(i,i-len(s),x))\r\n",
    "    i=i+1"
   ],
   "outputs": [
    {
     "output_type": "stream",
     "name": "stdout",
     "text": [
      "the  positive index is 0 and negative is -8 is j\n",
      "the  positive index is 1 and negative is -7 is b\n",
      "the  positive index is 2 and negative is -6 is s\n",
      "the  positive index is 3 and negative is -5 is d\n",
      "the  positive index is 4 and negative is -4 is f\n",
      "the  positive index is 5 and negative is -3 is j\n",
      "the  positive index is 6 and negative is -2 is f\n",
      "the  positive index is 7 and negative is -1 is g\n"
     ]
    }
   ],
   "metadata": {}
  },
  {
   "cell_type": "code",
   "execution_count": 142,
   "source": [
    "s= \"elonmusk is a founder of tesla\"\r\n",
    "print(s[1:3])"
   ],
   "outputs": [
    {
     "output_type": "stream",
     "name": "stdout",
     "text": [
      "lo\n"
     ]
    }
   ],
   "metadata": {}
  },
  {
   "cell_type": "markdown",
   "source": [
    "\r\n",
    "2)Accessing Characters by using Slice Operator:\r\n",
    "\r\n",
    "\r\n",
    " If we are not specifying bEgin index then it will consider from bEginning of the string.\r\n",
    " If we are not specifying end index then it will consider up to end of the string.\r\n",
    " The default value for step is 1"
   ],
   "metadata": {}
  },
  {
   "cell_type": "code",
   "execution_count": 143,
   "source": [
    "s= \"elonmusk is a founder of tesla\"\r\n",
    "print(s[1:3:1])"
   ],
   "outputs": [
    {
     "output_type": "stream",
     "name": "stdout",
     "text": [
      "lo\n"
     ]
    }
   ],
   "metadata": {}
  },
  {
   "cell_type": "code",
   "execution_count": null,
   "source": [],
   "outputs": [],
   "metadata": {}
  },
  {
   "cell_type": "code",
   "execution_count": 144,
   "source": [
    "s= \"elonmusk is a founder of tesla\"\r\n",
    "print(s[1:9:2])"
   ],
   "outputs": [
    {
     "output_type": "stream",
     "name": "stdout",
     "text": [
      "lnuk\n"
     ]
    }
   ],
   "metadata": {}
  },
  {
   "cell_type": "code",
   "execution_count": 145,
   "source": [
    "s= \"elonmusk is a founder of tesla\"\r\n",
    "print(s[:5])"
   ],
   "outputs": [
    {
     "output_type": "stream",
     "name": "stdout",
     "text": [
      "elonm\n"
     ]
    }
   ],
   "metadata": {}
  },
  {
   "cell_type": "code",
   "execution_count": 146,
   "source": [
    "s= \"elonmusk is a founder of tesla\"\r\n",
    "print(s[7:])"
   ],
   "outputs": [
    {
     "output_type": "stream",
     "name": "stdout",
     "text": [
      "k is a founder of tesla\n"
     ]
    }
   ],
   "metadata": {}
  },
  {
   "cell_type": "code",
   "execution_count": 147,
   "source": [
    "s= \"elonmusk is a founder of tesla\"\r\n",
    "print(s[::])"
   ],
   "outputs": [
    {
     "output_type": "stream",
     "name": "stdout",
     "text": [
      "elonmusk is a founder of tesla\n"
     ]
    }
   ],
   "metadata": {}
  },
  {
   "cell_type": "code",
   "execution_count": 148,
   "source": [
    "s= \"elonmusk is a founder of tesla\"\r\n",
    "print(s[0:5:2])"
   ],
   "outputs": [
    {
     "output_type": "stream",
     "name": "stdout",
     "text": [
      "eom\n"
     ]
    }
   ],
   "metadata": {}
  },
  {
   "cell_type": "code",
   "execution_count": 149,
   "source": [
    "s= \"elonmusk is a founder of tesla\"\r\n",
    "print(s[::-1]) #reverse the string "
   ],
   "outputs": [
    {
     "output_type": "stream",
     "name": "stdout",
     "text": [
      "alset fo rednuof a si ksumnole\n"
     ]
    }
   ],
   "metadata": {}
  },
  {
   "cell_type": "markdown",
   "source": [
    "Behaviour of Slice Operator:\r\n",
    "1) s[bEgin:end:step]\r\n",
    "2) Step value can be either +ve or –ve\r\n",
    "3) If +ve then it should be forward direction(left to right) and we have to consider bEgin \r\n",
    "to end-1\r\n",
    "4) If -ve then it should be backward direction (right to left) and we have to consider bEgin \r\n",
    "to end+1.\r\n",
    "\r\n",
    "***Note:\r\n",
    " In the backward direction if end value is -1 then result is always empty.\r\n",
    " In the forward direction if end value is 0 then result is always empty. \r\n"
   ],
   "metadata": {}
  },
  {
   "cell_type": "markdown",
   "source": [
    "In Forward Direction:\r\n",
    "default value for bEgin: 0\r\n",
    "default value for end: length of string\r\n",
    "\r\n",
    "default value for step: +1\r\n",
    "In Backward Direction:\r\n",
    "\r\n",
    "default value for bEgin: -1\r\n",
    "default value for end: -(length of string+1)"
   ],
   "metadata": {}
  },
  {
   "cell_type": "code",
   "execution_count": 150,
   "source": [
    "z =\"abcdefghijkl\"\r\n",
    "print(z[-4:-1:2])"
   ],
   "outputs": [
    {
     "output_type": "stream",
     "name": "stdout",
     "text": [
      "ik\n"
     ]
    }
   ],
   "metadata": {}
  },
  {
   "cell_type": "code",
   "execution_count": null,
   "source": [],
   "outputs": [],
   "metadata": {}
  },
  {
   "cell_type": "code",
   "execution_count": 151,
   "source": [
    "z =\"abcdefghijkl\"\r\n",
    "print(z[-4:-1:2])\r\n"
   ],
   "outputs": [
    {
     "output_type": "stream",
     "name": "stdout",
     "text": [
      "ik\n"
     ]
    }
   ],
   "metadata": {}
  },
  {
   "cell_type": "code",
   "execution_count": 152,
   "source": [
    "print(z[5:0:1])"
   ],
   "outputs": [
    {
     "output_type": "stream",
     "name": "stdout",
     "text": [
      "\n"
     ]
    }
   ],
   "metadata": {}
  },
  {
   "cell_type": "code",
   "execution_count": 153,
   "source": [
    "z[1000:2:-1]"
   ],
   "outputs": [
    {
     "output_type": "execute_result",
     "data": {
      "text/plain": [
       "'lkjihgfed'"
      ]
     },
     "metadata": {},
     "execution_count": 153
    }
   ],
   "metadata": {}
  },
  {
   "cell_type": "markdown",
   "source": [
    "mathematic oprator for string"
   ],
   "metadata": {}
  },
  {
   "cell_type": "code",
   "execution_count": 154,
   "source": [
    "a= \"elon\"\r\n",
    "b= \"musk\"\r\n",
    "print(a+b) #+ operator for concatenation"
   ],
   "outputs": [
    {
     "output_type": "stream",
     "name": "stdout",
     "text": [
      "elonmusk\n"
     ]
    }
   ],
   "metadata": {}
  },
  {
   "cell_type": "code",
   "execution_count": 155,
   "source": [
    "a= \"elon\"\r\n",
    "b= \"musk\"\r\n",
    "print(a*5) #* operator for repetition\r\n",
    "#1) To use + operator for Strings, compulsory both arguments should be str type.\r\n",
    "#2) To use * operator for Strings, compulsory one argument should be str and other\r\n",
    "#argument should be int"
   ],
   "outputs": [
    {
     "output_type": "stream",
     "name": "stdout",
     "text": [
      "elonelonelonelonelon\n"
     ]
    }
   ],
   "metadata": {}
  },
  {
   "cell_type": "markdown",
   "source": [
    "Question on strings"
   ],
   "metadata": {}
  },
  {
   "cell_type": "code",
   "execution_count": 156,
   "source": [
    "#Q) Write a Program to access each Character of String in \r\n",
    "# Forward and Backward Direction by using while Loop?\r\n",
    "name = \"bill gates \"\r\n",
    "n=len(name)\r\n",
    "i=0\r\n",
    "print(\"forward direction\")\r\n",
    "while(i<n):\r\n",
    "    print(i,name[i],end=\"\")\r\n",
    "    i=i+1\r\n",
    "print(\"backward\")\r\n",
    "i=-1\r\n",
    "while(i>=-n):\r\n",
    "    print(i,name[i],end=\"\")\r\n",
    "    i=i-1"
   ],
   "outputs": [
    {
     "output_type": "stream",
     "name": "stdout",
     "text": [
      "forward direction\n",
      "0 b1 i2 l3 l4  5 g6 a7 t8 e9 s10  backward\n",
      "-1  -2 s-3 e-4 t-5 a-6 g-7  -8 l-9 l-10 i-11 b"
     ]
    }
   ],
   "metadata": {}
  },
  {
   "cell_type": "code",
   "execution_count": 157,
   "source": [
    "# backward\r\n",
    "name = \"bill gates \"\r\n",
    "n=(len(name))\r\n",
    "i=-1\r\n",
    "print(\"backward\")\r\n",
    "while(i>=-n):\r\n",
    "    print(i,name[i])\r\n",
    "    i=i-1"
   ],
   "outputs": [
    {
     "output_type": "stream",
     "name": "stdout",
     "text": [
      "backward\n",
      "-1  \n",
      "-2 s\n",
      "-3 e\n",
      "-4 t\n",
      "-5 a\n",
      "-6 g\n",
      "-7  \n",
      "-8 l\n",
      "-9 l\n",
      "-10 i\n",
      "-11 b\n"
     ]
    }
   ],
   "metadata": {}
  },
  {
   "cell_type": "code",
   "execution_count": 168,
   "source": [
    "srk = \"sahrukh khan\"\r\n",
    "s=0\r\n",
    "for i in srk[::]:\r\n",
    "    s=s+1\r\n",
    "    print(s,i,end=\"\")\r\n",
    "print(\"backward\")\r\n",
    "for j in srk[::-1]:\r\n",
    "    s=s-1\r\n",
    "    print(s,j,end=\"\")"
   ],
   "outputs": [
    {
     "output_type": "stream",
     "name": "stdout",
     "text": [
      "1 s2 a3 h4 r5 u6 k7 h8  9 k10 h11 a12 nbackward\n",
      "11 n10 a9 h8 k7  6 h5 k4 u3 r2 h1 a0 s"
     ]
    }
   ],
   "metadata": {}
  },
  {
   "cell_type": "markdown",
   "source": [
    "Checking Membership:\r\n",
    "We can check whether the character or string is the member of another string or not by \r\n",
    "using in and not in operators"
   ],
   "metadata": {}
  },
  {
   "cell_type": "code",
   "execution_count": 171,
   "source": [
    "s= input() # we can check stin \r\n",
    "sub= input()\r\n",
    "if sub in s:\r\n",
    "    print(sub,\"is found id s\")\r\n",
    "else:\r\n",
    "    print(sub,\"is not found in s\")"
   ],
   "outputs": [
    {
     "output_type": "stream",
     "name": "stdout",
     "text": [
      "pr is found id s\n"
     ]
    }
   ],
   "metadata": {}
  },
  {
   "cell_type": "code",
   "execution_count": null,
   "source": [],
   "outputs": [],
   "metadata": {}
  },
  {
   "cell_type": "code",
   "execution_count": null,
   "source": [
    "Comparison of Strings:\r\n",
    " We can use comparison operators (<, <=, >, >=) and equality operators (==, !=) for \r\n",
    "strings.\r\n",
    " Comparison will be performed based on alphabetical order."
   ],
   "outputs": [],
   "metadata": {}
  },
  {
   "cell_type": "code",
   "execution_count": 175,
   "source": [
    "name1=input()\r\n",
    "name2=input()\r\n",
    "if(name1 == name2):\r\n",
    "    print(\"string are equal\")\r\n",
    "elif(name1<name2):\r\n",
    "    print(\"name 1 is low \")\r\n",
    "else:\r\n",
    "    print(\"name 2 is low\")"
   ],
   "outputs": [
    {
     "output_type": "stream",
     "name": "stdout",
     "text": [
      "string are equal\n"
     ]
    }
   ],
   "metadata": {}
  },
  {
   "cell_type": "markdown",
   "source": [
    "We can use the following 3 methods\r\n",
    "1) rstrip()  To remove spaces at right hand side\r\n",
    "2) lstrip() To remove spaces at left hand side\r\n",
    "3) strip()  To remove spaces both sides"
   ],
   "metadata": {}
  },
  {
   "cell_type": "code",
   "execution_count": 177,
   "source": [
    "city = input()\r\n",
    "scity= city.strip()\r\n",
    "if scity == \"mumbai\":\r\n",
    "    print(\"hallow welcome to aamchi mumbai   \" )"
   ],
   "outputs": [],
   "metadata": {}
  },
  {
   "cell_type": "code",
   "execution_count": 182,
   "source": [
    "name = '  Chris Gayle  '\r\n",
    "#remove spaces from left\r\n",
    "print (name.lstrip())\r\n",
    "\r\n",
    "#remove spaces from right\r\n",
    "print (name.rstrip())\r\n",
    "\r\n",
    "#remove spaces from both side\r\n",
    "print (name.strip())"
   ],
   "outputs": [
    {
     "output_type": "stream",
     "name": "stdout",
     "text": [
      "Chris Gayle  \n",
      "  Chris Gayle\n",
      "Chris Gayle\n"
     ]
    }
   ],
   "metadata": {}
  },
  {
   "cell_type": "markdown",
   "source": [
    "Finding Substrings:\r\n",
    "For forward direction:\r\n",
    "\r\n",
    "1) find()\r\n",
    "2) index()\r\n",
    "\r\n",
    "For backward direction:\r\n",
    "\r\n",
    "1) rfind()\r\n",
    "2) rindex()\r\n"
   ],
   "metadata": {}
  },
  {
   "cell_type": "code",
   "execution_count": 188,
   "source": [
    "#s.find(substring)\r\n",
    "#Returns index of first occurrence of the given substring. If it is not available then we will \r\n",
    "#get -1.\r\n",
    "n = \"shahrukh khan\"\r\n",
    "print(n.rfind(\"khan\"))\r\n",
    "print(n.find(\"khan\"))"
   ],
   "outputs": [
    {
     "output_type": "stream",
     "name": "stdout",
     "text": [
      "9\n",
      "9\n"
     ]
    }
   ],
   "metadata": {}
  },
  {
   "cell_type": "code",
   "execution_count": 191,
   "source": [
    "#Changing Case of a String:\r\n",
    "t =\"tom cruz\"\r\n",
    "print(t.upper())\r\n",
    "print(t.lower())\r\n",
    "print(t.capitalize())\r\n",
    "print(t.swapcase())\r\n",
    "print(t.title())"
   ],
   "outputs": [
    {
     "output_type": "stream",
     "name": "stdout",
     "text": [
      "TOM CRUZ\n",
      "tom cruz\n",
      "Tom cruz\n",
      "TOM CRUZ\n",
      "Tom Cruz\n"
     ]
    }
   ],
   "metadata": {}
  },
  {
   "cell_type": "markdown",
   "source": [
    "Formatting the Strings:\r\n",
    "We can format the strings with variable values by using replacement operator {} and \r\n",
    "format() method.\r\n"
   ],
   "metadata": {}
  },
  {
   "cell_type": "code",
   "execution_count": 193,
   "source": [
    "name = \"prashant chavan \"\r\n",
    "print(name+\"this is my name {} am learning {}\".format(21,\"bcca\"))"
   ],
   "outputs": [
    {
     "output_type": "stream",
     "name": "stdout",
     "text": [
      "prashant chavan this is my name 21 am learning bcca\n"
     ]
    }
   ],
   "metadata": {}
  },
  {
   "cell_type": "markdown",
   "source": [
    "#Q1) Write a Program to Reverse the given String\r\n"
   ],
   "metadata": {}
  },
  {
   "cell_type": "code",
   "execution_count": 195,
   "source": [
    "#Q1) Write a Program to Reverse the given String\r\n",
    "name =\"richard the bhalu\"\r\n",
    "print(name[::-1])"
   ],
   "outputs": [
    {
     "output_type": "stream",
     "name": "stdout",
     "text": [
      "ulahb eht drahcir\n"
     ]
    }
   ],
   "metadata": {}
  },
  {
   "cell_type": "code",
   "execution_count": 203,
   "source": [
    "#2nd way\r\n",
    "nme =\"richard the bhalu\"\r\n",
    "print(name.join(reversed(nme)))\r\n"
   ],
   "outputs": [
    {
     "output_type": "stream",
     "name": "stdout",
     "text": [
      "urichard the bhalulrichard the bhaluarichard the bhaluhrichard the bhalubrichard the bhalu richard the bhaluerichard the bhaluhrichard the bhalutrichard the bhalu richard the bhaludrichard the bhalurrichard the bhaluarichard the bhaluhrichard the bhalucrichard the bhaluirichard the bhalur\n"
     ]
    }
   ],
   "metadata": {}
  },
  {
   "cell_type": "code",
   "execution_count": null,
   "source": [
    "s= \"richard\"\r\n",
    "n=-1\r\n"
   ],
   "outputs": [],
   "metadata": {}
  },
  {
   "cell_type": "markdown",
   "source": [
    "Any sequence of characters within either single quotes or double quotes is considered as a \r\n",
    "String."
   ],
   "metadata": {}
  },
  {
   "cell_type": "code",
   "execution_count": 137,
   "source": [
    "mystr = \" tony start is iron man\"\r\n",
    "print(mystr)  "
   ],
   "outputs": [
    {
     "output_type": "stream",
     "name": "stdout",
     "text": [
      " tony start is iron man\n"
     ]
    }
   ],
   "metadata": {}
  },
  {
   "cell_type": "markdown",
   "source": [
    "print(mystr[5])"
   ],
   "metadata": {}
  },
  {
   "cell_type": "code",
   "execution_count": 138,
   "source": [
    "print(mystr[4]) # value by index number"
   ],
   "outputs": [
    {
     "output_type": "stream",
     "name": "stdout",
     "text": [
      "y\n"
     ]
    }
   ],
   "metadata": {}
  },
  {
   "cell_type": "code",
   "execution_count": 139,
   "source": [
    "new =\" elon musk\"\r\n",
    "for i in new:\r\n",
    "    print(i)"
   ],
   "outputs": [
    {
     "output_type": "stream",
     "name": "stdout",
     "text": [
      " \n",
      "e\n",
      "l\n",
      "o\n",
      "n\n",
      " \n",
      "m\n",
      "u\n",
      "s\n",
      "k\n"
     ]
    }
   ],
   "metadata": {}
  },
  {
   "cell_type": "markdown",
   "source": [],
   "metadata": {}
  },
  {
   "cell_type": "code",
   "execution_count": 140,
   "source": [
    "s=input(\"Enter Some String:\") \r\n",
    "i=0 \r\n",
    "for x in s: \r\n",
    "    print(\"The character present at positive index {} and at nEgative index {} is {}\".format(i,i-len(s),x)) \r\n",
    "    i=i+1"
   ],
   "outputs": [
    {
     "output_type": "stream",
     "name": "stdout",
     "text": [
      "The character present at positive index 0 and at nEgative index -4 is o\n",
      "The character present at positive index 1 and at nEgative index -3 is i\n",
      "The character present at positive index 2 and at nEgative index -2 is f\n",
      "The character present at positive index 3 and at nEgative index -1 is j\n"
     ]
    }
   ],
   "metadata": {}
  },
  {
   "cell_type": "code",
   "execution_count": 141,
   "source": [
    "s = input()\r\n",
    "i=0\r\n",
    "for x in s:\r\n",
    "    print(\"the  positive index is {} and negative is {} is {}\".format(i,i-len(s),x))\r\n",
    "    i=i+1"
   ],
   "outputs": [
    {
     "output_type": "stream",
     "name": "stdout",
     "text": [
      "the  positive index is 0 and negative is -8 is j\n",
      "the  positive index is 1 and negative is -7 is b\n",
      "the  positive index is 2 and negative is -6 is s\n",
      "the  positive index is 3 and negative is -5 is d\n",
      "the  positive index is 4 and negative is -4 is f\n",
      "the  positive index is 5 and negative is -3 is j\n",
      "the  positive index is 6 and negative is -2 is f\n",
      "the  positive index is 7 and negative is -1 is g\n"
     ]
    }
   ],
   "metadata": {}
  },
  {
   "cell_type": "code",
   "execution_count": 142,
   "source": [
    "s= \"elonmusk is a founder of tesla\"\r\n",
    "print(s[1:3])"
   ],
   "outputs": [
    {
     "output_type": "stream",
     "name": "stdout",
     "text": [
      "lo\n"
     ]
    }
   ],
   "metadata": {}
  },
  {
   "cell_type": "markdown",
   "source": [
    "\r\n",
    "2)Accessing Characters by using Slice Operator:\r\n",
    "\r\n",
    "\r\n",
    " If we are not specifying bEgin index then it will consider from bEginning of the string.\r\n",
    " If we are not specifying end index then it will consider up to end of the string.\r\n",
    " The default value for step is 1"
   ],
   "metadata": {}
  },
  {
   "cell_type": "code",
   "execution_count": 143,
   "source": [
    "s= \"elonmusk is a founder of tesla\"\r\n",
    "print(s[1:3:1])"
   ],
   "outputs": [
    {
     "output_type": "stream",
     "name": "stdout",
     "text": [
      "lo\n"
     ]
    }
   ],
   "metadata": {}
  },
  {
   "cell_type": "code",
   "execution_count": null,
   "source": [],
   "outputs": [],
   "metadata": {}
  },
  {
   "cell_type": "code",
   "execution_count": 144,
   "source": [
    "s= \"elonmusk is a founder of tesla\"\r\n",
    "print(s[1:9:2])"
   ],
   "outputs": [
    {
     "output_type": "stream",
     "name": "stdout",
     "text": [
      "lnuk\n"
     ]
    }
   ],
   "metadata": {}
  },
  {
   "cell_type": "code",
   "execution_count": 145,
   "source": [
    "s= \"elonmusk is a founder of tesla\"\r\n",
    "print(s[:5])"
   ],
   "outputs": [
    {
     "output_type": "stream",
     "name": "stdout",
     "text": [
      "elonm\n"
     ]
    }
   ],
   "metadata": {}
  },
  {
   "cell_type": "code",
   "execution_count": 146,
   "source": [
    "s= \"elonmusk is a founder of tesla\"\r\n",
    "print(s[7:])"
   ],
   "outputs": [
    {
     "output_type": "stream",
     "name": "stdout",
     "text": [
      "k is a founder of tesla\n"
     ]
    }
   ],
   "metadata": {}
  },
  {
   "cell_type": "code",
   "execution_count": 147,
   "source": [
    "s= \"elonmusk is a founder of tesla\"\r\n",
    "print(s[::])"
   ],
   "outputs": [
    {
     "output_type": "stream",
     "name": "stdout",
     "text": [
      "elonmusk is a founder of tesla\n"
     ]
    }
   ],
   "metadata": {}
  },
  {
   "cell_type": "code",
   "execution_count": 148,
   "source": [
    "s= \"elonmusk is a founder of tesla\"\r\n",
    "print(s[0:5:2])"
   ],
   "outputs": [
    {
     "output_type": "stream",
     "name": "stdout",
     "text": [
      "eom\n"
     ]
    }
   ],
   "metadata": {}
  },
  {
   "cell_type": "code",
   "execution_count": 149,
   "source": [
    "s= \"elonmusk is a founder of tesla\"\r\n",
    "print(s[::-1]) #reverse the string "
   ],
   "outputs": [
    {
     "output_type": "stream",
     "name": "stdout",
     "text": [
      "alset fo rednuof a si ksumnole\n"
     ]
    }
   ],
   "metadata": {}
  },
  {
   "cell_type": "markdown",
   "source": [
    "Behaviour of Slice Operator:\r\n",
    "1) s[bEgin:end:step]\r\n",
    "2) Step value can be either +ve or –ve\r\n",
    "3) If +ve then it should be forward direction(left to right) and we have to consider bEgin \r\n",
    "to end-1\r\n",
    "4) If -ve then it should be backward direction (right to left) and we have to consider bEgin \r\n",
    "to end+1.\r\n",
    "\r\n",
    "***Note:\r\n",
    " In the backward direction if end value is -1 then result is always empty.\r\n",
    " In the forward direction if end value is 0 then result is always empty. \r\n"
   ],
   "metadata": {}
  },
  {
   "cell_type": "markdown",
   "source": [
    "In Forward Direction:\r\n",
    "default value for bEgin: 0\r\n",
    "default value for end: length of string\r\n",
    "\r\n",
    "default value for step: +1\r\n",
    "In Backward Direction:\r\n",
    "\r\n",
    "default value for bEgin: -1\r\n",
    "default value for end: -(length of string+1)"
   ],
   "metadata": {}
  },
  {
   "cell_type": "code",
   "execution_count": 150,
   "source": [
    "z =\"abcdefghijkl\"\r\n",
    "print(z[-4:-1:2])"
   ],
   "outputs": [
    {
     "output_type": "stream",
     "name": "stdout",
     "text": [
      "ik\n"
     ]
    }
   ],
   "metadata": {}
  },
  {
   "cell_type": "code",
   "execution_count": 151,
   "source": [
    "z =\"abcdefghijkl\"\r\n",
    "print(z[-4:-1:2])\r\n"
   ],
   "outputs": [
    {
     "output_type": "stream",
     "name": "stdout",
     "text": [
      "ik\n"
     ]
    }
   ],
   "metadata": {}
  },
  {
   "cell_type": "code",
   "execution_count": 152,
   "source": [
    "print(z[5:0:1])"
   ],
   "outputs": [
    {
     "output_type": "stream",
     "name": "stdout",
     "text": [
      "\n"
     ]
    }
   ],
   "metadata": {}
  },
  {
   "cell_type": "code",
   "execution_count": 153,
   "source": [
    "z[1000:2:-1]"
   ],
   "outputs": [
    {
     "output_type": "display_data",
     "data": {
      "text/plain": [
       "'lkjihgfed'"
      ]
     },
     "metadata": {}
    }
   ],
   "metadata": {}
  },
  {
   "cell_type": "markdown",
   "source": [
    "mathematic oprator for string"
   ],
   "metadata": {}
  },
  {
   "cell_type": "code",
   "execution_count": 154,
   "source": [
    "a= \"elon\"\r\n",
    "b= \"musk\"\r\n",
    "print(a+b) #+ operator for concatenation"
   ],
   "outputs": [
    {
     "output_type": "stream",
     "name": "stdout",
     "text": [
      "elonmusk\n"
     ]
    }
   ],
   "metadata": {}
  },
  {
   "cell_type": "code",
   "execution_count": 155,
   "source": [
    "a= \"elon\"\r\n",
    "b= \"musk\"\r\n",
    "print(a*5) #* operator for repetition\r\n",
    "#1) To use + operator for Strings, compulsory both arguments should be str type.\r\n",
    "#2) To use * operator for Strings, compulsory one argument should be str and other\r\n",
    "#argument should be int"
   ],
   "outputs": [
    {
     "output_type": "stream",
     "name": "stdout",
     "text": [
      "elonelonelonelonelon\n"
     ]
    }
   ],
   "metadata": {}
  },
  {
   "cell_type": "markdown",
   "source": [
    "Question on strings"
   ],
   "metadata": {}
  },
  {
   "cell_type": "code",
   "execution_count": 156,
   "source": [
    "#Q) Write a Program to access each Character of String in \r\n",
    "# Forward and Backward Direction by using while Loop?\r\n",
    "name = \"bill gates \"\r\n",
    "n=len(name)\r\n",
    "i=0\r\n",
    "print(\"forward direction\")\r\n",
    "while(i<n):\r\n",
    "    print(i,name[i],end=\"\")\r\n",
    "    i=i+1\r\n",
    "print(\"backward\")\r\n",
    "i=-1\r\n",
    "while(i>=-n):\r\n",
    "    print(i,name[i],end=\"\")\r\n",
    "    i=i-1"
   ],
   "outputs": [
    {
     "output_type": "stream",
     "name": "stdout",
     "text": [
      "forward direction\n",
      "0 b1 i2 l3 l4  5 g6 a7 t8 e9 s10  backward\n",
      "-1  -2 s-3 e-4 t-5 a-6 g-7  -8 l-9 l-10 i-11 b"
     ]
    }
   ],
   "metadata": {}
  },
  {
   "cell_type": "code",
   "execution_count": 212,
   "source": [
    "# backward\r\n",
    "name = \"bill gates \"\r\n",
    "n=(len(name))\r\n",
    "i=-1\r\n",
    "print(\"backward\")\r\n",
    "while(i>=-n):\r\n",
    "    print(name[i])\r\n",
    "    i=i-1"
   ],
   "outputs": [
    {
     "output_type": "stream",
     "name": "stdout",
     "text": [
      "backward\n",
      " \n",
      "s\n",
      "e\n",
      "t\n",
      "a\n",
      "g\n",
      " \n",
      "l\n",
      "l\n",
      "i\n",
      "b\n"
     ]
    }
   ],
   "metadata": {}
  },
  {
   "cell_type": "code",
   "execution_count": 207,
   "source": [
    "name = \"richard\"\r\n",
    "for i in name[::-1]:\r\n",
    "    print(i)"
   ],
   "outputs": [
    {
     "output_type": "stream",
     "name": "stdout",
     "text": [
      "d\n",
      "r\n",
      "a\n",
      "h\n",
      "c\n",
      "i\n",
      "r\n"
     ]
    }
   ],
   "metadata": {}
  },
  {
   "cell_type": "code",
   "execution_count": 5,
   "source": [
    "name = \"richard\"\r\n",
    "s= len(name)\r\n",
    "i=-1\r\n",
    "while(i>-s):\r\n",
    "    print(i,name[i])\r\n",
    "    i=i-1"
   ],
   "outputs": [
    {
     "output_type": "stream",
     "name": "stdout",
     "text": [
      "-1 d\n",
      "-2 r\n",
      "-3 a\n",
      "-4 h\n",
      "-5 c\n",
      "-6 i\n"
     ]
    }
   ],
   "metadata": {}
  },
  {
   "cell_type": "code",
   "execution_count": 10,
   "source": [
    "#Splitting of Strings:\\\r\n",
    "a =\"prashant mohan chavna \"\r\n",
    "l= a.split()\r\n",
    "for i in l:\r\n",
    "    print(i)"
   ],
   "outputs": [
    {
     "output_type": "stream",
     "name": "stdout",
     "text": [
      "prashant\n",
      "mohan\n",
      "chavna\n"
     ]
    }
   ],
   "metadata": {}
  },
  {
   "cell_type": "code",
   "execution_count": 18,
   "source": [
    "b=\"20-12-30\"\r\n",
    "a = b.split(\"-\")\r\n",
    "for i in a:\r\n",
    "    print(i)"
   ],
   "outputs": [
    {
     "output_type": "stream",
     "name": "stdout",
     "text": [
      "20\n",
      "12\n",
      "30\n"
     ]
    }
   ],
   "metadata": {}
  },
  {
   "cell_type": "markdown",
   "source": [
    "Joining of Strings:\r\n",
    "We can join a Group of Strings (List OR Tuple) wrt the given Seperator.\r\n",
    "s = seperator.join(group of strings)"
   ],
   "metadata": {}
  },
  {
   "cell_type": "code",
   "execution_count": 23,
   "source": [
    "s=\"prashant\",\"mohan\",\"chavan\"\r\n",
    "a=\",\".join(s)\r\n",
    "print(a)"
   ],
   "outputs": [
    {
     "output_type": "stream",
     "name": "stdout",
     "text": [
      "prashant,mohan,chavan\n"
     ]
    }
   ],
   "metadata": {}
  },
  {
   "cell_type": "code",
   "execution_count": 33,
   "source": [],
   "outputs": [
    {
     "output_type": "error",
     "ename": "AttributeError",
     "evalue": "'str' object has no attribute 'len'",
     "traceback": [
      "\u001b[1;31m---------------------------------------------------------------------------\u001b[0m",
      "\u001b[1;31mAttributeError\u001b[0m                            Traceback (most recent call last)",
      "\u001b[1;32m~\\AppData\\Local\\Temp/ipykernel_10496/190179770.py\u001b[0m in \u001b[0;36m<module>\u001b[1;34m\u001b[0m\n\u001b[0;32m      3\u001b[0m \u001b[0ml\u001b[0m\u001b[1;33m=\u001b[0m\u001b[0ms\u001b[0m\u001b[1;33m.\u001b[0m\u001b[0msplit\u001b[0m\u001b[1;33m(\u001b[0m\u001b[1;33m)\u001b[0m\u001b[1;33m\u001b[0m\u001b[1;33m\u001b[0m\u001b[0m\n\u001b[0;32m      4\u001b[0m \u001b[0ml1\u001b[0m\u001b[1;33m=\u001b[0m\u001b[1;33m[\u001b[0m\u001b[1;33m]\u001b[0m\u001b[1;33m\u001b[0m\u001b[1;33m\u001b[0m\u001b[0m\n\u001b[1;32m----> 5\u001b[1;33m \u001b[0mi\u001b[0m\u001b[1;33m=\u001b[0m\u001b[0ms\u001b[0m\u001b[1;33m.\u001b[0m\u001b[0mlen\u001b[0m\u001b[1;33m(\u001b[0m\u001b[0ml\u001b[0m\u001b[1;33m)\u001b[0m\u001b[1;33m-\u001b[0m\u001b[1;36m1\u001b[0m\u001b[1;33m\u001b[0m\u001b[1;33m\u001b[0m\u001b[0m\n\u001b[0m\u001b[0;32m      6\u001b[0m \u001b[1;32mwhile\u001b[0m\u001b[1;33m(\u001b[0m\u001b[0mi\u001b[0m\u001b[1;33m>\u001b[0m\u001b[1;36m0\u001b[0m\u001b[1;33m)\u001b[0m\u001b[1;33m:\u001b[0m\u001b[1;33m\u001b[0m\u001b[1;33m\u001b[0m\u001b[0m\n\u001b[0;32m      7\u001b[0m     \u001b[0ml1\u001b[0m\u001b[1;33m.\u001b[0m\u001b[0mappend\u001b[0m\u001b[1;33m(\u001b[0m\u001b[0ml\u001b[0m\u001b[1;33m(\u001b[0m\u001b[0mi\u001b[0m\u001b[1;33m)\u001b[0m\u001b[1;33m)\u001b[0m\u001b[1;33m\u001b[0m\u001b[1;33m\u001b[0m\u001b[0m\n",
      "\u001b[1;31mAttributeError\u001b[0m: 'str' object has no attribute 'len'"
     ]
    }
   ],
   "metadata": {}
  },
  {
   "cell_type": "code",
   "execution_count": 39,
   "source": [
    "    "
   ],
   "outputs": [
    {
     "output_type": "stream",
     "name": "stdout",
     "text": [
      "dfh\n"
     ]
    }
   ],
   "metadata": {}
  }
 ],
 "metadata": {
  "orig_nbformat": 4,
  "language_info": {
   "name": "python",
   "version": "3.9.6",
   "mimetype": "text/x-python",
   "codemirror_mode": {
    "name": "ipython",
    "version": 3
   },
   "pygments_lexer": "ipython3",
   "nbconvert_exporter": "python",
   "file_extension": ".py"
  },
  "kernelspec": {
   "name": "python3",
   "display_name": "Python 3.9.6 64-bit"
  },
  "interpreter": {
   "hash": "ac59ebe37160ed0dfa835113d9b8498d9f09ceb179beaac4002f036b9467c963"
  }
 },
 "nbformat": 4,
 "nbformat_minor": 2
}