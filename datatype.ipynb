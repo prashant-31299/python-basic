{
 "cells": [
  {
   "cell_type": "code",
   "execution_count": null,
   "source": [],
   "outputs": [],
   "metadata": {}
  },
  {
   "cell_type": "markdown",
   "source": [
    "## variables dataypes and canc Data Type represents the type of data present inside a variable.\r\n",
    "# In Python we are not required to specify the type explicitly. Based on value provided,\r\n",
    "#the type will be assigned automatically.Hence Python is dynamically Typed Language"
   ],
   "metadata": {}
  },
  {
   "cell_type": "code",
   "execution_count": null,
   "source": [],
   "outputs": [],
   "metadata": {}
  },
  {
   "cell_type": "markdown",
   "source": [
    "1) Int\r\n",
    "2) Float\r\n",
    "3) Complex\r\n",
    "4) Bool\r\n",
    "5) Str\r\n",
    "6) Bytes\r\n",
    "7) Bytearray\r\n",
    "8) Range\r\n",
    "9) List\r\n",
    "10) Tuple\r\n",
    "11) Set\r\n",
    "12) Frozenset\r\n",
    "13) Dict\r\n",
    "14) None\r\n",
    "\r\n",
    "\r\n",
    "they are data types in python "
   ],
   "metadata": {}
  },
  {
   "cell_type": "code",
   "execution_count": 3,
   "source": [
    "# We can use int data type to represent whole numbers (integral values)\r\n",
    "a= 10\r\n",
    "print(a)\r\n",
    "print(type(a))"
   ],
   "outputs": [
    {
     "output_type": "stream",
     "name": "stdout",
     "text": [
      "10\n",
      "<class 'int'>\n"
     ]
    }
   ],
   "metadata": {}
  },
  {
   "cell_type": "code",
   "execution_count": 5,
   "source": [
    "#FLOAT \r\n",
    "# We can use float data type to represent floating point values (decimal values)\r\n",
    "a=10.1\r\n",
    "print(a)\r\n",
    "print(type(a))"
   ],
   "outputs": [
    {
     "output_type": "stream",
     "name": "stdout",
     "text": [
      "10.1\n",
      "<class 'float'>\n"
     ]
    }
   ],
   "metadata": {}
  },
  {
   "cell_type": "code",
   "execution_count": 10,
   "source": [
    "#Complex Data Type:\r\n",
    "# In the real part if we use int value then we can specify that either by decimal, octal,\r\n",
    "#binary or hexa decimal form.\r\n",
    "# But imaginary part should be specified only by using decimal form\r\n",
    "a=0B11+5j \r\n",
    "print(a)\r\n",
    "print(type(a))"
   ],
   "outputs": [
    {
     "output_type": "stream",
     "name": "stdout",
     "text": [
      "(3+5j)\n",
      "<class 'complex'>\n"
     ]
    }
   ],
   "metadata": {}
  },
  {
   "cell_type": "code",
   "execution_count": 12,
   "source": [
    "#bool Data Type: is a true or false\r\n",
    "a =10\r\n",
    "b =20\r\n",
    "print(a<b)\r\n",
    "print(a>b)"
   ],
   "outputs": [
    {
     "output_type": "stream",
     "name": "stdout",
     "text": [
      "True\n",
      "False\n"
     ]
    }
   ],
   "metadata": {}
  },
  {
   "cell_type": "code",
   "execution_count": 19,
   "source": [
    "#str Data Type: str represents String data type.\r\n",
    "# A String is a sequence of characters enclosed within single quotes or double\r\n",
    "#quotes.\r\n",
    "a = \"prashant \"\r\n",
    "print(a)\r\n",
    "print(type(a))\r\n",
    "\r\n",
    "# we convert int float in str usin\r\n",
    "\r\n",
    "b= 10\r\n",
    "c=20.20\r\n",
    "print(str(b))\r\n",
    "print(str(c))"
   ],
   "outputs": [
    {
     "output_type": "stream",
     "name": "stdout",
     "text": [
      "prashant \n",
      "<class 'str'>\n",
      "10\n",
      "20.2\n"
     ]
    }
   ],
   "metadata": {}
  },
  {
   "cell_type": "code",
   "execution_count": null,
   "source": [],
   "outputs": [],
   "metadata": {}
  },
  {
   "cell_type": "markdown",
   "source": [
    "#TYPE CASTING\r\n",
    "֍ We can convert one type value to another type. This conversion is called Typecasting\r\n",
    "or Type coersion.\r\n",
    "֍ The following are various inbuilt functions for type casting.\r\n",
    "1) int()\r\n",
    "2) float()\r\n",
    "3) complex()\r\n",
    "4) bool()\r\n",
    "5) str()\r\n"
   ],
   "metadata": {}
  },
  {
   "cell_type": "code",
   "execution_count": 32,
   "source": [
    "a = \"10\"\r\n",
    "print(int(a))\r\n",
    "print(type(int(a)))\r\n",
    "\r\n"
   ],
   "outputs": [
    {
     "output_type": "stream",
     "name": "stdout",
     "text": [
      "10\n",
      "<class 'int'>\n"
     ]
    },
    {
     "output_type": "error",
     "ename": "ValueError",
     "evalue": "invalid literal for int() with base 10: '4.5'",
     "traceback": [
      "\u001b[1;31m---------------------------------------------------------------------------\u001b[0m",
      "\u001b[1;31mValueError\u001b[0m                                Traceback (most recent call last)",
      "\u001b[1;32m~\\AppData\\Local\\Temp/ipykernel_6324/2310765351.py\u001b[0m in \u001b[0;36m<module>\u001b[1;34m\u001b[0m\n\u001b[0;32m      4\u001b[0m \u001b[1;33m\u001b[0m\u001b[0m\n\u001b[0;32m      5\u001b[0m \u001b[0mb\u001b[0m\u001b[1;33m=\u001b[0m\u001b[1;34m\"4.5\"\u001b[0m\u001b[1;33m\u001b[0m\u001b[1;33m\u001b[0m\u001b[0m\n\u001b[1;32m----> 6\u001b[1;33m \u001b[0mprint\u001b[0m\u001b[1;33m(\u001b[0m\u001b[0mint\u001b[0m\u001b[1;33m(\u001b[0m\u001b[0mb\u001b[0m\u001b[1;33m)\u001b[0m\u001b[1;33m)\u001b[0m\u001b[1;33m\u001b[0m\u001b[1;33m\u001b[0m\u001b[0m\n\u001b[0m",
      "\u001b[1;31mValueError\u001b[0m: invalid literal for int() with base 10: '4.5'"
     ]
    }
   ],
   "metadata": {}
  },
  {
   "cell_type": "markdown",
   "source": [
    "11) >>> int(\"10.5\")\r\n",
    "12) ValueError: invalid literal for int() with base 10: '10.5'\r\n",
    "13) >>> int(\"ten\")\r\n",
    "14) ValueError: invalid literal for int() with base 10: 'ten'\r\n",
    "15) >>> int(\"0B1111\")\r\n",
    "16) ValueError: invalid literal for int() with base 10: '0B1111' "
   ],
   "metadata": {}
  },
  {
   "cell_type": "code",
   "execution_count": 36,
   "source": [
    "#input and output 2\r\n",
    "# sum of two input numbers\r\n",
    "# by default input() function get a value in string so convert in int using int()\r\n",
    "num1 = int(input())\r\n",
    "num2 = int(input())\r\n",
    "print(num1 + num2)"
   ],
   "outputs": [
    {
     "output_type": "stream",
     "name": "stdout",
     "text": [
      "11\n"
     ]
    }
   ],
   "metadata": {}
  },
  {
   "cell_type": "code",
   "execution_count": null,
   "source": [
    "4"
   ],
   "outputs": [],
   "metadata": {}
  }
 ],
 "metadata": {
  "orig_nbformat": 4,
  "language_info": {
   "name": "python",
   "version": "3.9.6",
   "mimetype": "text/x-python",
   "codemirror_mode": {
    "name": "ipython",
    "version": 3
   },
   "pygments_lexer": "ipython3",
   "nbconvert_exporter": "python",
   "file_extension": ".py"
  },
  "kernelspec": {
   "name": "python3",
   "display_name": "Python 3.9.6 64-bit"
  },
  "interpreter": {
   "hash": "ac59ebe37160ed0dfa835113d9b8498d9f09ceb179beaac4002f036b9467c963"
  }
 },
 "nbformat": 4,
 "nbformat_minor": 2
}